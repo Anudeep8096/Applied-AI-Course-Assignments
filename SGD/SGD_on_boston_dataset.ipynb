{
 "cells": [
  {
   "cell_type": "code",
   "execution_count": 1,
   "metadata": {},
   "outputs": [],
   "source": [
    "import numpy as np"
   ]
  },
  {
   "cell_type": "code",
   "execution_count": 2,
   "metadata": {},
   "outputs": [],
   "source": [
    "from sklearn.linear_model import LinearRegression"
   ]
  },
  {
   "cell_type": "code",
   "execution_count": 3,
   "metadata": {},
   "outputs": [],
   "source": [
    "from sklearn.datasets import load_boston"
   ]
  },
  {
   "cell_type": "code",
   "execution_count": 4,
   "metadata": {},
   "outputs": [],
   "source": [
    "boston_obj = load_boston() ## return python dictionary-like object (of Bunch class)"
   ]
  },
  {
   "cell_type": "code",
   "execution_count": 5,
   "metadata": {},
   "outputs": [
    {
     "data": {
      "text/plain": [
       "sklearn.utils.Bunch"
      ]
     },
     "execution_count": 5,
     "metadata": {},
     "output_type": "execute_result"
    }
   ],
   "source": [
    "type(boston_obj)"
   ]
  },
  {
   "cell_type": "code",
   "execution_count": 6,
   "metadata": {},
   "outputs": [
    {
     "data": {
      "text/plain": [
       "numpy.ndarray"
      ]
     },
     "execution_count": 6,
     "metadata": {},
     "output_type": "execute_result"
    }
   ],
   "source": [
    "type(boston_obj.data)"
   ]
  },
  {
   "cell_type": "code",
   "execution_count": 7,
   "metadata": {},
   "outputs": [],
   "source": [
    "boston_feature_values = boston_obj.data\n",
    "boston_target_values = boston_obj.target"
   ]
  },
  {
   "cell_type": "code",
   "execution_count": 8,
   "metadata": {},
   "outputs": [],
   "source": [
    "# print(boston_obj.DESCR)"
   ]
  },
  {
   "cell_type": "code",
   "execution_count": 9,
   "metadata": {},
   "outputs": [
    {
     "data": {
      "text/plain": [
       "['DESCR', 'data', 'feature_names', 'target']"
      ]
     },
     "execution_count": 9,
     "metadata": {},
     "output_type": "execute_result"
    }
   ],
   "source": [
    "dir(boston_obj)"
   ]
  },
  {
   "cell_type": "code",
   "execution_count": 10,
   "metadata": {},
   "outputs": [
    {
     "data": {
      "text/plain": [
       "(506, 13)"
      ]
     },
     "execution_count": 10,
     "metadata": {},
     "output_type": "execute_result"
    }
   ],
   "source": [
    "boston_feature_values.shape"
   ]
  },
  {
   "cell_type": "code",
   "execution_count": 11,
   "metadata": {},
   "outputs": [
    {
     "data": {
      "text/plain": [
       "(506,)"
      ]
     },
     "execution_count": 11,
     "metadata": {},
     "output_type": "execute_result"
    }
   ],
   "source": [
    "boston_target_values.shape"
   ]
  },
  {
   "cell_type": "code",
   "execution_count": 12,
   "metadata": {},
   "outputs": [],
   "source": [
    "from sklearn.preprocessing import StandardScaler\n",
    "\n",
    "std_scaler = StandardScaler()\n",
    "\n",
    "std_scaler = std_scaler.fit(boston_feature_values)\n",
    "boston_feature_values = std_scaler.transform(boston_feature_values)"
   ]
  },
  {
   "cell_type": "code",
   "execution_count": 13,
   "metadata": {},
   "outputs": [],
   "source": [
    "def my_sgdRegressor(X, y, initial_weights, initial_learning_rate):\n",
    "    n = X.shape[0]\n",
    "    d = X.shape[1]\n",
    "#     weights = initial_weights ### weights: (d X 1)\n",
    "    weights = np.zeros((d, 1))\n",
    "    learning_rate = initial_learning_rate\n",
    "    \n",
    "    iterations = 0\n",
    "    while(True):\n",
    "        ### random initialisation heavily affects the final training error \n",
    "        random_row_index = np.random.randint(0, n, size = 1)\n",
    "        \n",
    "        random_row = X[random_row_index].reshape(d, 1) ### X[r_r_i]: a row vector (1 X d), reshaped to d X 1\n",
    "#         print(random_row_index, end = ' ')\n",
    "        y_pred = np.dot(weights.T, random_row) ### a real number (returned value by dot is 1 X 1 matrix)\n",
    "        \n",
    "        error = y[random_row_index] - y_pred ### for current randomly chosen row, error: n X 1 matrix\n",
    "        \n",
    "        grad = -2*error*random_row ### for current randomly chosen row; grad: d X 1\n",
    "        \n",
    "        preupdation_weights = weights\n",
    "#         print('grad shape' + str(grad.shape))\n",
    "#         print('weights.shape' + str(weights.shape))\n",
    "        weights = weights - learning_rate * grad\n",
    "        \n",
    "        change_in_weights = weights - preupdation_weights\n",
    "        distance_bw_weights = np.sqrt(np.sum(change_in_weights**2))\n",
    "        \n",
    "        iterations += 1\n",
    "        print('>iteration=%d, lrate=%.3f, error=%.3f' % (iterations, learning_rate, error**2))\n",
    "#         print(change_in_weights)\n",
    "        if(iterations > 1 and distance_bw_weights < 0.001):\n",
    "            break\n",
    "               \n",
    "#         learning_rate /= 2\n",
    "    \n",
    "    print(iterations)\n",
    "    return weights"
   ]
  },
  {
   "cell_type": "code",
   "execution_count": 14,
   "metadata": {},
   "outputs": [],
   "source": [
    "ones = np.ones(shape = (boston_feature_values.shape[0], 1))\n",
    "X = np.concatenate([ones, boston_feature_values], axis = 1)"
   ]
  },
  {
   "cell_type": "code",
   "execution_count": 15,
   "metadata": {},
   "outputs": [
    {
     "data": {
      "text/plain": [
       "array([[ 1.        , -0.41771335,  0.28482986, -1.2879095 , -0.27259857,\n",
       "        -0.14421743,  0.41367189, -0.12001342,  0.1402136 , -0.98284286,\n",
       "        -0.66660821, -1.45900038,  0.44105193, -1.0755623 ],\n",
       "       [ 1.        , -0.41526932, -0.48772236, -0.59338101, -0.27259857,\n",
       "        -0.74026221,  0.19427445,  0.36716642,  0.55715988, -0.8678825 ,\n",
       "        -0.98732948, -0.30309415,  0.44105193, -0.49243937]])"
      ]
     },
     "execution_count": 15,
     "metadata": {},
     "output_type": "execute_result"
    }
   ],
   "source": [
    "X[:2]"
   ]
  },
  {
   "cell_type": "code",
   "execution_count": 16,
   "metadata": {},
   "outputs": [],
   "source": [
    "n = X.shape[0]\n",
    "d = X.shape[1]"
   ]
  },
  {
   "cell_type": "code",
   "execution_count": 17,
   "metadata": {},
   "outputs": [
    {
     "name": "stdout",
     "output_type": "stream",
     "text": [
      "506\n",
      "14\n"
     ]
    }
   ],
   "source": [
    "print(n, d,sep = '\\n')"
   ]
  },
  {
   "cell_type": "code",
   "execution_count": 18,
   "metadata": {},
   "outputs": [],
   "source": [
    "y = boston_target_values.reshape(n, 1)"
   ]
  },
  {
   "cell_type": "code",
   "execution_count": 19,
   "metadata": {},
   "outputs": [],
   "source": [
    "### random initialisation heavily affects the final training error \n",
    "initial_weights = np.random.normal(size = (d, 1)) ### initial_weights is d X 1 matrix"
   ]
  },
  {
   "cell_type": "code",
   "execution_count": 20,
   "metadata": {},
   "outputs": [
    {
     "data": {
      "text/plain": [
       "(14, 1)"
      ]
     },
     "execution_count": 20,
     "metadata": {},
     "output_type": "execute_result"
    }
   ],
   "source": [
    "initial_weights.shape"
   ]
  },
  {
   "cell_type": "code",
   "execution_count": 21,
   "metadata": {
    "scrolled": true
   },
   "outputs": [
    {
     "name": "stdout",
     "output_type": "stream",
     "text": [
      ">iteration=1, lrate=0.001, error=222.010\n",
      ">iteration=2, lrate=0.001, error=474.328\n",
      ">iteration=3, lrate=0.001, error=522.864\n",
      ">iteration=4, lrate=0.001, error=81.498\n",
      ">iteration=5, lrate=0.001, error=289.779\n",
      ">iteration=6, lrate=0.001, error=1042.123\n",
      ">iteration=7, lrate=0.001, error=347.447\n",
      ">iteration=8, lrate=0.001, error=763.075\n",
      ">iteration=9, lrate=0.001, error=596.299\n",
      ">iteration=10, lrate=0.001, error=1212.725\n",
      ">iteration=11, lrate=0.001, error=431.295\n",
      ">iteration=12, lrate=0.001, error=2483.076\n",
      ">iteration=13, lrate=0.001, error=665.892\n",
      ">iteration=14, lrate=0.001, error=934.396\n",
      ">iteration=15, lrate=0.001, error=540.403\n",
      ">iteration=16, lrate=0.001, error=201.836\n",
      ">iteration=17, lrate=0.001, error=423.259\n",
      ">iteration=18, lrate=0.001, error=861.762\n",
      ">iteration=19, lrate=0.001, error=464.509\n",
      ">iteration=20, lrate=0.001, error=330.383\n",
      ">iteration=21, lrate=0.001, error=368.662\n",
      ">iteration=22, lrate=0.001, error=493.796\n",
      ">iteration=23, lrate=0.001, error=414.923\n",
      ">iteration=24, lrate=0.001, error=981.081\n",
      ">iteration=25, lrate=0.001, error=98.185\n",
      ">iteration=26, lrate=0.001, error=235.024\n",
      ">iteration=27, lrate=0.001, error=1684.201\n",
      ">iteration=28, lrate=0.001, error=153.880\n",
      ">iteration=29, lrate=0.001, error=97.851\n",
      ">iteration=30, lrate=0.001, error=203.020\n",
      ">iteration=31, lrate=0.001, error=470.393\n",
      ">iteration=32, lrate=0.001, error=269.394\n",
      ">iteration=33, lrate=0.001, error=193.983\n",
      ">iteration=34, lrate=0.001, error=148.715\n",
      ">iteration=35, lrate=0.001, error=347.755\n",
      ">iteration=36, lrate=0.001, error=1951.019\n",
      ">iteration=37, lrate=0.001, error=384.065\n",
      ">iteration=38, lrate=0.001, error=404.807\n",
      ">iteration=39, lrate=0.001, error=906.664\n",
      ">iteration=40, lrate=0.001, error=392.003\n",
      ">iteration=41, lrate=0.001, error=382.772\n",
      ">iteration=42, lrate=0.001, error=395.401\n",
      ">iteration=43, lrate=0.001, error=230.599\n",
      ">iteration=44, lrate=0.001, error=257.263\n",
      ">iteration=45, lrate=0.001, error=372.379\n",
      ">iteration=46, lrate=0.001, error=211.621\n",
      ">iteration=47, lrate=0.001, error=161.088\n",
      ">iteration=48, lrate=0.001, error=357.858\n",
      ">iteration=49, lrate=0.001, error=173.258\n",
      ">iteration=50, lrate=0.001, error=318.193\n",
      ">iteration=51, lrate=0.001, error=335.579\n",
      ">iteration=52, lrate=0.001, error=181.218\n",
      ">iteration=53, lrate=0.001, error=386.567\n",
      ">iteration=54, lrate=0.001, error=106.555\n",
      ">iteration=55, lrate=0.001, error=570.091\n",
      ">iteration=56, lrate=0.001, error=327.546\n",
      ">iteration=57, lrate=0.001, error=499.681\n",
      ">iteration=58, lrate=0.001, error=1239.474\n",
      ">iteration=59, lrate=0.001, error=216.890\n",
      ">iteration=60, lrate=0.001, error=70.197\n",
      ">iteration=61, lrate=0.001, error=329.314\n",
      ">iteration=62, lrate=0.001, error=608.815\n",
      ">iteration=63, lrate=0.001, error=71.392\n",
      ">iteration=64, lrate=0.001, error=271.619\n",
      ">iteration=65, lrate=0.001, error=980.126\n",
      ">iteration=66, lrate=0.001, error=150.094\n",
      ">iteration=67, lrate=0.001, error=357.823\n",
      ">iteration=68, lrate=0.001, error=270.304\n",
      ">iteration=69, lrate=0.001, error=153.803\n",
      ">iteration=70, lrate=0.001, error=726.060\n",
      ">iteration=71, lrate=0.001, error=466.048\n",
      ">iteration=72, lrate=0.001, error=217.919\n",
      ">iteration=73, lrate=0.001, error=387.549\n",
      ">iteration=74, lrate=0.001, error=668.400\n",
      ">iteration=75, lrate=0.001, error=542.774\n",
      ">iteration=76, lrate=0.001, error=399.120\n",
      ">iteration=77, lrate=0.001, error=232.405\n",
      ">iteration=78, lrate=0.001, error=197.288\n",
      ">iteration=79, lrate=0.001, error=343.058\n",
      ">iteration=80, lrate=0.001, error=204.132\n",
      ">iteration=81, lrate=0.001, error=49.581\n",
      ">iteration=82, lrate=0.001, error=295.195\n",
      ">iteration=83, lrate=0.001, error=308.571\n",
      ">iteration=84, lrate=0.001, error=365.801\n",
      ">iteration=85, lrate=0.001, error=707.044\n",
      ">iteration=86, lrate=0.001, error=136.255\n",
      ">iteration=87, lrate=0.001, error=282.510\n",
      ">iteration=88, lrate=0.001, error=151.216\n",
      ">iteration=89, lrate=0.001, error=197.833\n",
      ">iteration=90, lrate=0.001, error=1251.361\n",
      ">iteration=91, lrate=0.001, error=309.633\n",
      ">iteration=92, lrate=0.001, error=81.452\n",
      ">iteration=93, lrate=0.001, error=209.809\n",
      ">iteration=94, lrate=0.001, error=358.403\n",
      ">iteration=95, lrate=0.001, error=293.616\n",
      ">iteration=96, lrate=0.001, error=201.936\n",
      ">iteration=97, lrate=0.001, error=324.834\n",
      ">iteration=98, lrate=0.001, error=85.794\n",
      ">iteration=99, lrate=0.001, error=280.329\n",
      ">iteration=100, lrate=0.001, error=258.712\n",
      ">iteration=101, lrate=0.001, error=775.147\n",
      ">iteration=102, lrate=0.001, error=571.440\n",
      ">iteration=103, lrate=0.001, error=868.736\n",
      ">iteration=104, lrate=0.001, error=320.964\n",
      ">iteration=105, lrate=0.001, error=186.085\n",
      ">iteration=106, lrate=0.001, error=515.233\n",
      ">iteration=107, lrate=0.001, error=370.184\n",
      ">iteration=108, lrate=0.001, error=275.612\n",
      ">iteration=109, lrate=0.001, error=312.845\n",
      ">iteration=110, lrate=0.001, error=626.702\n",
      ">iteration=111, lrate=0.001, error=394.610\n",
      ">iteration=112, lrate=0.001, error=157.844\n",
      ">iteration=113, lrate=0.001, error=160.793\n",
      ">iteration=114, lrate=0.001, error=138.727\n",
      ">iteration=115, lrate=0.001, error=223.412\n",
      ">iteration=116, lrate=0.001, error=188.340\n",
      ">iteration=117, lrate=0.001, error=237.699\n",
      ">iteration=118, lrate=0.001, error=377.444\n",
      ">iteration=119, lrate=0.001, error=222.356\n",
      ">iteration=120, lrate=0.001, error=282.671\n",
      ">iteration=121, lrate=0.001, error=204.161\n",
      ">iteration=122, lrate=0.001, error=468.576\n",
      ">iteration=123, lrate=0.001, error=216.879\n",
      ">iteration=124, lrate=0.001, error=256.731\n",
      ">iteration=125, lrate=0.001, error=934.087\n",
      ">iteration=126, lrate=0.001, error=189.784\n",
      ">iteration=127, lrate=0.001, error=140.167\n",
      ">iteration=128, lrate=0.001, error=277.696\n",
      ">iteration=129, lrate=0.001, error=285.474\n",
      ">iteration=130, lrate=0.001, error=453.916\n",
      ">iteration=131, lrate=0.001, error=1854.656\n",
      ">iteration=132, lrate=0.001, error=215.519\n",
      ">iteration=133, lrate=0.001, error=342.125\n",
      ">iteration=134, lrate=0.001, error=309.918\n",
      ">iteration=135, lrate=0.001, error=142.056\n",
      ">iteration=136, lrate=0.001, error=157.702\n",
      ">iteration=137, lrate=0.001, error=748.399\n",
      ">iteration=138, lrate=0.001, error=307.236\n",
      ">iteration=139, lrate=0.001, error=188.335\n",
      ">iteration=140, lrate=0.001, error=339.053\n",
      ">iteration=141, lrate=0.001, error=373.438\n",
      ">iteration=142, lrate=0.001, error=302.099\n",
      ">iteration=143, lrate=0.001, error=348.408\n",
      ">iteration=144, lrate=0.001, error=210.289\n",
      ">iteration=145, lrate=0.001, error=237.480\n",
      ">iteration=146, lrate=0.001, error=263.082\n",
      ">iteration=147, lrate=0.001, error=196.984\n",
      ">iteration=148, lrate=0.001, error=194.066\n",
      ">iteration=149, lrate=0.001, error=94.827\n",
      ">iteration=150, lrate=0.001, error=590.211\n",
      ">iteration=151, lrate=0.001, error=296.910\n",
      ">iteration=152, lrate=0.001, error=440.176\n",
      ">iteration=153, lrate=0.001, error=111.048\n",
      ">iteration=154, lrate=0.001, error=105.747\n",
      ">iteration=155, lrate=0.001, error=517.027\n",
      ">iteration=156, lrate=0.001, error=371.099\n",
      ">iteration=157, lrate=0.001, error=82.963\n",
      ">iteration=158, lrate=0.001, error=110.325\n",
      ">iteration=159, lrate=0.001, error=199.531\n",
      ">iteration=160, lrate=0.001, error=203.050\n",
      ">iteration=161, lrate=0.001, error=15.842\n",
      ">iteration=162, lrate=0.001, error=874.225\n",
      ">iteration=163, lrate=0.001, error=241.021\n",
      ">iteration=164, lrate=0.001, error=152.050\n",
      ">iteration=165, lrate=0.001, error=2239.579\n",
      ">iteration=166, lrate=0.001, error=80.481\n",
      ">iteration=167, lrate=0.001, error=763.665\n",
      ">iteration=168, lrate=0.001, error=215.770\n",
      ">iteration=169, lrate=0.001, error=158.366\n",
      ">iteration=170, lrate=0.001, error=155.190\n",
      ">iteration=171, lrate=0.001, error=462.635\n",
      ">iteration=172, lrate=0.001, error=136.621\n",
      ">iteration=173, lrate=0.001, error=136.882\n",
      ">iteration=174, lrate=0.001, error=251.076\n",
      ">iteration=175, lrate=0.001, error=223.458\n",
      ">iteration=176, lrate=0.001, error=238.795\n",
      ">iteration=177, lrate=0.001, error=112.595\n",
      ">iteration=178, lrate=0.001, error=339.187\n",
      ">iteration=179, lrate=0.001, error=207.651\n",
      ">iteration=180, lrate=0.001, error=136.205\n",
      ">iteration=181, lrate=0.001, error=92.741\n",
      ">iteration=182, lrate=0.001, error=108.418\n",
      ">iteration=183, lrate=0.001, error=110.098\n",
      ">iteration=184, lrate=0.001, error=131.646\n",
      ">iteration=185, lrate=0.001, error=278.944\n",
      ">iteration=186, lrate=0.001, error=425.817\n",
      ">iteration=187, lrate=0.001, error=214.961\n",
      ">iteration=188, lrate=0.001, error=356.980\n",
      ">iteration=189, lrate=0.001, error=112.786\n",
      ">iteration=190, lrate=0.001, error=278.914\n",
      ">iteration=191, lrate=0.001, error=60.890\n",
      ">iteration=192, lrate=0.001, error=292.033\n",
      ">iteration=193, lrate=0.001, error=878.264\n",
      ">iteration=194, lrate=0.001, error=183.334\n",
      ">iteration=195, lrate=0.001, error=79.735\n",
      ">iteration=196, lrate=0.001, error=173.073\n",
      ">iteration=197, lrate=0.001, error=259.151\n",
      ">iteration=198, lrate=0.001, error=299.189\n",
      ">iteration=199, lrate=0.001, error=1053.102\n",
      ">iteration=200, lrate=0.001, error=86.096\n",
      ">iteration=201, lrate=0.001, error=126.331\n",
      ">iteration=202, lrate=0.001, error=335.448\n",
      ">iteration=203, lrate=0.001, error=93.151\n",
      ">iteration=204, lrate=0.001, error=405.460\n",
      ">iteration=205, lrate=0.001, error=155.078\n",
      ">iteration=206, lrate=0.001, error=119.646\n",
      ">iteration=207, lrate=0.001, error=147.139\n",
      ">iteration=208, lrate=0.001, error=309.818\n",
      ">iteration=209, lrate=0.001, error=130.365\n",
      ">iteration=210, lrate=0.001, error=160.758\n",
      ">iteration=211, lrate=0.001, error=268.666\n",
      ">iteration=212, lrate=0.001, error=107.219\n",
      ">iteration=213, lrate=0.001, error=180.132\n",
      ">iteration=214, lrate=0.001, error=219.942\n",
      ">iteration=215, lrate=0.001, error=170.076\n",
      ">iteration=216, lrate=0.001, error=72.081\n",
      ">iteration=217, lrate=0.001, error=309.134\n",
      ">iteration=218, lrate=0.001, error=284.115\n",
      ">iteration=219, lrate=0.001, error=430.260\n",
      ">iteration=220, lrate=0.001, error=126.409\n",
      ">iteration=221, lrate=0.001, error=125.893\n",
      ">iteration=222, lrate=0.001, error=172.880\n",
      ">iteration=223, lrate=0.001, error=75.411\n",
      ">iteration=224, lrate=0.001, error=186.104\n",
      ">iteration=225, lrate=0.001, error=1202.174\n",
      ">iteration=226, lrate=0.001, error=222.455\n",
      ">iteration=227, lrate=0.001, error=100.565\n",
      ">iteration=228, lrate=0.001, error=55.236\n",
      ">iteration=229, lrate=0.001, error=106.053\n",
      ">iteration=230, lrate=0.001, error=158.905\n",
      ">iteration=231, lrate=0.001, error=239.707\n",
      ">iteration=232, lrate=0.001, error=570.407\n",
      ">iteration=233, lrate=0.001, error=204.985\n",
      ">iteration=234, lrate=0.001, error=352.886\n",
      ">iteration=235, lrate=0.001, error=60.584\n",
      ">iteration=236, lrate=0.001, error=83.448\n",
      ">iteration=237, lrate=0.001, error=64.480\n",
      ">iteration=238, lrate=0.001, error=268.656\n",
      ">iteration=239, lrate=0.001, error=213.121\n",
      ">iteration=240, lrate=0.001, error=192.180\n",
      ">iteration=241, lrate=0.001, error=126.088\n",
      ">iteration=242, lrate=0.001, error=29.264\n",
      ">iteration=243, lrate=0.001, error=79.443\n",
      ">iteration=244, lrate=0.001, error=322.441\n",
      ">iteration=245, lrate=0.001, error=230.104\n",
      ">iteration=246, lrate=0.001, error=34.358\n",
      ">iteration=247, lrate=0.001, error=144.718\n",
      ">iteration=248, lrate=0.001, error=210.554\n",
      ">iteration=249, lrate=0.001, error=43.701\n",
      ">iteration=250, lrate=0.001, error=158.442\n",
      ">iteration=251, lrate=0.001, error=193.109\n",
      ">iteration=252, lrate=0.001, error=236.831\n",
      ">iteration=253, lrate=0.001, error=0.373\n",
      ">iteration=254, lrate=0.001, error=170.113\n",
      ">iteration=255, lrate=0.001, error=115.788\n",
      ">iteration=256, lrate=0.001, error=1796.818\n",
      ">iteration=257, lrate=0.001, error=171.623\n",
      ">iteration=258, lrate=0.001, error=63.763\n",
      ">iteration=259, lrate=0.001, error=182.562\n",
      ">iteration=260, lrate=0.001, error=90.297\n",
      ">iteration=261, lrate=0.001, error=403.068\n",
      ">iteration=262, lrate=0.001, error=180.581\n",
      ">iteration=263, lrate=0.001, error=195.680\n",
      ">iteration=264, lrate=0.001, error=445.894\n",
      ">iteration=265, lrate=0.001, error=216.053\n",
      ">iteration=266, lrate=0.001, error=269.024\n",
      ">iteration=267, lrate=0.001, error=384.511\n",
      ">iteration=268, lrate=0.001, error=126.656\n",
      ">iteration=269, lrate=0.001, error=122.027\n",
      ">iteration=270, lrate=0.001, error=49.239\n",
      ">iteration=271, lrate=0.001, error=148.666\n",
      ">iteration=272, lrate=0.001, error=136.888\n",
      ">iteration=273, lrate=0.001, error=71.361\n",
      ">iteration=274, lrate=0.001, error=106.320\n",
      ">iteration=275, lrate=0.001, error=511.528\n",
      ">iteration=276, lrate=0.001, error=113.501\n",
      ">iteration=277, lrate=0.001, error=867.576\n",
      ">iteration=278, lrate=0.001, error=107.603\n",
      ">iteration=279, lrate=0.001, error=68.601\n",
      ">iteration=280, lrate=0.001, error=96.135\n",
      ">iteration=281, lrate=0.001, error=146.540\n",
      ">iteration=282, lrate=0.001, error=592.207\n",
      ">iteration=283, lrate=0.001, error=210.639\n",
      ">iteration=284, lrate=0.001, error=299.059\n",
      ">iteration=285, lrate=0.001, error=140.914\n",
      ">iteration=286, lrate=0.001, error=330.121\n",
      ">iteration=287, lrate=0.001, error=188.094\n",
      ">iteration=288, lrate=0.001, error=693.105\n",
      ">iteration=289, lrate=0.001, error=216.555\n",
      ">iteration=290, lrate=0.001, error=276.773\n",
      ">iteration=291, lrate=0.001, error=66.605\n",
      ">iteration=292, lrate=0.001, error=50.826\n",
      ">iteration=293, lrate=0.001, error=265.714\n",
      ">iteration=294, lrate=0.001, error=62.240\n",
      ">iteration=295, lrate=0.001, error=262.812\n",
      ">iteration=296, lrate=0.001, error=90.450\n",
      ">iteration=297, lrate=0.001, error=29.664\n",
      ">iteration=298, lrate=0.001, error=116.481\n",
      ">iteration=299, lrate=0.001, error=84.373\n",
      ">iteration=300, lrate=0.001, error=1004.924\n",
      ">iteration=301, lrate=0.001, error=76.497\n",
      ">iteration=302, lrate=0.001, error=20.906\n",
      ">iteration=303, lrate=0.001, error=48.254\n",
      ">iteration=304, lrate=0.001, error=315.093\n",
      ">iteration=305, lrate=0.001, error=82.960\n",
      ">iteration=306, lrate=0.001, error=104.922\n",
      ">iteration=307, lrate=0.001, error=128.850\n",
      ">iteration=308, lrate=0.001, error=157.444\n",
      ">iteration=309, lrate=0.001, error=230.376\n",
      ">iteration=310, lrate=0.001, error=218.573\n",
      ">iteration=311, lrate=0.001, error=163.505\n",
      ">iteration=312, lrate=0.001, error=172.007\n",
      ">iteration=313, lrate=0.001, error=951.001\n",
      ">iteration=314, lrate=0.001, error=165.520\n",
      ">iteration=315, lrate=0.001, error=222.711\n",
      ">iteration=316, lrate=0.001, error=135.155\n",
      ">iteration=317, lrate=0.001, error=46.930\n",
      ">iteration=318, lrate=0.001, error=98.809\n",
      ">iteration=319, lrate=0.001, error=203.032\n",
      ">iteration=320, lrate=0.001, error=356.004\n",
      ">iteration=321, lrate=0.001, error=151.602\n",
      ">iteration=322, lrate=0.001, error=10.048\n",
      ">iteration=323, lrate=0.001, error=46.858\n",
      ">iteration=324, lrate=0.001, error=61.117\n",
      ">iteration=325, lrate=0.001, error=16.721\n",
      ">iteration=326, lrate=0.001, error=192.050\n",
      ">iteration=327, lrate=0.001, error=278.435\n",
      ">iteration=328, lrate=0.001, error=87.717\n",
      ">iteration=329, lrate=0.001, error=98.561\n",
      ">iteration=330, lrate=0.001, error=41.171\n",
      ">iteration=331, lrate=0.001, error=119.456\n",
      ">iteration=332, lrate=0.001, error=227.385\n",
      ">iteration=333, lrate=0.001, error=112.430\n",
      ">iteration=334, lrate=0.001, error=266.737\n",
      ">iteration=335, lrate=0.001, error=812.340\n",
      ">iteration=336, lrate=0.001, error=47.341\n",
      ">iteration=337, lrate=0.001, error=61.677\n",
      ">iteration=338, lrate=0.001, error=74.641\n",
      ">iteration=339, lrate=0.001, error=169.908\n",
      ">iteration=340, lrate=0.001, error=94.094\n",
      ">iteration=341, lrate=0.001, error=184.653\n",
      ">iteration=342, lrate=0.001, error=194.361\n",
      ">iteration=343, lrate=0.001, error=114.506\n",
      ">iteration=344, lrate=0.001, error=91.060\n",
      ">iteration=345, lrate=0.001, error=212.792\n",
      ">iteration=346, lrate=0.001, error=184.367\n",
      ">iteration=347, lrate=0.001, error=924.226\n",
      ">iteration=348, lrate=0.001, error=102.726\n",
      ">iteration=349, lrate=0.001, error=119.447\n",
      ">iteration=350, lrate=0.001, error=110.385\n",
      ">iteration=351, lrate=0.001, error=135.867\n",
      ">iteration=352, lrate=0.001, error=108.237\n",
      ">iteration=353, lrate=0.001, error=112.222\n",
      ">iteration=354, lrate=0.001, error=11.435\n",
      ">iteration=355, lrate=0.001, error=35.627\n",
      ">iteration=356, lrate=0.001, error=41.073\n",
      ">iteration=357, lrate=0.001, error=19.027\n",
      ">iteration=358, lrate=0.001, error=64.368\n",
      ">iteration=359, lrate=0.001, error=175.986\n",
      ">iteration=360, lrate=0.001, error=57.735\n",
      ">iteration=361, lrate=0.001, error=83.282\n",
      ">iteration=362, lrate=0.001, error=212.134\n",
      ">iteration=363, lrate=0.001, error=101.782\n",
      ">iteration=364, lrate=0.001, error=115.370\n",
      ">iteration=365, lrate=0.001, error=55.477\n",
      ">iteration=366, lrate=0.001, error=148.488\n",
      ">iteration=367, lrate=0.001, error=77.471\n",
      ">iteration=368, lrate=0.001, error=52.095\n",
      ">iteration=369, lrate=0.001, error=93.831\n",
      ">iteration=370, lrate=0.001, error=27.486\n",
      ">iteration=371, lrate=0.001, error=86.662\n",
      ">iteration=372, lrate=0.001, error=1.872\n",
      ">iteration=373, lrate=0.001, error=182.540\n",
      ">iteration=374, lrate=0.001, error=39.934\n",
      ">iteration=375, lrate=0.001, error=327.655\n",
      ">iteration=376, lrate=0.001, error=130.780\n",
      ">iteration=377, lrate=0.001, error=173.371\n",
      ">iteration=378, lrate=0.001, error=156.593\n",
      ">iteration=379, lrate=0.001, error=48.400\n",
      ">iteration=380, lrate=0.001, error=106.141\n",
      ">iteration=381, lrate=0.001, error=43.938\n",
      ">iteration=382, lrate=0.001, error=147.108\n",
      ">iteration=383, lrate=0.001, error=35.567\n",
      ">iteration=384, lrate=0.001, error=41.956\n",
      ">iteration=385, lrate=0.001, error=73.970\n",
      ">iteration=386, lrate=0.001, error=726.440\n",
      ">iteration=387, lrate=0.001, error=179.285\n",
      ">iteration=388, lrate=0.001, error=36.391\n",
      ">iteration=389, lrate=0.001, error=651.659\n",
      ">iteration=390, lrate=0.001, error=136.195\n",
      ">iteration=391, lrate=0.001, error=155.208\n",
      ">iteration=392, lrate=0.001, error=117.468\n",
      ">iteration=393, lrate=0.001, error=654.251\n",
      ">iteration=394, lrate=0.001, error=426.568\n",
      ">iteration=395, lrate=0.001, error=33.114\n",
      ">iteration=396, lrate=0.001, error=305.858\n",
      ">iteration=397, lrate=0.001, error=148.682\n",
      ">iteration=398, lrate=0.001, error=0.903\n",
      ">iteration=399, lrate=0.001, error=96.161\n",
      ">iteration=400, lrate=0.001, error=200.914\n",
      ">iteration=401, lrate=0.001, error=122.841\n",
      ">iteration=402, lrate=0.001, error=185.626\n",
      ">iteration=403, lrate=0.001, error=67.712\n",
      ">iteration=404, lrate=0.001, error=157.297\n",
      ">iteration=405, lrate=0.001, error=48.730\n",
      ">iteration=406, lrate=0.001, error=26.937\n",
      ">iteration=407, lrate=0.001, error=81.365\n",
      ">iteration=408, lrate=0.001, error=185.647\n",
      ">iteration=409, lrate=0.001, error=109.540\n",
      ">iteration=410, lrate=0.001, error=88.093\n",
      ">iteration=411, lrate=0.001, error=107.169\n",
      ">iteration=412, lrate=0.001, error=39.793\n",
      ">iteration=413, lrate=0.001, error=3.143\n",
      ">iteration=414, lrate=0.001, error=95.601\n",
      ">iteration=415, lrate=0.001, error=1.106\n",
      ">iteration=416, lrate=0.001, error=56.653\n",
      ">iteration=417, lrate=0.001, error=175.724\n",
      ">iteration=418, lrate=0.001, error=320.625\n",
      ">iteration=419, lrate=0.001, error=116.461\n",
      ">iteration=420, lrate=0.001, error=72.774\n",
      ">iteration=421, lrate=0.001, error=385.245\n",
      ">iteration=422, lrate=0.001, error=25.299\n",
      ">iteration=423, lrate=0.001, error=75.335\n",
      ">iteration=424, lrate=0.001, error=177.934\n",
      ">iteration=425, lrate=0.001, error=119.463\n",
      ">iteration=426, lrate=0.001, error=30.761\n",
      ">iteration=427, lrate=0.001, error=117.199\n",
      ">iteration=428, lrate=0.001, error=246.198\n",
      ">iteration=429, lrate=0.001, error=64.987\n",
      ">iteration=430, lrate=0.001, error=185.031\n",
      ">iteration=431, lrate=0.001, error=111.613\n",
      ">iteration=432, lrate=0.001, error=22.310\n",
      ">iteration=433, lrate=0.001, error=33.928\n",
      ">iteration=434, lrate=0.001, error=43.909\n",
      ">iteration=435, lrate=0.001, error=46.244\n",
      ">iteration=436, lrate=0.001, error=104.032\n",
      ">iteration=437, lrate=0.001, error=78.572\n",
      ">iteration=438, lrate=0.001, error=53.333\n",
      ">iteration=439, lrate=0.001, error=115.322\n",
      ">iteration=440, lrate=0.001, error=119.613\n",
      ">iteration=441, lrate=0.001, error=1095.823\n",
      ">iteration=442, lrate=0.001, error=195.723\n",
      ">iteration=443, lrate=0.001, error=65.542\n",
      ">iteration=444, lrate=0.001, error=20.042\n",
      ">iteration=445, lrate=0.001, error=67.904\n",
      ">iteration=446, lrate=0.001, error=157.500\n",
      ">iteration=447, lrate=0.001, error=94.789\n",
      ">iteration=448, lrate=0.001, error=69.697\n",
      ">iteration=449, lrate=0.001, error=171.741\n",
      ">iteration=450, lrate=0.001, error=0.456\n",
      ">iteration=451, lrate=0.001, error=47.670\n",
      ">iteration=452, lrate=0.001, error=2.761\n",
      ">iteration=453, lrate=0.001, error=47.452\n",
      ">iteration=454, lrate=0.001, error=3.366\n",
      ">iteration=455, lrate=0.001, error=85.453\n",
      ">iteration=456, lrate=0.001, error=599.528\n",
      ">iteration=457, lrate=0.001, error=160.841\n",
      ">iteration=458, lrate=0.001, error=54.897\n",
      ">iteration=459, lrate=0.001, error=1267.797\n",
      ">iteration=460, lrate=0.001, error=62.852\n",
      ">iteration=461, lrate=0.001, error=28.314\n",
      ">iteration=462, lrate=0.001, error=38.110\n",
      ">iteration=463, lrate=0.001, error=57.642\n",
      ">iteration=464, lrate=0.001, error=29.662\n",
      ">iteration=465, lrate=0.001, error=167.214\n",
      ">iteration=466, lrate=0.001, error=53.009\n",
      ">iteration=467, lrate=0.001, error=3.109\n",
      ">iteration=468, lrate=0.001, error=114.594\n",
      ">iteration=469, lrate=0.001, error=219.057\n",
      ">iteration=470, lrate=0.001, error=39.784\n",
      ">iteration=471, lrate=0.001, error=100.426\n",
      ">iteration=472, lrate=0.001, error=23.752\n",
      ">iteration=473, lrate=0.001, error=681.790\n",
      ">iteration=474, lrate=0.001, error=7.261\n",
      ">iteration=475, lrate=0.001, error=43.978\n",
      ">iteration=476, lrate=0.001, error=96.026\n",
      ">iteration=477, lrate=0.001, error=95.119\n",
      ">iteration=478, lrate=0.001, error=1157.462\n",
      ">iteration=479, lrate=0.001, error=96.583\n",
      ">iteration=480, lrate=0.001, error=9.137\n",
      ">iteration=481, lrate=0.001, error=54.628\n",
      ">iteration=482, lrate=0.001, error=42.503\n",
      ">iteration=483, lrate=0.001, error=30.935\n",
      ">iteration=484, lrate=0.001, error=95.337\n",
      ">iteration=485, lrate=0.001, error=5.911\n",
      ">iteration=486, lrate=0.001, error=14.608\n",
      ">iteration=487, lrate=0.001, error=1.479\n",
      ">iteration=488, lrate=0.001, error=174.678\n",
      ">iteration=489, lrate=0.001, error=26.532\n",
      ">iteration=490, lrate=0.001, error=69.628\n",
      ">iteration=491, lrate=0.001, error=46.062\n",
      ">iteration=492, lrate=0.001, error=11.666\n",
      ">iteration=493, lrate=0.001, error=187.617\n",
      ">iteration=494, lrate=0.001, error=56.131\n",
      ">iteration=495, lrate=0.001, error=35.140\n",
      ">iteration=496, lrate=0.001, error=56.758\n",
      ">iteration=497, lrate=0.001, error=18.395\n",
      ">iteration=498, lrate=0.001, error=76.961\n",
      ">iteration=499, lrate=0.001, error=32.426\n",
      ">iteration=500, lrate=0.001, error=34.496\n",
      ">iteration=501, lrate=0.001, error=25.196\n",
      ">iteration=502, lrate=0.001, error=64.899\n",
      ">iteration=503, lrate=0.001, error=44.895\n",
      ">iteration=504, lrate=0.001, error=85.542\n",
      ">iteration=505, lrate=0.001, error=61.287\n",
      ">iteration=506, lrate=0.001, error=6.314\n",
      ">iteration=507, lrate=0.001, error=19.245\n",
      ">iteration=508, lrate=0.001, error=32.804\n",
      ">iteration=509, lrate=0.001, error=718.543\n",
      ">iteration=510, lrate=0.001, error=32.732\n",
      ">iteration=511, lrate=0.001, error=115.734\n",
      ">iteration=512, lrate=0.001, error=8.620\n",
      ">iteration=513, lrate=0.001, error=392.510\n",
      ">iteration=514, lrate=0.001, error=7.316\n",
      ">iteration=515, lrate=0.001, error=622.940\n",
      ">iteration=516, lrate=0.001, error=32.211\n",
      ">iteration=517, lrate=0.001, error=0.766\n",
      ">iteration=518, lrate=0.001, error=48.387\n",
      ">iteration=519, lrate=0.001, error=79.189\n",
      ">iteration=520, lrate=0.001, error=264.126\n",
      ">iteration=521, lrate=0.001, error=54.792\n",
      ">iteration=522, lrate=0.001, error=13.170\n",
      ">iteration=523, lrate=0.001, error=0.411\n",
      ">iteration=524, lrate=0.001, error=78.843\n",
      ">iteration=525, lrate=0.001, error=113.507\n",
      ">iteration=526, lrate=0.001, error=21.109\n",
      ">iteration=527, lrate=0.001, error=168.692\n",
      ">iteration=528, lrate=0.001, error=97.497\n",
      ">iteration=529, lrate=0.001, error=12.346\n",
      ">iteration=530, lrate=0.001, error=164.248\n",
      ">iteration=531, lrate=0.001, error=54.991\n",
      ">iteration=532, lrate=0.001, error=11.749\n",
      ">iteration=533, lrate=0.001, error=108.541\n",
      ">iteration=534, lrate=0.001, error=42.345\n",
      ">iteration=535, lrate=0.001, error=45.596\n",
      ">iteration=536, lrate=0.001, error=14.325\n",
      ">iteration=537, lrate=0.001, error=162.957\n",
      ">iteration=538, lrate=0.001, error=42.216\n",
      ">iteration=539, lrate=0.001, error=61.735\n",
      ">iteration=540, lrate=0.001, error=11.439\n",
      ">iteration=541, lrate=0.001, error=199.779\n",
      ">iteration=542, lrate=0.001, error=68.332\n",
      ">iteration=543, lrate=0.001, error=3.690\n",
      ">iteration=544, lrate=0.001, error=31.567\n",
      ">iteration=545, lrate=0.001, error=69.418\n",
      ">iteration=546, lrate=0.001, error=82.585\n",
      ">iteration=547, lrate=0.001, error=66.192\n",
      ">iteration=548, lrate=0.001, error=359.781\n",
      ">iteration=549, lrate=0.001, error=75.039\n",
      ">iteration=550, lrate=0.001, error=392.699\n",
      ">iteration=551, lrate=0.001, error=41.414\n",
      ">iteration=552, lrate=0.001, error=17.631\n",
      ">iteration=553, lrate=0.001, error=19.142\n",
      ">iteration=554, lrate=0.001, error=83.307\n",
      ">iteration=555, lrate=0.001, error=5.344\n",
      ">iteration=556, lrate=0.001, error=20.432\n",
      ">iteration=557, lrate=0.001, error=591.474\n",
      ">iteration=558, lrate=0.001, error=38.298\n",
      ">iteration=559, lrate=0.001, error=131.293\n",
      ">iteration=560, lrate=0.001, error=305.062\n",
      ">iteration=561, lrate=0.001, error=49.907\n",
      ">iteration=562, lrate=0.001, error=343.770\n",
      ">iteration=563, lrate=0.001, error=165.199\n",
      ">iteration=564, lrate=0.001, error=79.763\n",
      ">iteration=565, lrate=0.001, error=4.872\n",
      ">iteration=566, lrate=0.001, error=20.745\n",
      ">iteration=567, lrate=0.001, error=0.916\n",
      ">iteration=568, lrate=0.001, error=34.595\n",
      ">iteration=569, lrate=0.001, error=149.987\n",
      ">iteration=570, lrate=0.001, error=52.812\n",
      ">iteration=571, lrate=0.001, error=267.083\n",
      ">iteration=572, lrate=0.001, error=92.211\n",
      ">iteration=573, lrate=0.001, error=25.028\n",
      ">iteration=574, lrate=0.001, error=506.488\n",
      ">iteration=575, lrate=0.001, error=326.279\n",
      ">iteration=576, lrate=0.001, error=14.040\n",
      ">iteration=577, lrate=0.001, error=70.438\n",
      ">iteration=578, lrate=0.001, error=75.572\n",
      ">iteration=579, lrate=0.001, error=278.966\n",
      ">iteration=580, lrate=0.001, error=59.677\n",
      ">iteration=581, lrate=0.001, error=23.291\n",
      ">iteration=582, lrate=0.001, error=54.029\n",
      ">iteration=583, lrate=0.001, error=170.281\n",
      ">iteration=584, lrate=0.001, error=22.485\n",
      ">iteration=585, lrate=0.001, error=336.932\n",
      ">iteration=586, lrate=0.001, error=29.659\n",
      ">iteration=587, lrate=0.001, error=10.804\n",
      ">iteration=588, lrate=0.001, error=19.826\n",
      ">iteration=589, lrate=0.001, error=53.515\n",
      ">iteration=590, lrate=0.001, error=164.173\n",
      ">iteration=591, lrate=0.001, error=69.316\n",
      ">iteration=592, lrate=0.001, error=0.003\n",
      "592\n"
     ]
    }
   ],
   "source": [
    "learned_weights = my_sgdRegressor(X, y, initial_weights, 0.001)"
   ]
  },
  {
   "cell_type": "code",
   "execution_count": 22,
   "metadata": {
    "scrolled": true
   },
   "outputs": [
    {
     "name": "stdout",
     "output_type": "stream",
     "text": [
      "Intercept: [15.79569674]\n",
      "Weights: [-0.37779216  0.39107658 -0.6616001   1.31364813 -0.76382354  3.41023722\n",
      " -0.30752219 -1.05399376  0.34300855 -0.18771236 -1.69649658  0.71390657\n",
      " -2.86578268]\n"
     ]
    }
   ],
   "source": [
    "print('Intercept: ' + str(learned_weights[0]))\n",
    "print('Weights: ' + str(learned_weights.ravel()[1:]))"
   ]
  },
  {
   "cell_type": "code",
   "execution_count": 23,
   "metadata": {},
   "outputs": [],
   "source": [
    "y_pred = np.dot(X, learned_weights)"
   ]
  },
  {
   "cell_type": "code",
   "execution_count": 24,
   "metadata": {},
   "outputs": [],
   "source": [
    "mse = (1/n) * np.sum((y-y_pred)**2)"
   ]
  },
  {
   "cell_type": "code",
   "execution_count": 25,
   "metadata": {},
   "outputs": [
    {
     "data": {
      "text/plain": [
       "69.9881980154451"
      ]
     },
     "execution_count": 25,
     "metadata": {},
     "output_type": "execute_result"
    }
   ],
   "source": [
    "mse"
   ]
  }
 ],
 "metadata": {
  "kernelspec": {
   "display_name": "Python 3",
   "language": "python",
   "name": "python3"
  },
  "language_info": {
   "codemirror_mode": {
    "name": "ipython",
    "version": 3
   },
   "file_extension": ".py",
   "mimetype": "text/x-python",
   "name": "python",
   "nbconvert_exporter": "python",
   "pygments_lexer": "ipython3",
   "version": "3.6.5"
  },
  "varInspector": {
   "cols": {
    "lenName": 16,
    "lenType": 16,
    "lenVar": 40
   },
   "kernels_config": {
    "python": {
     "delete_cmd_postfix": "",
     "delete_cmd_prefix": "del ",
     "library": "var_list.py",
     "varRefreshCmd": "print(var_dic_list())"
    },
    "r": {
     "delete_cmd_postfix": ") ",
     "delete_cmd_prefix": "rm(",
     "library": "var_list.r",
     "varRefreshCmd": "cat(var_dic_list()) "
    }
   },
   "position": {
    "height": "453px",
    "left": "1031.55px",
    "right": "20px",
    "top": "113.993px",
    "width": "353px"
   },
   "types_to_exclude": [
    "module",
    "function",
    "builtin_function_or_method",
    "instance",
    "_Feature"
   ],
   "window_display": false
  }
 },
 "nbformat": 4,
 "nbformat_minor": 2
}
