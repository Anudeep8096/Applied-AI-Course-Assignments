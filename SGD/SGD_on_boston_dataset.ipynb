{
 "cells": [
  {
   "cell_type": "code",
   "execution_count": 1,
   "metadata": {},
   "outputs": [],
   "source": [
    "import numpy as np"
   ]
  },
  {
   "cell_type": "code",
   "execution_count": 2,
   "metadata": {},
   "outputs": [],
   "source": [
    "from sklearn.linear_model import LinearRegression"
   ]
  },
  {
   "cell_type": "code",
   "execution_count": 3,
   "metadata": {},
   "outputs": [],
   "source": [
    "from sklearn.datasets import load_boston"
   ]
  },
  {
   "cell_type": "code",
   "execution_count": 4,
   "metadata": {},
   "outputs": [],
   "source": [
    "boston_obj = load_boston() ## return python dictionary-like object (of Bunch class)"
   ]
  },
  {
   "cell_type": "code",
   "execution_count": 5,
   "metadata": {},
   "outputs": [
    {
     "data": {
      "text/plain": [
       "sklearn.utils.Bunch"
      ]
     },
     "execution_count": 5,
     "metadata": {},
     "output_type": "execute_result"
    }
   ],
   "source": [
    "type(boston_obj)"
   ]
  },
  {
   "cell_type": "code",
   "execution_count": 6,
   "metadata": {},
   "outputs": [
    {
     "data": {
      "text/plain": [
       "numpy.ndarray"
      ]
     },
     "execution_count": 6,
     "metadata": {},
     "output_type": "execute_result"
    }
   ],
   "source": [
    "type(boston_obj.data)"
   ]
  },
  {
   "cell_type": "code",
   "execution_count": 7,
   "metadata": {},
   "outputs": [],
   "source": [
    "boston_feature_values = boston_obj.data\n",
    "boston_target_values = boston_obj.target"
   ]
  },
  {
   "cell_type": "code",
   "execution_count": 8,
   "metadata": {},
   "outputs": [],
   "source": [
    "# print(boston_obj.DESCR)"
   ]
  },
  {
   "cell_type": "code",
   "execution_count": 9,
   "metadata": {},
   "outputs": [
    {
     "data": {
      "text/plain": [
       "['DESCR', 'data', 'feature_names', 'target']"
      ]
     },
     "execution_count": 9,
     "metadata": {},
     "output_type": "execute_result"
    }
   ],
   "source": [
    "dir(boston_obj)"
   ]
  },
  {
   "cell_type": "code",
   "execution_count": 10,
   "metadata": {},
   "outputs": [
    {
     "data": {
      "text/plain": [
       "(506, 13)"
      ]
     },
     "execution_count": 10,
     "metadata": {},
     "output_type": "execute_result"
    }
   ],
   "source": [
    "boston_feature_values.shape"
   ]
  },
  {
   "cell_type": "code",
   "execution_count": 11,
   "metadata": {},
   "outputs": [
    {
     "data": {
      "text/plain": [
       "(506,)"
      ]
     },
     "execution_count": 11,
     "metadata": {},
     "output_type": "execute_result"
    }
   ],
   "source": [
    "boston_target_values.shape"
   ]
  },
  {
   "cell_type": "code",
   "execution_count": 57,
   "metadata": {},
   "outputs": [],
   "source": [
    "def SGDRegressor(X, y, initial_weights, initial_learning_rate):\n",
    "    n = X.shape[0]\n",
    "    d = X.shape[1]\n",
    "    weights = initial_weights ### weights: (d X 1)\n",
    "    \n",
    "    iterations = 0\n",
    "    while(True):\n",
    "        random_row_index = np.random.randint(0, n, size = 1)\n",
    "        \n",
    "        random_row = X[random_row_index].reshape(d, 1) ### X[r_r_i]: a row vector (1 X d), reshaped to d X 1\n",
    "        y_pred = np.dot(weights.T, random_row) ### a real number (returned value by dot is 1 X 1 matrix)\n",
    "        \n",
    "        error = y[random_row_index] - y_pred ### for current randomly chosen row, error: n X 1 matrix\n",
    "        \n",
    "        grad = (-2*random_row) * error ### for current randomly chosen row; grad: d X 1\n",
    "        \n",
    "        preupdation_weights = weights\n",
    "        \n",
    "        weights = weights - initial_learning_rate * grad\n",
    "        \n",
    "        percentage_change_in_weights = abs((weights - initial_weights)/initial_weights)\n",
    "        \n",
    "        is_change_insignificant = percentage_change_in_weights < 0.01\n",
    "        \n",
    "        if(np.sum(is_change_insignificant) == 13 ):\n",
    "            break\n",
    "               \n",
    "        initial_learning_rate /= 2\n",
    "        iterations += 1\n",
    "    \n",
    "    return weights\n",
    "        \n",
    "        \n",
    "    "
   ]
  },
  {
   "cell_type": "code",
   "execution_count": 35,
   "metadata": {},
   "outputs": [],
   "source": [
    "ones = np.ones(shape = (n, 1))\n",
    "X = np.concatenate([ones, boston_feature_values], axis = 1)"
   ]
  },
  {
   "cell_type": "code",
   "execution_count": 36,
   "metadata": {},
   "outputs": [],
   "source": [
    "n = X.shape[0]\n",
    "d = X.shape[1]"
   ]
  },
  {
   "cell_type": "code",
   "execution_count": 37,
   "metadata": {},
   "outputs": [],
   "source": [
    "y = boston_target_values.reshape(n, 1)"
   ]
  },
  {
   "cell_type": "code",
   "execution_count": 38,
   "metadata": {},
   "outputs": [],
   "source": [
    "initial_weights = np.random.normal(size = (d, 1)) ### initial_weights is d X 1 matrix"
   ]
  },
  {
   "cell_type": "code",
   "execution_count": 50,
   "metadata": {
    "scrolled": false
   },
   "outputs": [
    {
     "name": "stdout",
     "output_type": "stream",
     "text": [
      "1 2 3 4 5 6 7 8 9 10 11 12 13 14 15 16 17 18 19 20 21 22 23 24 25 26 27 28 29 30 31 32 33 34 35 36 37 38 39 40 41 42 43 44 45 46 47 48 49 50 51 52 53 54 55 56 57 58 59 60 61 62 63 64 65 66 67 68 69 70 71 72 73 74 75 76 77 78 79 80 81 82 83 84 85 86 87 88 89 90 91 92 93 94 95 96 97 98 99 100 101 "
     ]
    }
   ],
   "source": [
    "learned_weights = SGDRegressor(X, y, initial_weights, 1)"
   ]
  },
  {
   "cell_type": "code",
   "execution_count": 51,
   "metadata": {},
   "outputs": [
    {
     "name": "stdout",
     "output_type": "stream",
     "text": [
      "Intercept: [-5.77653865e+53]\n",
      "Weights: [-5.77653865e+53  5.72626398e+51 -3.87657889e+55  1.34881063e+55\n",
      "  3.57412466e+50 -7.07347031e+52 -4.18207604e+54  8.04995765e+54\n",
      " -5.87597126e+54 -1.51939226e+54  1.21448213e+56 -1.06384384e+55\n",
      " -2.39938035e+56  5.14412140e+54]\n"
     ]
    }
   ],
   "source": [
    "print('Intercept: ' + str(learned_weights[0]))\n",
    "print('Weights: ' + str(learned_weights.ravel()[1:]))"
   ]
  },
  {
   "cell_type": "code",
   "execution_count": 53,
   "metadata": {},
   "outputs": [],
   "source": [
    "y_pred = np.dot(X, learned_weights)"
   ]
  }
 ],
 "metadata": {
  "kernelspec": {
   "display_name": "Python 3",
   "language": "python",
   "name": "python3"
  },
  "language_info": {
   "codemirror_mode": {
    "name": "ipython",
    "version": 3
   },
   "file_extension": ".py",
   "mimetype": "text/x-python",
   "name": "python",
   "nbconvert_exporter": "python",
   "pygments_lexer": "ipython3",
   "version": "3.6.5"
  }
 },
 "nbformat": 4,
 "nbformat_minor": 2
}
