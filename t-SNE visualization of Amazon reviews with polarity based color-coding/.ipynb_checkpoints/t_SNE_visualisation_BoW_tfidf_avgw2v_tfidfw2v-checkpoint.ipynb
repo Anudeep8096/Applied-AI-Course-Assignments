{
 "cells": [
  {
   "cell_type": "code",
   "execution_count": 1,
   "metadata": {},
   "outputs": [],
   "source": [
    "import warnings\n",
    "warnings.filterwarnings('ignore')"
   ]
  },
  {
   "cell_type": "markdown",
   "metadata": {},
   "source": [
    "### Import the sql dataset"
   ]
  },
  {
   "cell_type": "code",
   "execution_count": 2,
   "metadata": {},
   "outputs": [
    {
     "data": {
      "text/plain": [
       "(525814, 10)"
      ]
     },
     "execution_count": 2,
     "metadata": {},
     "output_type": "execute_result"
    }
   ],
   "source": [
    "import sqlite3\n",
    "import pandas as pd\n",
    "\n",
    "connection = sqlite3.connect('database.sqlite')\n",
    "\n",
    "# polarisable_dataset = dataset that contains Score = {1,2,4,5} assuming Score = 3 implies neutral comments and\n",
    "# Score < 3 implies negative comment and Score > 3 implies positive comment\n",
    "polarisable_dataset = pd.read_sql_query('select * from REVIEWS WHERE Score != 3', connection)\n",
    "polarisable_dataset.shape"
   ]
  },
  {
   "cell_type": "markdown",
   "metadata": {},
   "source": [
    "### Replace values in Score column in polarisable dataset with 'positive' and 'negative'"
   ]
  },
  {
   "cell_type": "code",
   "execution_count": 3,
   "metadata": {},
   "outputs": [],
   "source": [
    "scores = polarisable_dataset['Score']\n",
    "\n",
    "polarised_scores = scores.map(lambda x: 0 if x<3 else 1)\n",
    "\n",
    "# polarised_scores.head()\n",
    "\n",
    "polarisable_dataset['Score'] = polarised_scores\n",
    "polarised_dataset = polarisable_dataset"
   ]
  },
  {
   "cell_type": "code",
   "execution_count": 4,
   "metadata": {},
   "outputs": [
    {
     "data": {
      "text/html": [
       "<div>\n",
       "<style scoped>\n",
       "    .dataframe tbody tr th:only-of-type {\n",
       "        vertical-align: middle;\n",
       "    }\n",
       "\n",
       "    .dataframe tbody tr th {\n",
       "        vertical-align: top;\n",
       "    }\n",
       "\n",
       "    .dataframe thead th {\n",
       "        text-align: right;\n",
       "    }\n",
       "</style>\n",
       "<table border=\"1\" class=\"dataframe\">\n",
       "  <thead>\n",
       "    <tr style=\"text-align: right;\">\n",
       "      <th></th>\n",
       "      <th>Id</th>\n",
       "      <th>ProductId</th>\n",
       "      <th>UserId</th>\n",
       "      <th>ProfileName</th>\n",
       "      <th>HelpfulnessNumerator</th>\n",
       "      <th>HelpfulnessDenominator</th>\n",
       "      <th>Score</th>\n",
       "      <th>Time</th>\n",
       "      <th>Summary</th>\n",
       "      <th>Text</th>\n",
       "    </tr>\n",
       "  </thead>\n",
       "  <tbody>\n",
       "    <tr>\n",
       "      <th>0</th>\n",
       "      <td>1</td>\n",
       "      <td>B001E4KFG0</td>\n",
       "      <td>A3SGXH7AUHU8GW</td>\n",
       "      <td>delmartian</td>\n",
       "      <td>1</td>\n",
       "      <td>1</td>\n",
       "      <td>1</td>\n",
       "      <td>1303862400</td>\n",
       "      <td>Good Quality Dog Food</td>\n",
       "      <td>I have bought several of the Vitality canned d...</td>\n",
       "    </tr>\n",
       "    <tr>\n",
       "      <th>1</th>\n",
       "      <td>2</td>\n",
       "      <td>B00813GRG4</td>\n",
       "      <td>A1D87F6ZCVE5NK</td>\n",
       "      <td>dll pa</td>\n",
       "      <td>0</td>\n",
       "      <td>0</td>\n",
       "      <td>0</td>\n",
       "      <td>1346976000</td>\n",
       "      <td>Not as Advertised</td>\n",
       "      <td>Product arrived labeled as Jumbo Salted Peanut...</td>\n",
       "    </tr>\n",
       "    <tr>\n",
       "      <th>2</th>\n",
       "      <td>3</td>\n",
       "      <td>B000LQOCH0</td>\n",
       "      <td>ABXLMWJIXXAIN</td>\n",
       "      <td>Natalia Corres \"Natalia Corres\"</td>\n",
       "      <td>1</td>\n",
       "      <td>1</td>\n",
       "      <td>1</td>\n",
       "      <td>1219017600</td>\n",
       "      <td>\"Delight\" says it all</td>\n",
       "      <td>This is a confection that has been around a fe...</td>\n",
       "    </tr>\n",
       "    <tr>\n",
       "      <th>3</th>\n",
       "      <td>4</td>\n",
       "      <td>B000UA0QIQ</td>\n",
       "      <td>A395BORC6FGVXV</td>\n",
       "      <td>Karl</td>\n",
       "      <td>3</td>\n",
       "      <td>3</td>\n",
       "      <td>0</td>\n",
       "      <td>1307923200</td>\n",
       "      <td>Cough Medicine</td>\n",
       "      <td>If you are looking for the secret ingredient i...</td>\n",
       "    </tr>\n",
       "    <tr>\n",
       "      <th>4</th>\n",
       "      <td>5</td>\n",
       "      <td>B006K2ZZ7K</td>\n",
       "      <td>A1UQRSCLF8GW1T</td>\n",
       "      <td>Michael D. Bigham \"M. Wassir\"</td>\n",
       "      <td>0</td>\n",
       "      <td>0</td>\n",
       "      <td>1</td>\n",
       "      <td>1350777600</td>\n",
       "      <td>Great taffy</td>\n",
       "      <td>Great taffy at a great price.  There was a wid...</td>\n",
       "    </tr>\n",
       "  </tbody>\n",
       "</table>\n",
       "</div>"
      ],
      "text/plain": [
       "   Id   ProductId          UserId                      ProfileName  \\\n",
       "0   1  B001E4KFG0  A3SGXH7AUHU8GW                       delmartian   \n",
       "1   2  B00813GRG4  A1D87F6ZCVE5NK                           dll pa   \n",
       "2   3  B000LQOCH0   ABXLMWJIXXAIN  Natalia Corres \"Natalia Corres\"   \n",
       "3   4  B000UA0QIQ  A395BORC6FGVXV                             Karl   \n",
       "4   5  B006K2ZZ7K  A1UQRSCLF8GW1T    Michael D. Bigham \"M. Wassir\"   \n",
       "\n",
       "   HelpfulnessNumerator  HelpfulnessDenominator  Score        Time  \\\n",
       "0                     1                       1      1  1303862400   \n",
       "1                     0                       0      0  1346976000   \n",
       "2                     1                       1      1  1219017600   \n",
       "3                     3                       3      0  1307923200   \n",
       "4                     0                       0      1  1350777600   \n",
       "\n",
       "                 Summary                                               Text  \n",
       "0  Good Quality Dog Food  I have bought several of the Vitality canned d...  \n",
       "1      Not as Advertised  Product arrived labeled as Jumbo Salted Peanut...  \n",
       "2  \"Delight\" says it all  This is a confection that has been around a fe...  \n",
       "3         Cough Medicine  If you are looking for the secret ingredient i...  \n",
       "4            Great taffy  Great taffy at a great price.  There was a wid...  "
      ]
     },
     "execution_count": 4,
     "metadata": {},
     "output_type": "execute_result"
    }
   ],
   "source": [
    "polarised_dataset.head()"
   ]
  },
  {
   "cell_type": "markdown",
   "metadata": {},
   "source": [
    "### Exploratory Data Analysis"
   ]
  },
  {
   "cell_type": "markdown",
   "metadata": {},
   "source": [
    "##### 1. Deduplication\n",
    "If a user id has multiple entries for the same timestamp, then it should be removed because it is likely that multiple entries at the same timestamp were for the same product of different variety which has a different product id than other variants\n",
    "\n",
    "##### Observation 1- There are 197082 duplicate entries (using rule-1)"
   ]
  },
  {
   "cell_type": "code",
   "execution_count": 5,
   "metadata": {},
   "outputs": [
    {
     "name": "stdout",
     "output_type": "stream",
     "text": [
      "197082\n"
     ]
    }
   ],
   "source": [
    "print(polarised_dataset.duplicated(['UserId', 'Time']).sum())\n",
    "\n"
   ]
  },
  {
   "cell_type": "code",
   "execution_count": 6,
   "metadata": {},
   "outputs": [
    {
     "data": {
      "text/plain": [
       "(328732, 10)"
      ]
     },
     "execution_count": 6,
     "metadata": {},
     "output_type": "execute_result"
    }
   ],
   "source": [
    "deduplicated_dataset = polarised_dataset.drop_duplicates(subset = {'UserId', 'Time'}, keep = 'first', inplace = False)\n",
    "deduplicated_dataset.shape"
   ]
  },
  {
   "cell_type": "markdown",
   "metadata": {},
   "source": [
    "#### 2. Text preprocessing- Stemming of words"
   ]
  },
  {
   "cell_type": "code",
   "execution_count": 7,
   "metadata": {},
   "outputs": [
    {
     "data": {
      "text/plain": [
       "Index(['Id', 'ProductId', 'UserId', 'ProfileName', 'HelpfulnessNumerator',\n",
       "       'HelpfulnessDenominator', 'Score', 'Time', 'Summary', 'Text'],\n",
       "      dtype='object')"
      ]
     },
     "execution_count": 7,
     "metadata": {},
     "output_type": "execute_result"
    }
   ],
   "source": [
    "deduplicated_dataset.columns"
   ]
  },
  {
   "cell_type": "code",
   "execution_count": 8,
   "metadata": {},
   "outputs": [
    {
     "data": {
      "text/plain": [
       "0    I have bought several of the Vitality canned d...\n",
       "Name: Text, dtype: object"
      ]
     },
     "execution_count": 8,
     "metadata": {},
     "output_type": "execute_result"
    }
   ],
   "source": [
    "deduplicated_dataset['Text'].head(1)"
   ]
  },
  {
   "cell_type": "code",
   "execution_count": 9,
   "metadata": {},
   "outputs": [],
   "source": [
    "# dataset cleaners\n",
    "\n",
    "import re\n",
    "\n",
    "def remove_html(sentence):\n",
    "    html_tag_re_obj = re.compile('<.*>?')\n",
    "    return re.sub(html_tag_re_obj, ' ', sentence)\n",
    "\n",
    "def remove_punctuations(sentence):\n",
    "    cleaned_sentence = re.sub(r'[^a-zA-Z]', r' ', sentence)\n",
    "    return cleaned_sentence"
   ]
  },
  {
   "cell_type": "code",
   "execution_count": 10,
   "metadata": {},
   "outputs": [],
   "source": [
    "# clean dataset\n",
    "\n",
    "corpus = deduplicated_dataset['Text']\n",
    "\n",
    "cleaned_corpus = []\n",
    "for doc in corpus.values:\n",
    "    cleaned_doc = remove_html(doc)\n",
    "    cleaned_doc = remove_punctuations(cleaned_doc)\n",
    "    cleaned_corpus.append(cleaned_doc)\n",
    "\n",
    "deduplicated_dataset['Text'] = cleaned_corpus"
   ]
  },
  {
   "cell_type": "markdown",
   "metadata": {},
   "source": [
    "#### 2. Text preprocessing- Removing stop words"
   ]
  },
  {
   "cell_type": "code",
   "execution_count": 11,
   "metadata": {},
   "outputs": [],
   "source": [
    "from nltk.corpus import stopwords"
   ]
  },
  {
   "cell_type": "code",
   "execution_count": 12,
   "metadata": {},
   "outputs": [
    {
     "name": "stdout",
     "output_type": "stream",
     "text": [
      "{'ain', 'through', 'own', 'for', 'we', \"needn't\", 'were', 'should', 'isn', 'ourselves', 'why', 'aren', \"isn't\", 'd', 'an', 'which', 'our', 'their', 'the', 'wasn', 'herself', 'a', 's', \"aren't\", 'on', 'shouldn', 'myself', 'other', \"hasn't\", 'same', 'about', 'theirs', \"don't\", 'him', \"doesn't\", 'until', 'where', 'has', 'once', 'wouldn', 'more', 'y', 'again', 'too', 'll', 'his', 'below', 'under', 'and', 'her', 'this', 'he', 'it', 'of', 'between', 'me', 'you', \"won't\", \"you've\", 'them', 'been', 'but', 'needn', 've', \"didn't\", 'both', 'not', \"that'll\", 'couldn', \"couldn't\", 'itself', 'very', 'above', 'after', 'during', 'i', 'hadn', 'before', \"wouldn't\", 'into', 'mightn', 'because', 'from', 'just', \"wasn't\", 'haven', 'to', 'further', 'that', 'now', \"haven't\", 'doesn', 'here', \"shan't\", 'she', 'while', 'each', 'most', 'do', 'ma', 'being', 'against', 'themselves', \"mustn't\", \"weren't\", 'only', 'don', 'nor', 're', 'yourselves', 'as', 'any', 'few', 'hasn', 'or', 'my', \"shouldn't\", 'no', 'who', 'whom', 'did', 'can', \"mightn't\", \"you'll\", 'will', 'weren', 'yours', 'at', 'does', 'than', 'by', 'have', 'had', 'in', 'out', 'mustn', 'off', 'all', 'its', 'was', 'if', 'such', 'o', 'hers', 'didn', 'over', 'ours', \"you're\", 'himself', 'they', 'how', 'shan', 'with', 't', 'there', 'when', 'down', \"should've\", 'is', 'won', \"it's\", 'your', 'these', 'then', 'those', 'yourself', \"hadn't\", 'are', 'be', 'so', 'up', 'what', 'm', 'some', \"you'd\", \"she's\", 'am', 'having', 'doing'}\n"
     ]
    }
   ],
   "source": [
    "print(set(stopwords.words('english')))"
   ]
  },
  {
   "cell_type": "code",
   "execution_count": 13,
   "metadata": {},
   "outputs": [
    {
     "name": "stdout",
     "output_type": "stream",
     "text": [
      "104301\n",
      "0\n",
      "0\n"
     ]
    }
   ],
   "source": [
    "## Since the negative food reviews are likely to contain words like \"don't\", \"didn't\", etc that impart important\n",
    "## meaning to the review, we check if such words exist in the corpus that we have. If these words are in the corpus,\n",
    "## then they should not be in the list of stop words that we use for removing the stopwords from our corpus\n",
    "\n",
    "count = 0\n",
    "for doc in deduplicated_dataset['Text']:\n",
    "    if \"not\" in doc:\n",
    "        count += 1\n",
    "\n",
    "print(count)\n",
    "\n",
    "count = 0\n",
    "for doc in deduplicated_dataset['Text']:\n",
    "    if \"don't\" in doc:\n",
    "        count += 1\n",
    "\n",
    "print(count)\n",
    "\n",
    "count = 0\n",
    "for doc in deduplicated_dataset['Text']:\n",
    "    if \"didn't\" in doc:\n",
    "        count += 1\n",
    "\n",
    "print(count)"
   ]
  },
  {
   "cell_type": "code",
   "execution_count": 14,
   "metadata": {},
   "outputs": [],
   "source": [
    "stopwords = stopwords.words('english')"
   ]
  },
  {
   "cell_type": "code",
   "execution_count": 30,
   "metadata": {},
   "outputs": [],
   "source": [
    "## 'not' is present in 104301 docs in the corpus, so we modify the list of stopwords to not contain this word\n",
    "\n",
    "stopwords_set = set(stopwords)\n",
    "\n",
    "stopwords_set.remove('not')"
   ]
  },
  {
   "cell_type": "code",
   "execution_count": 32,
   "metadata": {},
   "outputs": [
    {
     "name": "stdout",
     "output_type": "stream",
     "text": [
      "{'ain', 'through', 'own', 'for', 'we', \"needn't\", 'were', 'should', 'isn', 'ourselves', 'why', 'aren', \"isn't\", 'd', 'an', 'which', 'our', 'their', 'the', 'wasn', 'herself', 'a', 's', \"aren't\", 'on', 'shouldn', 'myself', 'other', \"hasn't\", 'same', 'about', 'theirs', \"don't\", 'him', \"doesn't\", 'until', 'where', 'has', 'once', 'wouldn', 'more', 'y', 'again', 'too', 'll', 'his', 'below', 'under', 'and', 'her', 'this', 'he', 'it', 'of', 'between', 'me', 'you', \"won't\", \"you've\", 'them', 'been', 'but', 'needn', 've', \"didn't\", 'both', \"that'll\", 'couldn', \"couldn't\", 'itself', 'very', 'above', 'after', 'during', 'i', 'hadn', 'before', \"wouldn't\", 'into', 'mightn', 'because', 'from', 'just', \"wasn't\", 'haven', 'to', 'further', 'that', 'now', \"haven't\", 'doesn', 'here', \"shan't\", 'she', 'while', 'each', 'most', 'do', 'ma', 'being', 'against', 'themselves', \"mustn't\", \"weren't\", 'only', 'don', 'nor', 're', 'yourselves', 'as', 'any', 'few', 'hasn', 'or', 'my', \"shouldn't\", 'no', 'who', 'whom', 'did', 'can', \"mightn't\", \"you'll\", 'will', 'weren', 'yours', 'at', 'does', 'than', 'by', 'have', 'had', 'in', 'out', 'mustn', 'off', 'all', 'its', 'was', 'if', 'such', 'o', 'hers', 'didn', 'over', 'ours', \"you're\", 'himself', 'they', 'how', 'shan', 'with', 't', 'there', 'when', 'down', \"should've\", 'is', 'won', \"it's\", 'your', 'these', 'then', 'those', 'yourself', \"hadn't\", 'are', 'be', 'so', 'up', 'what', 'm', 'some', \"you'd\", \"she's\", 'am', 'having', 'doing'}\n"
     ]
    }
   ],
   "source": [
    "print(stopwords_set)"
   ]
  },
  {
   "cell_type": "code",
   "execution_count": 34,
   "metadata": {},
   "outputs": [
    {
     "name": "stdout",
     "output_type": "stream",
     "text": [
      "<class 'pandas.core.series.Series'>\n"
     ]
    }
   ],
   "source": [
    "corpus = deduplicated_dataset['Text'] # corpus contains cleaned docs\n",
    "print(type(corpus))"
   ]
  },
  {
   "cell_type": "code",
   "execution_count": null,
   "metadata": {},
   "outputs": [],
   "source": [
    "# TODO\n",
    "for i, doc in enumerate(corpus):\n",
    "    for word in doc:\n",
    "        if word in stopwords_set:\n",
    "            doc = doc.replace(word, '')\n",
    "    corpus[i] = doc"
   ]
  },
  {
   "cell_type": "markdown",
   "metadata": {},
   "source": [
    "#### 3. Using tf-idf to identify stop words in the corpus"
   ]
  },
  {
   "cell_type": "code",
   "execution_count": null,
   "metadata": {},
   "outputs": [],
   "source": [
    "from sklearn.feature_extraction.text import TfidfVectorizer\n",
    "\n",
    "tfidf_vectorizer = TfidfVectorizer(ngram_range = (2, 2))"
   ]
  },
  {
   "cell_type": "code",
   "execution_count": null,
   "metadata": {},
   "outputs": [],
   "source": [
    "corpus = deduplicated_dataset['Text'] # deduplicated_dataset['Text'] has been replaced with cleaned corpus\n",
    "corpus.head(2)"
   ]
  },
  {
   "cell_type": "code",
   "execution_count": null,
   "metadata": {},
   "outputs": [],
   "source": [
    "sparse_matrix = tfidf_vectorizer.fit_transform(corpus)"
   ]
  },
  {
   "cell_type": "code",
   "execution_count": null,
   "metadata": {},
   "outputs": [],
   "source": [
    "type(sparse_matrix)"
   ]
  },
  {
   "cell_type": "code",
   "execution_count": null,
   "metadata": {},
   "outputs": [],
   "source": [
    "sparse_matrix.get_shape()"
   ]
  },
  {
   "cell_type": "code",
   "execution_count": null,
   "metadata": {},
   "outputs": [],
   "source": [
    "# tfidf_vectorizer.get_feature_names()"
   ]
  },
  {
   "cell_type": "code",
   "execution_count": null,
   "metadata": {},
   "outputs": [],
   "source": [
    "# check = tfidf_vectorizer.fit_transform(corpus.head(2))\n",
    "# tfidf_vectorizer.get_feature_names()"
   ]
  },
  {
   "cell_type": "code",
   "execution_count": null,
   "metadata": {},
   "outputs": [],
   "source": [
    "tfidf_vectorizer.vocabulary_"
   ]
  }
 ],
 "metadata": {
  "kernelspec": {
   "display_name": "Python 3",
   "language": "python",
   "name": "python3"
  },
  "language_info": {
   "codemirror_mode": {
    "name": "ipython",
    "version": 3
   },
   "file_extension": ".py",
   "mimetype": "text/x-python",
   "name": "python",
   "nbconvert_exporter": "python",
   "pygments_lexer": "ipython3",
   "version": "3.6.5"
  }
 },
 "nbformat": 4,
 "nbformat_minor": 2
}
