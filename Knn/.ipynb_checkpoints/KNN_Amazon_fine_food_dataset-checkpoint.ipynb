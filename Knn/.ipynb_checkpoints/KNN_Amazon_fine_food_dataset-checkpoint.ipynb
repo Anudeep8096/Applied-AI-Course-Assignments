{
 "cells": [
  {
   "cell_type": "code",
   "execution_count": 145,
   "metadata": {},
   "outputs": [],
   "source": [
    "import warnings\n",
    "warnings.filterwarnings('ignore')"
   ]
  },
  {
   "cell_type": "markdown",
   "metadata": {},
   "source": [
    "## Import the dataset"
   ]
  },
  {
   "cell_type": "code",
   "execution_count": 146,
   "metadata": {},
   "outputs": [],
   "source": [
    "import sqlite3\n",
    "import pandas as pd"
   ]
  },
  {
   "cell_type": "code",
   "execution_count": 147,
   "metadata": {},
   "outputs": [],
   "source": [
    "import os"
   ]
  },
  {
   "cell_type": "code",
   "execution_count": 148,
   "metadata": {},
   "outputs": [
    {
     "data": {
      "text/plain": [
       "['tutorial_ipynbs',\n",
       " 'w2v_practice.model',\n",
       " '.gitignore.swp',\n",
       " '.gitignore',\n",
       " 'database.sqlite',\n",
       " '.ipynb_checkpoints',\n",
       " 'KNN_Amazon_fine_food_dataset.ipynb']"
      ]
     },
     "execution_count": 148,
     "metadata": {},
     "output_type": "execute_result"
    }
   ],
   "source": [
    "os.listdir()"
   ]
  },
  {
   "cell_type": "code",
   "execution_count": 149,
   "metadata": {},
   "outputs": [],
   "source": [
    "db_connection = sqlite3.connect('database.sqlite')"
   ]
  },
  {
   "cell_type": "code",
   "execution_count": 150,
   "metadata": {},
   "outputs": [],
   "source": [
    "polarisable_dataset = pd.read_sql_query('select * from reviews where Score != 3', db_connection)"
   ]
  },
  {
   "cell_type": "code",
   "execution_count": 151,
   "metadata": {},
   "outputs": [
    {
     "data": {
      "text/plain": [
       "Index(['Id', 'ProductId', 'UserId', 'ProfileName', 'HelpfulnessNumerator',\n",
       "       'HelpfulnessDenominator', 'Score', 'Time', 'Summary', 'Text'],\n",
       "      dtype='object')"
      ]
     },
     "execution_count": 151,
     "metadata": {},
     "output_type": "execute_result"
    }
   ],
   "source": [
    "polarisable_dataset.columns"
   ]
  },
  {
   "cell_type": "code",
   "execution_count": 152,
   "metadata": {},
   "outputs": [
    {
     "data": {
      "text/plain": [
       "0    1303862400\n",
       "1    1346976000\n",
       "2    1219017600\n",
       "3    1307923200\n",
       "4    1350777600\n",
       "Name: Time, dtype: int64"
      ]
     },
     "execution_count": 152,
     "metadata": {},
     "output_type": "execute_result"
    }
   ],
   "source": [
    "polarisable_dataset['Time'].head()"
   ]
  },
  {
   "cell_type": "code",
   "execution_count": 153,
   "metadata": {},
   "outputs": [
    {
     "data": {
      "text/html": [
       "<div>\n",
       "<style scoped>\n",
       "    .dataframe tbody tr th:only-of-type {\n",
       "        vertical-align: middle;\n",
       "    }\n",
       "\n",
       "    .dataframe tbody tr th {\n",
       "        vertical-align: top;\n",
       "    }\n",
       "\n",
       "    .dataframe thead th {\n",
       "        text-align: right;\n",
       "    }\n",
       "</style>\n",
       "<table border=\"1\" class=\"dataframe\">\n",
       "  <thead>\n",
       "    <tr style=\"text-align: right;\">\n",
       "      <th></th>\n",
       "      <th>Id</th>\n",
       "      <th>ProductId</th>\n",
       "      <th>UserId</th>\n",
       "      <th>ProfileName</th>\n",
       "      <th>HelpfulnessNumerator</th>\n",
       "      <th>HelpfulnessDenominator</th>\n",
       "      <th>Score</th>\n",
       "      <th>Time</th>\n",
       "      <th>Summary</th>\n",
       "      <th>Text</th>\n",
       "    </tr>\n",
       "  </thead>\n",
       "  <tbody>\n",
       "    <tr>\n",
       "      <th>0</th>\n",
       "      <td>1</td>\n",
       "      <td>B001E4KFG0</td>\n",
       "      <td>A3SGXH7AUHU8GW</td>\n",
       "      <td>delmartian</td>\n",
       "      <td>1</td>\n",
       "      <td>1</td>\n",
       "      <td>5</td>\n",
       "      <td>1303862400</td>\n",
       "      <td>Good Quality Dog Food</td>\n",
       "      <td>I have bought several of the Vitality canned d...</td>\n",
       "    </tr>\n",
       "    <tr>\n",
       "      <th>1</th>\n",
       "      <td>2</td>\n",
       "      <td>B00813GRG4</td>\n",
       "      <td>A1D87F6ZCVE5NK</td>\n",
       "      <td>dll pa</td>\n",
       "      <td>0</td>\n",
       "      <td>0</td>\n",
       "      <td>1</td>\n",
       "      <td>1346976000</td>\n",
       "      <td>Not as Advertised</td>\n",
       "      <td>Product arrived labeled as Jumbo Salted Peanut...</td>\n",
       "    </tr>\n",
       "    <tr>\n",
       "      <th>2</th>\n",
       "      <td>3</td>\n",
       "      <td>B000LQOCH0</td>\n",
       "      <td>ABXLMWJIXXAIN</td>\n",
       "      <td>Natalia Corres \"Natalia Corres\"</td>\n",
       "      <td>1</td>\n",
       "      <td>1</td>\n",
       "      <td>4</td>\n",
       "      <td>1219017600</td>\n",
       "      <td>\"Delight\" says it all</td>\n",
       "      <td>This is a confection that has been around a fe...</td>\n",
       "    </tr>\n",
       "  </tbody>\n",
       "</table>\n",
       "</div>"
      ],
      "text/plain": [
       "   Id   ProductId          UserId                      ProfileName  \\\n",
       "0   1  B001E4KFG0  A3SGXH7AUHU8GW                       delmartian   \n",
       "1   2  B00813GRG4  A1D87F6ZCVE5NK                           dll pa   \n",
       "2   3  B000LQOCH0   ABXLMWJIXXAIN  Natalia Corres \"Natalia Corres\"   \n",
       "\n",
       "   HelpfulnessNumerator  HelpfulnessDenominator  Score        Time  \\\n",
       "0                     1                       1      5  1303862400   \n",
       "1                     0                       0      1  1346976000   \n",
       "2                     1                       1      4  1219017600   \n",
       "\n",
       "                 Summary                                               Text  \n",
       "0  Good Quality Dog Food  I have bought several of the Vitality canned d...  \n",
       "1      Not as Advertised  Product arrived labeled as Jumbo Salted Peanut...  \n",
       "2  \"Delight\" says it all  This is a confection that has been around a fe...  "
      ]
     },
     "execution_count": 153,
     "metadata": {},
     "output_type": "execute_result"
    }
   ],
   "source": [
    "polarisable_dataset.head(3)"
   ]
  },
  {
   "cell_type": "code",
   "execution_count": 154,
   "metadata": {},
   "outputs": [],
   "source": [
    "df = polarisable_dataset # just to make typing easier"
   ]
  },
  {
   "cell_type": "code",
   "execution_count": 155,
   "metadata": {},
   "outputs": [],
   "source": [
    "sampled_df = df.sample(n = 5000, axis = 0, random_state = 0) # random sampling of dataset"
   ]
  },
  {
   "cell_type": "code",
   "execution_count": 156,
   "metadata": {},
   "outputs": [
    {
     "data": {
      "text/plain": [
       "(5000, 10)"
      ]
     },
     "execution_count": 156,
     "metadata": {},
     "output_type": "execute_result"
    }
   ],
   "source": [
    "sampled_df.shape"
   ]
  },
  {
   "cell_type": "markdown",
   "metadata": {},
   "source": [
    "## Replacing the ratings with 0 (for negative reviews) and 1 (for positive reviews).\n",
    "#### Score of >3 has been considered as positive and a score of <3 has been taken as negative"
   ]
  },
  {
   "cell_type": "code",
   "execution_count": 157,
   "metadata": {},
   "outputs": [
    {
     "data": {
      "text/plain": [
       "pandas.core.series.Series"
      ]
     },
     "execution_count": 157,
     "metadata": {},
     "output_type": "execute_result"
    }
   ],
   "source": [
    "type(sampled_df['Score'])"
   ]
  },
  {
   "cell_type": "code",
   "execution_count": 158,
   "metadata": {},
   "outputs": [],
   "source": [
    "scores = sampled_df['Score']"
   ]
  },
  {
   "cell_type": "code",
   "execution_count": 159,
   "metadata": {},
   "outputs": [
    {
     "data": {
      "text/plain": [
       "161937    5\n",
       "451123    5\n",
       "401436    5\n",
       "396416    5\n",
       "449554    1\n",
       "379099    1\n",
       "Name: Score, dtype: int64"
      ]
     },
     "execution_count": 159,
     "metadata": {},
     "output_type": "execute_result"
    }
   ],
   "source": [
    "scores[6:12]"
   ]
  },
  {
   "cell_type": "code",
   "execution_count": 160,
   "metadata": {},
   "outputs": [],
   "source": [
    "scores = list(map(lambda x: 0 if x<3 else 1, scores))"
   ]
  },
  {
   "cell_type": "code",
   "execution_count": 161,
   "metadata": {},
   "outputs": [
    {
     "data": {
      "text/plain": [
       "[1, 1, 1, 1, 0, 0]"
      ]
     },
     "execution_count": 161,
     "metadata": {},
     "output_type": "execute_result"
    }
   ],
   "source": [
    "scores[6:12]"
   ]
  },
  {
   "cell_type": "code",
   "execution_count": 162,
   "metadata": {},
   "outputs": [],
   "source": [
    "sampled_df['Score'] = scores"
   ]
  },
  {
   "cell_type": "code",
   "execution_count": 163,
   "metadata": {},
   "outputs": [
    {
     "data": {
      "text/plain": [
       "pandas.core.series.Series"
      ]
     },
     "execution_count": 163,
     "metadata": {},
     "output_type": "execute_result"
    }
   ],
   "source": [
    "type(sampled_df['Score'].head(2))"
   ]
  },
  {
   "cell_type": "markdown",
   "metadata": {},
   "source": [
    "### Data preprocessing"
   ]
  },
  {
   "cell_type": "markdown",
   "metadata": {},
   "source": [
    "##### 1. Deduplication\n",
    "If a user id has multiple entries for the same timestamp, then it should be removed because it is likely that multiple entries at the same timestamp were for the same product of different variety which has a different product id than other variants\n"
   ]
  },
  {
   "cell_type": "code",
   "execution_count": 164,
   "metadata": {},
   "outputs": [
    {
     "data": {
      "text/plain": [
       "62"
      ]
     },
     "execution_count": 164,
     "metadata": {},
     "output_type": "execute_result"
    }
   ],
   "source": [
    "sampled_df.duplicated(subset = ['UserId', 'Time']).sum()"
   ]
  },
  {
   "cell_type": "code",
   "execution_count": 165,
   "metadata": {},
   "outputs": [],
   "source": [
    "sampled_deduplicated_df = sampled_df.drop_duplicates(subset = ['UserId', 'Time'], inplace = False, keep = 'first')"
   ]
  },
  {
   "cell_type": "markdown",
   "metadata": {},
   "source": [
    "#### 2. Extracting the data needed (corpus)\n",
    "#### And removing html and punctuations"
   ]
  },
  {
   "cell_type": "code",
   "execution_count": 166,
   "metadata": {},
   "outputs": [],
   "source": [
    "corpus = sampled_deduplicated_df['Text']"
   ]
  },
  {
   "cell_type": "code",
   "execution_count": 167,
   "metadata": {},
   "outputs": [],
   "source": [
    "# dataset cleaners\n",
    "\n",
    "import re\n",
    "\n",
    "def remove_html(sentence):\n",
    "    html_tag_re_obj = re.compile('<.*>?')\n",
    "    return re.sub(html_tag_re_obj, ' ', sentence)\n",
    "\n",
    "def remove_punctuations(sentence):\n",
    "    cleaned_sentence = re.sub(r'[^a-zA-Z]', r' ', sentence)\n",
    "    return cleaned_sentence"
   ]
  },
  {
   "cell_type": "code",
   "execution_count": 168,
   "metadata": {},
   "outputs": [],
   "source": [
    "cleaned_corpus = []\n",
    "for doc in corpus:\n",
    "    cleaned_doc_1 = remove_html(doc)\n",
    "    cleaned_doc_2 = remove_punctuations(doc)\n",
    "    cleaned_corpus.append(cleaned_doc_2)"
   ]
  },
  {
   "cell_type": "markdown",
   "metadata": {},
   "source": [
    "#### 3. Removing stop words"
   ]
  },
  {
   "cell_type": "code",
   "execution_count": 169,
   "metadata": {},
   "outputs": [
    {
     "name": "stdout",
     "output_type": "stream",
     "text": [
      "1890\n",
      "0\n",
      "0\n"
     ]
    }
   ],
   "source": [
    "## Since the negative food reviews are likely to contain words like \"don't\", \"didn't\", etc that impart important\n",
    "## meaning to the review, we check if such words exist in the corpus that we have. If these words are in the corpus,\n",
    "## then they should not be in the list of stop words that we use for removing the stopwords from our corpus\n",
    "\n",
    "count = 0\n",
    "for doc in cleaned_corpus:\n",
    "    if \"not\" in doc:\n",
    "        count += 1\n",
    "\n",
    "print(count)\n",
    "\n",
    "count = 0\n",
    "for doc in cleaned_corpus:\n",
    "    if \"don't\" in doc:\n",
    "        count += 1\n",
    "\n",
    "print(count)\n",
    "\n",
    "count = 0\n",
    "for doc in cleaned_corpus:\n",
    "    if \"didn't\" in doc:\n",
    "        count += 1\n",
    "\n",
    "print(count)"
   ]
  },
  {
   "cell_type": "code",
   "execution_count": 170,
   "metadata": {},
   "outputs": [],
   "source": [
    "from nltk.corpus import stopwords"
   ]
  },
  {
   "cell_type": "code",
   "execution_count": 171,
   "metadata": {},
   "outputs": [],
   "source": [
    "stopwords = stopwords.words('english')"
   ]
  },
  {
   "cell_type": "code",
   "execution_count": 172,
   "metadata": {},
   "outputs": [],
   "source": [
    "stopwords = set(stopwords)"
   ]
  },
  {
   "cell_type": "code",
   "execution_count": 173,
   "metadata": {},
   "outputs": [],
   "source": [
    "stopwords.remove('not')"
   ]
  },
  {
   "cell_type": "code",
   "execution_count": 174,
   "metadata": {},
   "outputs": [
    {
     "data": {
      "text/plain": [
       "False"
      ]
     },
     "execution_count": 174,
     "metadata": {},
     "output_type": "execute_result"
    }
   ],
   "source": [
    "'not' in stopwords"
   ]
  },
  {
   "cell_type": "code",
   "execution_count": 175,
   "metadata": {},
   "outputs": [],
   "source": [
    "a = [1,2,3,0,1,0,5]"
   ]
  },
  {
   "cell_type": "code",
   "execution_count": 176,
   "metadata": {},
   "outputs": [],
   "source": [
    "# filtered_corpus = corpus with docs having no stop words\n",
    "# doing with the sexy lambda expression\n",
    "\n",
    "filtered_corpus = list(map(lambda doc: ' '.join(list(filter(lambda word: True if word not in stopwords else False\\\n",
    "                                                            , doc.split()))), corpus))"
   ]
  },
  {
   "cell_type": "code",
   "execution_count": 177,
   "metadata": {},
   "outputs": [
    {
     "data": {
      "text/plain": [
       "4938"
      ]
     },
     "execution_count": 177,
     "metadata": {},
     "output_type": "execute_result"
    }
   ],
   "source": [
    "len(filtered_corpus)"
   ]
  },
  {
   "cell_type": "code",
   "execution_count": 178,
   "metadata": {},
   "outputs": [
    {
     "data": {
      "text/plain": [
       "[\"We pretty much given GF pasta restaurant. It's really good disintegrate toss sauce. My celiac husband thrilled! FYI, first ingredient CORN, quinoa second, not QUITE nutritious might think -- cares!\",\n",
       " 'I bought first SproutMaster years ago Dowling Orchard Market passing Banning, California (back sold them).<br /><br />Through bit pricey plastic tray, I cannot complain ease use quality sprouts grown. The divider IS helpful grow different sprouts, BUT helpful grow type sprout two different stages growth. This way, always fresh sprouts handy anytime.<br /><br />They grow fast Sprout Master makes simple care them.']"
      ]
     },
     "execution_count": 178,
     "metadata": {},
     "output_type": "execute_result"
    }
   ],
   "source": [
    "filtered_corpus[:2]"
   ]
  },
  {
   "cell_type": "code",
   "execution_count": 179,
   "metadata": {},
   "outputs": [],
   "source": [
    "### classical way of removing the lambda expressions\n",
    "### verified the output of lambda expression output with the output of following implementation, outputs are same\n",
    "# docs_without_stop_words = []\n",
    "# for i, doc in enumerate(corpus):\n",
    "#     non_stop_words_in_doc = []\n",
    "#     for word in doc.split():\n",
    "#         if word not in stopwords:\n",
    "#             non_stop_words_in_doc.append(word)\n",
    "            \n",
    "    \n",
    "#     docs_without_stop_words.append(' '.join(non_stop_words_in_doc))"
   ]
  },
  {
   "cell_type": "markdown",
   "metadata": {},
   "source": [
    "#### 4. Stemming the words (SnowballStemmer)"
   ]
  },
  {
   "cell_type": "code",
   "execution_count": 180,
   "metadata": {},
   "outputs": [],
   "source": [
    "from nltk.stem import SnowballStemmer"
   ]
  },
  {
   "cell_type": "code",
   "execution_count": 181,
   "metadata": {},
   "outputs": [],
   "source": [
    "stemmer = SnowballStemmer('english')"
   ]
  },
  {
   "cell_type": "code",
   "execution_count": 182,
   "metadata": {},
   "outputs": [],
   "source": [
    "stemmed_filtered_corpus = list(map(lambda doc: ' '.join(list(map(stemmer.stem, doc.split()))), corpus))"
   ]
  },
  {
   "cell_type": "code",
   "execution_count": 183,
   "metadata": {},
   "outputs": [
    {
     "data": {
      "text/plain": [
       "[\"we had pretti much given up on gf pasta until we had this in a restaurant. it realli good and doesn't disintegr when you toss it with sauce. my celiac husband is thrilled! fyi, the first ingredi is corn, and quinoa is second, so it not quit as nutriti as you might think -- but who cares!\",\n",
       " 'i bought my first sproutmast year ago at the dowl orchard market when pass through banning, california (back when they sold them).<br /><br />through a bit pricey for a plastic tray, i cannot complain about the eas of use or the qualiti of the sprout grown. the divid is help to grow differ sprouts, but it is more help to grow the same type of sprout in two differ stage of growth. this way, you can alway have fresh sprout handi at anytime.<br /><br />they do grow fast and the sprout master make it so simpl to care for them.',\n",
       " 'for bold coffe fan like us, this is absolut delici coffee. it has a complex taste, a hint of someth resembl red wine. i almost hesit to review it becaus it will probabl caus the price to go up or avail to go down.']"
      ]
     },
     "execution_count": 183,
     "metadata": {},
     "output_type": "execute_result"
    }
   ],
   "source": [
    "stemmed_filtered_corpus[:3]"
   ]
  },
  {
   "cell_type": "markdown",
   "metadata": {},
   "source": [
    "## Sorting the dataset according to Time"
   ]
  },
  {
   "cell_type": "code",
   "execution_count": 184,
   "metadata": {},
   "outputs": [],
   "source": [
    "sampled_deduplicated_df['Text'] = stemmed_filtered_corpus"
   ]
  },
  {
   "cell_type": "code",
   "execution_count": 185,
   "metadata": {},
   "outputs": [],
   "source": [
    "working_df = sampled_deduplicated_df"
   ]
  },
  {
   "cell_type": "code",
   "execution_count": 186,
   "metadata": {},
   "outputs": [],
   "source": [
    "working_df_sorted = working_df.sort_values(by = 'Time')"
   ]
  },
  {
   "cell_type": "code",
   "execution_count": 187,
   "metadata": {},
   "outputs": [],
   "source": [
    "stemmed_filtered_corpus_sorted = working_df_sorted['Text']"
   ]
  },
  {
   "cell_type": "markdown",
   "metadata": {},
   "source": [
    "## Vectorizing the reviews and splitting into train, cv and test sets and TRAINING and TESTING"
   ]
  },
  {
   "cell_type": "markdown",
   "metadata": {},
   "source": [
    "### 1.1. Bag of Words (CountVectorizer)"
   ]
  },
  {
   "cell_type": "code",
   "execution_count": 188,
   "metadata": {},
   "outputs": [],
   "source": [
    "from sklearn.feature_extraction.text import CountVectorizer"
   ]
  },
  {
   "cell_type": "code",
   "execution_count": 189,
   "metadata": {},
   "outputs": [],
   "source": [
    "count_vectorizer = CountVectorizer()"
   ]
  },
  {
   "cell_type": "code",
   "execution_count": 190,
   "metadata": {},
   "outputs": [],
   "source": [
    "document_term_matrix = count_vectorizer.fit_transform(stemmed_filtered_corpus_sorted)"
   ]
  },
  {
   "cell_type": "code",
   "execution_count": 191,
   "metadata": {},
   "outputs": [
    {
     "data": {
      "text/plain": [
       "(4938, 13452)"
      ]
     },
     "execution_count": 191,
     "metadata": {},
     "output_type": "execute_result"
    }
   ],
   "source": [
    "document_term_matrix.shape"
   ]
  },
  {
   "cell_type": "code",
   "execution_count": 192,
   "metadata": {},
   "outputs": [
    {
     "data": {
      "text/plain": [
       "scipy.sparse.csr.csr_matrix"
      ]
     },
     "execution_count": 192,
     "metadata": {},
     "output_type": "execute_result"
    }
   ],
   "source": [
    "type(document_term_matrix)"
   ]
  },
  {
   "cell_type": "code",
   "execution_count": 193,
   "metadata": {},
   "outputs": [],
   "source": [
    "X = document_term_matrix"
   ]
  },
  {
   "cell_type": "code",
   "execution_count": 194,
   "metadata": {},
   "outputs": [],
   "source": [
    "y = working_df_sorted['Score']"
   ]
  },
  {
   "cell_type": "markdown",
   "metadata": {},
   "source": [
    "### 1.1.1. Splitting into train, cv and test (Simple Cross Validation)"
   ]
  },
  {
   "cell_type": "code",
   "execution_count": 195,
   "metadata": {},
   "outputs": [],
   "source": [
    "# from sklearn.model_selection import train_test_split"
   ]
  },
  {
   "cell_type": "code",
   "execution_count": 196,
   "metadata": {},
   "outputs": [],
   "source": [
    "### This will not work because train_test_split() splits data randomly. What we want is a time-based splitting on\n",
    "### the dataset that we have sorted chronologically\n",
    "# X_train, X_test, y_train, y_test = train_test_split(X, y, test_size = 0.2, random_state = 0) "
   ]
  },
  {
   "cell_type": "code",
   "execution_count": 197,
   "metadata": {},
   "outputs": [
    {
     "name": "stdout",
     "output_type": "stream",
     "text": [
      "(4938, 13452) (4938,)\n"
     ]
    }
   ],
   "source": [
    "print(X.shape, y.shape)"
   ]
  },
  {
   "cell_type": "code",
   "execution_count": 198,
   "metadata": {},
   "outputs": [
    {
     "data": {
      "text/plain": [
       "pandas.core.series.Series"
      ]
     },
     "execution_count": 198,
     "metadata": {},
     "output_type": "execute_result"
    }
   ],
   "source": [
    "type(y)"
   ]
  },
  {
   "cell_type": "markdown",
   "metadata": {},
   "source": [
    " * ## Function to split dataset into train and test datasets "
   ]
  },
  {
   "cell_type": "code",
   "execution_count": 199,
   "metadata": {},
   "outputs": [],
   "source": [
    "def train_test_splitter(X, y, test_size):\n",
    "    train_size = 1 - test_size\n",
    "    train_row_upper_index = round(train_size*X.shape[0])\n",
    "    test_row_lower_index = train_row_upper_index + 1\n",
    "    \n",
    "#     print(train_row_upper_index)\n",
    "    \n",
    "    X_train = X[:train_row_upper_index + 1, :]\n",
    "    X_test = X[test_row_lower_index:, :]\n",
    "    y_train = y.iloc[:train_row_upper_index + 1]\n",
    "    y_test = y.iloc[test_row_lower_index:]\n",
    "    \n",
    "    return X_train, X_test, y_train, y_test"
   ]
  },
  {
   "cell_type": "code",
   "execution_count": 200,
   "metadata": {},
   "outputs": [],
   "source": [
    "X_train, X_test, y_train, y_test = train_test_splitter(X, y, test_size = 0.25)"
   ]
  },
  {
   "cell_type": "code",
   "execution_count": 201,
   "metadata": {},
   "outputs": [
    {
     "data": {
      "text/plain": [
       "scipy.sparse.csr.csr_matrix"
      ]
     },
     "execution_count": 201,
     "metadata": {},
     "output_type": "execute_result"
    }
   ],
   "source": [
    "type(X_train)"
   ]
  },
  {
   "cell_type": "code",
   "execution_count": 202,
   "metadata": {},
   "outputs": [
    {
     "data": {
      "text/plain": [
       "4938"
      ]
     },
     "execution_count": 202,
     "metadata": {},
     "output_type": "execute_result"
    }
   ],
   "source": [
    "X_train.shape[0] + X_test.shape[0]"
   ]
  },
  {
   "cell_type": "code",
   "execution_count": 203,
   "metadata": {},
   "outputs": [],
   "source": [
    "### Splitting the previous X_train and y_train into X_train, X_cv and y_train, y_cv\n",
    "X_train, X_cv, y_train, y_cv = train_test_splitter(X_train, y_train, 0.25)"
   ]
  },
  {
   "cell_type": "markdown",
   "metadata": {},
   "source": [
    "### 1.1.3. Training and Testing"
   ]
  },
  {
   "cell_type": "code",
   "execution_count": 204,
   "metadata": {},
   "outputs": [],
   "source": [
    "from sklearn.neighbors import KNeighborsClassifier"
   ]
  },
  {
   "cell_type": "code",
   "execution_count": 205,
   "metadata": {},
   "outputs": [],
   "source": [
    "from sklearn.metrics import accuracy_score"
   ]
  },
  {
   "cell_type": "markdown",
   "metadata": {},
   "source": [
    "* ## KNN Classifier and cross validator using Simple Cross Validation"
   ]
  },
  {
   "cell_type": "code",
   "execution_count": 206,
   "metadata": {},
   "outputs": [],
   "source": [
    "def knn_trainer_and_cross_validator(k, X_train, y_train, X_cv, y_cv):\n",
    "    \n",
    "    # Side note: note that X_train and y_train are sparse matrices, and not numpy arrays\n",
    "    knn = KNeighborsClassifier(k)\n",
    "    knn.fit(X_train, y_train)\n",
    "    \n",
    "    y_pred_cv = knn.predict(X_cv)\n",
    "    \n",
    "    accuracy = accuracy_score(y_cv, y_pred_cv) * 100\n",
    "    \n",
    "    return accuracy"
   ]
  },
  {
   "cell_type": "code",
   "execution_count": 207,
   "metadata": {},
   "outputs": [
    {
     "name": "stdout",
     "output_type": "stream",
     "text": [
      "Accuracy for k = 61 is: 83.13513513513513\n",
      "Accuracy for k = 63 is: 83.13513513513513\n",
      "Accuracy for k = 65 is: 83.13513513513513\n",
      "Accuracy for k = 67 is: 83.13513513513513\n",
      "Accuracy for k = 69 is: 83.13513513513513\n",
      "Accuracy for k = 71 is: 83.13513513513513\n",
      "Accuracy for k = 73 is: 83.13513513513513\n",
      "Accuracy for k = 75 is: 83.13513513513513\n",
      "Accuracy for k = 77 is: 83.13513513513513\n",
      "Accuracy for k = 79 is: 83.13513513513513\n",
      "Accuracy for k = 81 is: 83.13513513513513\n",
      "Accuracy for k = 83 is: 83.13513513513513\n",
      "Accuracy for k = 85 is: 83.13513513513513\n",
      "Accuracy for k = 87 is: 83.13513513513513\n",
      "Accuracy for k = 89 is: 83.13513513513513\n"
     ]
    }
   ],
   "source": [
    "## tried for k = 1 till 30 and found that for odd k values in this range, accuracy always came below 86%.\n",
    "## accuracy for k = 31 to 41 (inclusive) was same, 86.8876% and from 43 to 59 it was 86.7435%.\n",
    "## accuracy for k = 61 to 90 is clearly less than the accuracy obtained for k = 31 to 41.\n",
    "## we shall choose one of the k values from k = 31 to 41\n",
    "\n",
    "for i in range(61, 90, 2):\n",
    "    accuracy = knn_trainer_and_cross_validator(i, X_train, y_train, X_cv, y_cv)\n",
    "    print('Accuracy for k = ' + str(i) + ' is: ' + str(accuracy))"
   ]
  },
  {
   "cell_type": "code",
   "execution_count": 208,
   "metadata": {},
   "outputs": [],
   "source": [
    "##### Since the cross-validation accuracy obtained for k = 31, 33, 35, 37, 39 and 41 are same and max, we choose\n",
    "##### k = 33."
   ]
  },
  {
   "cell_type": "code",
   "execution_count": 209,
   "metadata": {},
   "outputs": [],
   "source": [
    "knn = KNeighborsClassifier(n_neighbors = 33)"
   ]
  },
  {
   "cell_type": "code",
   "execution_count": 210,
   "metadata": {},
   "outputs": [
    {
     "data": {
      "text/plain": [
       "KNeighborsClassifier(algorithm='auto', leaf_size=30, metric='minkowski',\n",
       "           metric_params=None, n_jobs=1, n_neighbors=33, p=2,\n",
       "           weights='uniform')"
      ]
     },
     "execution_count": 210,
     "metadata": {},
     "output_type": "execute_result"
    }
   ],
   "source": [
    "knn.fit(X_train, y_train)"
   ]
  },
  {
   "cell_type": "code",
   "execution_count": 211,
   "metadata": {},
   "outputs": [],
   "source": [
    "### finally testing after tuning the hyperparameter 'k' on the cross validation set\n",
    "y_pred_test = knn.predict(X_test)"
   ]
  },
  {
   "cell_type": "code",
   "execution_count": 212,
   "metadata": {},
   "outputs": [
    {
     "data": {
      "text/plain": [
       "83.29278183292782"
      ]
     },
     "execution_count": 212,
     "metadata": {},
     "output_type": "execute_result"
    }
   ],
   "source": [
    "accuracy_score(y_test, y_pred_test)*100"
   ]
  },
  {
   "cell_type": "markdown",
   "metadata": {},
   "source": [
    "### 1.2. Tf-Idf Vectorization"
   ]
  },
  {
   "cell_type": "code",
   "execution_count": 213,
   "metadata": {},
   "outputs": [],
   "source": [
    "from sklearn.feature_extraction.text import TfidfVectorizer"
   ]
  },
  {
   "cell_type": "code",
   "execution_count": 214,
   "metadata": {},
   "outputs": [],
   "source": [
    "tfidf_vectorizer = TfidfVectorizer(ngram_range = (1,1))"
   ]
  },
  {
   "cell_type": "code",
   "execution_count": 215,
   "metadata": {},
   "outputs": [],
   "source": [
    "tfidf_vectorizer = tfidf_vectorizer.fit(stemmed_filtered_corpus_sorted)"
   ]
  },
  {
   "cell_type": "code",
   "execution_count": 216,
   "metadata": {},
   "outputs": [],
   "source": [
    "# tfidf_vectorizer.vocabulary_"
   ]
  },
  {
   "cell_type": "code",
   "execution_count": 217,
   "metadata": {},
   "outputs": [],
   "source": [
    "document_term_matrix = tfidf_vectorizer.transform(stemmed_filtered_corpus_sorted)"
   ]
  },
  {
   "cell_type": "code",
   "execution_count": 218,
   "metadata": {},
   "outputs": [
    {
     "data": {
      "text/plain": [
       "scipy.sparse.csr.csr_matrix"
      ]
     },
     "execution_count": 218,
     "metadata": {},
     "output_type": "execute_result"
    }
   ],
   "source": [
    "type(document_term_matrix)"
   ]
  },
  {
   "cell_type": "code",
   "execution_count": 219,
   "metadata": {},
   "outputs": [
    {
     "data": {
      "text/plain": [
       "(4938, 13452)"
      ]
     },
     "execution_count": 219,
     "metadata": {},
     "output_type": "execute_result"
    }
   ],
   "source": [
    "document_term_matrix.shape"
   ]
  },
  {
   "cell_type": "code",
   "execution_count": 220,
   "metadata": {},
   "outputs": [],
   "source": [
    "X = document_term_matrix"
   ]
  },
  {
   "cell_type": "code",
   "execution_count": 221,
   "metadata": {},
   "outputs": [],
   "source": [
    "y = working_df_sorted['Score']"
   ]
  },
  {
   "cell_type": "code",
   "execution_count": 222,
   "metadata": {},
   "outputs": [],
   "source": [
    "X_train_first, X_test, y_train_first, y_test = train_test_splitter(X, y, test_size = 0.25)"
   ]
  },
  {
   "cell_type": "code",
   "execution_count": 223,
   "metadata": {},
   "outputs": [],
   "source": [
    "X_train, X_cv, y_train, y_cv = train_test_splitter(X_train_first, y_train_first, test_size = 0.25)"
   ]
  },
  {
   "cell_type": "markdown",
   "metadata": {},
   "source": [
    "### 1.2.1. Training and Testing"
   ]
  },
  {
   "cell_type": "code",
   "execution_count": 224,
   "metadata": {},
   "outputs": [
    {
     "name": "stdout",
     "output_type": "stream",
     "text": [
      "Accuracy for k = 1 is 77.1891891891892\n",
      "Accuracy for k = 3 is 82.16216216216216\n",
      "Accuracy for k = 5 is 82.91891891891892\n",
      "Accuracy for k = 7 is 83.56756756756756\n",
      "Accuracy for k = 9 is 83.24324324324324\n",
      "Accuracy for k = 11 is 83.24324324324324\n",
      "Accuracy for k = 13 is 83.56756756756756\n",
      "Accuracy for k = 15 is 83.35135135135135\n",
      "Accuracy for k = 17 is 83.35135135135135\n",
      "Accuracy for k = 19 is 83.35135135135135\n",
      "Accuracy for k = 21 is 83.24324324324324\n",
      "Accuracy for k = 23 is 83.24324324324324\n",
      "Accuracy for k = 25 is 83.24324324324324\n",
      "Accuracy for k = 27 is 83.24324324324324\n",
      "Accuracy for k = 29 is 83.24324324324324\n",
      "Accuracy for k = 31 is 83.24324324324324\n",
      "Accuracy for k = 33 is 83.35135135135135\n",
      "Accuracy for k = 35 is 83.24324324324324\n",
      "Accuracy for k = 37 is 83.24324324324324\n",
      "Accuracy for k = 39 is 83.24324324324324\n",
      "Accuracy for k = 41 is 83.24324324324324\n",
      "Accuracy for k = 43 is 83.24324324324324\n",
      "Accuracy for k = 45 is 83.13513513513513\n",
      "Accuracy for k = 47 is 83.13513513513513\n",
      "Accuracy for k = 49 is 83.13513513513513\n",
      "Accuracy for k = 51 is 83.13513513513513\n",
      "Accuracy for k = 53 is 83.13513513513513\n",
      "Accuracy for k = 55 is 83.13513513513513\n",
      "Accuracy for k = 57 is 83.13513513513513\n",
      "Accuracy for k = 59 is 83.13513513513513\n",
      "Accuracy for k = 61 is 83.13513513513513\n",
      "Accuracy for k = 63 is 83.13513513513513\n",
      "Accuracy for k = 65 is 83.13513513513513\n",
      "Accuracy for k = 67 is 83.13513513513513\n",
      "Accuracy for k = 69 is 83.13513513513513\n",
      "Accuracy for k = 71 is 83.13513513513513\n",
      "Accuracy for k = 73 is 83.13513513513513\n",
      "Accuracy for k = 75 is 83.13513513513513\n",
      "Accuracy for k = 77 is 83.13513513513513\n",
      "Accuracy for k = 79 is 83.13513513513513\n",
      "Accuracy for k = 81 is 83.13513513513513\n",
      "Accuracy for k = 83 is 83.13513513513513\n",
      "Accuracy for k = 85 is 83.13513513513513\n",
      "Accuracy for k = 87 is 83.13513513513513\n",
      "Accuracy for k = 89 is 83.13513513513513\n",
      "Accuracy for k = 91 is 83.13513513513513\n",
      "Accuracy for k = 93 is 83.13513513513513\n",
      "Accuracy for k = 95 is 83.13513513513513\n",
      "Accuracy for k = 97 is 83.13513513513513\n",
      "Accuracy for k = 99 is 83.13513513513513\n"
     ]
    }
   ],
   "source": [
    "accuracies_for_diff_k = []\n",
    "for i in range(1, 100, 2):\n",
    "    accuracy = knn_trainer_and_cross_validator(i, X_train, y_train, X_cv, y_cv)\n",
    "    accuracies_for_diff_k.append(accuracy)\n",
    "    print('Accuracy for k = ' + str(i) + ' is ' + str(accuracy))"
   ]
  },
  {
   "cell_type": "code",
   "execution_count": 225,
   "metadata": {},
   "outputs": [
    {
     "name": "stdout",
     "output_type": "stream",
     "text": [
      "83.56756756756756\t3\n"
     ]
    }
   ],
   "source": [
    "print(max(accuracies_for_diff_k), accuracies_for_diff_k.index(max(accuracies_for_diff_k)), sep = '\\t')"
   ]
  },
  {
   "cell_type": "code",
   "execution_count": 226,
   "metadata": {},
   "outputs": [],
   "source": [
    "### index = 3 has the maximum accuracy. This index corresponds to k = 7 (from the above printed list of accuracies)\n",
    "\n",
    "knn = KNeighborsClassifier(n_neighbors = 7)"
   ]
  },
  {
   "cell_type": "code",
   "execution_count": 227,
   "metadata": {},
   "outputs": [],
   "source": [
    "## training the final 3-NN\n",
    "\n",
    "knn = knn.fit(X_train, y_train)"
   ]
  },
  {
   "cell_type": "code",
   "execution_count": 228,
   "metadata": {},
   "outputs": [],
   "source": [
    "### testing on test data\n",
    "\n",
    "y_pred = knn.predict(X_test)"
   ]
  },
  {
   "cell_type": "code",
   "execution_count": 229,
   "metadata": {},
   "outputs": [
    {
     "data": {
      "text/plain": [
       "83.69829683698296"
      ]
     },
     "execution_count": 229,
     "metadata": {},
     "output_type": "execute_result"
    }
   ],
   "source": [
    "### accuracy score\n",
    "\n",
    "accuracy_score(y_test, y_pred) * 100"
   ]
  },
  {
   "cell_type": "markdown",
   "metadata": {},
   "source": [
    "### 1.3. Average W2V"
   ]
  },
  {
   "cell_type": "code",
   "execution_count": 230,
   "metadata": {},
   "outputs": [],
   "source": [
    "import gensim"
   ]
  },
  {
   "cell_type": "markdown",
   "metadata": {},
   "source": [
    "### 1.3.1. Tokenizing each document in the corpus\n",
    "#### gensim w2v requires each document to be tokenized into words. The corpus will be a list of lists of words"
   ]
  },
  {
   "cell_type": "code",
   "execution_count": 231,
   "metadata": {},
   "outputs": [],
   "source": [
    "## stemmed_filtered_corpus_sorted is a pandas Series object. It should be converted into a list first.\n",
    "## after that each sentence in the resulted list should be tokenized into words stored in a list.\n",
    "## all these lists should be stored into another list so as to give a list of lists as required by gensim w2v\n",
    "\n",
    "stemmed_filtered_corpus_sorted_list = list(stemmed_filtered_corpus_sorted)"
   ]
  },
  {
   "cell_type": "code",
   "execution_count": 232,
   "metadata": {},
   "outputs": [],
   "source": [
    "stemmed_filtered_sorted_list_of_tokenized_sentences = []\n",
    "\n",
    "for sentence in stemmed_filtered_corpus_sorted:\n",
    "    tokenized_sentence = sentence.split()\n",
    "    stemmed_filtered_sorted_list_of_tokenized_sentences.append(tokenized_sentence)"
   ]
  },
  {
   "cell_type": "code",
   "execution_count": 233,
   "metadata": {},
   "outputs": [],
   "source": [
    "w2v = gensim.models.Word2Vec(stemmed_filtered_sorted_list_of_tokenized_sentences, min_count = 1, size = 50, workers = 4)"
   ]
  },
  {
   "cell_type": "code",
   "execution_count": 234,
   "metadata": {},
   "outputs": [
    {
     "data": {
      "text/plain": [
       "gensim.models.keyedvectors.Word2VecKeyedVectors"
      ]
     },
     "execution_count": 234,
     "metadata": {},
     "output_type": "execute_result"
    }
   ],
   "source": [
    "type(w2v.wv)"
   ]
  },
  {
   "cell_type": "code",
   "execution_count": 235,
   "metadata": {},
   "outputs": [
    {
     "data": {
      "text/plain": [
       "array([ 2.25985467e-01,  3.09546947e-01, -8.32753256e-02,  1.86660707e-01,\n",
       "        6.68695346e-02, -5.94310045e-01,  3.31842899e-03, -1.12927198e-01,\n",
       "       -2.23213345e-01,  3.41424882e-01, -2.23198563e-01, -1.28427282e-01,\n",
       "        2.41897646e-02,  6.68350041e-01,  6.45693839e-02,  8.38903904e-01,\n",
       "       -7.55395740e-02, -4.95994478e-01,  1.15389526e-01, -3.06253713e-02,\n",
       "        2.92884022e-01,  3.56055170e-01, -5.18129582e-06,  1.39138281e-01,\n",
       "       -4.61711198e-01, -1.64292157e-01,  2.61511803e-01, -1.38559699e-01,\n",
       "       -1.36006325e-01, -3.04406375e-01, -5.75044155e-01,  9.12262052e-02,\n",
       "       -8.11310485e-02,  5.93134761e-03, -2.07659647e-01,  3.45531613e-01,\n",
       "        9.52832699e-02, -1.65769048e-02, -2.63604760e-01,  6.45498559e-02,\n",
       "        3.70814055e-01,  6.73059048e-03, -3.39449018e-01,  1.35534406e-01,\n",
       "        9.90252593e-05, -2.04053879e-01,  1.70033257e-02,  4.57305282e-01,\n",
       "       -2.21328050e-01, -2.39042461e-01], dtype=float32)"
      ]
     },
     "execution_count": 235,
     "metadata": {},
     "output_type": "execute_result"
    }
   ],
   "source": [
    "w2v.wv['happen']"
   ]
  },
  {
   "cell_type": "code",
   "execution_count": 236,
   "metadata": {},
   "outputs": [
    {
     "data": {
      "text/plain": [
       "numpy.ndarray"
      ]
     },
     "execution_count": 236,
     "metadata": {},
     "output_type": "execute_result"
    }
   ],
   "source": [
    "type(w2v.wv['happen'])"
   ]
  },
  {
   "cell_type": "code",
   "execution_count": 237,
   "metadata": {},
   "outputs": [
    {
     "data": {
      "text/plain": [
       "(50,)"
      ]
     },
     "execution_count": 237,
     "metadata": {},
     "output_type": "execute_result"
    }
   ],
   "source": [
    "w2v.wv['happen'].shape"
   ]
  },
  {
   "cell_type": "code",
   "execution_count": 238,
   "metadata": {},
   "outputs": [],
   "source": [
    "### saving the w2v model for later use\n",
    "\n",
    "import os\n",
    "\n",
    "if(not os.path.exists('w2v_practice.model')):\n",
    "    w2v.save('w2v_practice.model')\n",
    "    \n",
    "else:\n",
    "    w2v = gensim.models.Word2Vec.load('w2v_practice.model')"
   ]
  },
  {
   "cell_type": "code",
   "execution_count": 239,
   "metadata": {},
   "outputs": [],
   "source": [
    "### computing avg w2v representation for the reviews dataset\n",
    "\n",
    "avg_w2v = []\n",
    "for tokenized_sentence in stemmed_filtered_corpus_sorted_list_of_tokenized_sentences:\n",
    "    sum_of_vectors_for_each_word = 0\n",
    "    for word in tokenized_sentence:\n",
    "        sum_of_vectors_for_each_word += w2v.wv[word]\n",
    "    avg_w2v.append(sum_of_vectors_for_each_word / len(tokenized_sentence))"
   ]
  },
  {
   "cell_type": "code",
   "execution_count": 240,
   "metadata": {},
   "outputs": [
    {
     "data": {
      "text/plain": [
       "numpy.ndarray"
      ]
     },
     "execution_count": 240,
     "metadata": {},
     "output_type": "execute_result"
    }
   ],
   "source": [
    "type(avg_w2v[0])"
   ]
  },
  {
   "cell_type": "code",
   "execution_count": 241,
   "metadata": {},
   "outputs": [
    {
     "data": {
      "text/plain": [
       "(50,)"
      ]
     },
     "execution_count": 241,
     "metadata": {},
     "output_type": "execute_result"
    }
   ],
   "source": [
    "avg_w2v[0].shape"
   ]
  },
  {
   "cell_type": "code",
   "execution_count": 242,
   "metadata": {},
   "outputs": [
    {
     "data": {
      "text/plain": [
       "array([ 0.661626  ,  0.92628944, -0.013446  ,  0.62764466,  0.18625233,\n",
       "       -1.4530652 ,  0.15930279, -0.49002123, -0.5853565 ,  0.8513393 ,\n",
       "       -0.32445616, -0.17482114, -0.07569546,  1.2116948 ,  0.07239655,\n",
       "        1.691816  ,  0.03975666, -0.9989167 ,  0.23586877, -0.10961175,\n",
       "        0.56027454,  0.7376916 , -0.17771463,  0.45288604, -1.0219226 ,\n",
       "       -0.4630284 ,  0.5353912 , -0.05520993, -0.45619234, -0.51378196,\n",
       "       -1.5669233 ,  0.05079133, -0.03936822,  0.09876107, -0.44751152,\n",
       "        0.80088794,  0.17019792,  0.03535123, -0.5714997 ,  0.27900317,\n",
       "        0.9409237 , -0.13131371, -0.5932932 ,  0.17622764, -0.17409271,\n",
       "       -0.42300984, -0.04031445,  0.95066714, -0.5954353 , -0.60495836],\n",
       "      dtype=float32)"
      ]
     },
     "execution_count": 242,
     "metadata": {},
     "output_type": "execute_result"
    }
   ],
   "source": [
    "avg_w2v[0]"
   ]
  },
  {
   "cell_type": "code",
   "execution_count": 243,
   "metadata": {},
   "outputs": [],
   "source": [
    "X = avg_w2v\n",
    "## y is the same as before"
   ]
  },
  {
   "cell_type": "code",
   "execution_count": 244,
   "metadata": {},
   "outputs": [],
   "source": [
    "import numpy as np"
   ]
  },
  {
   "cell_type": "code",
   "execution_count": 245,
   "metadata": {},
   "outputs": [],
   "source": [
    "### the train_test_splitter() assumes X to be a numpy array\n",
    "X = np.array(avg_w2v)"
   ]
  },
  {
   "cell_type": "code",
   "execution_count": 246,
   "metadata": {},
   "outputs": [
    {
     "data": {
      "text/plain": [
       "(4938, 50)"
      ]
     },
     "execution_count": 246,
     "metadata": {},
     "output_type": "execute_result"
    }
   ],
   "source": [
    "X.shape"
   ]
  },
  {
   "cell_type": "code",
   "execution_count": 247,
   "metadata": {},
   "outputs": [],
   "source": [
    "X_train_first, X_test, y_train_first, y_test = train_test_splitter(X, y, test_size = 0.25)"
   ]
  },
  {
   "cell_type": "code",
   "execution_count": 248,
   "metadata": {},
   "outputs": [],
   "source": [
    "X_train, X_cv, y_train, y_cv = train_test_splitter(X_train_first, y_train_first, test_size = 0.25)"
   ]
  },
  {
   "cell_type": "markdown",
   "metadata": {},
   "source": [
    "### 1.3.2. Training, cross validating to tune hyperparameter k, and then test the model"
   ]
  },
  {
   "cell_type": "code",
   "execution_count": 249,
   "metadata": {},
   "outputs": [
    {
     "name": "stdout",
     "output_type": "stream",
     "text": [
      "Accuracy for k = 1 is 76.21621621621621\n",
      "Accuracy for k = 3 is 79.56756756756756\n",
      "Accuracy for k = 5 is 82.37837837837839\n",
      "Accuracy for k = 7 is 82.05405405405405\n",
      "Accuracy for k = 9 is 83.45945945945947\n",
      "Accuracy for k = 11 is 83.56756756756756\n",
      "Accuracy for k = 13 is 83.13513513513513\n",
      "Accuracy for k = 15 is 83.13513513513513\n",
      "Accuracy for k = 17 is 83.13513513513513\n",
      "Accuracy for k = 19 is 83.13513513513513\n",
      "Accuracy for k = 21 is 83.13513513513513\n",
      "Accuracy for k = 23 is 83.02702702702702\n",
      "Accuracy for k = 25 is 83.13513513513513\n",
      "Accuracy for k = 27 is 83.13513513513513\n",
      "Accuracy for k = 29 is 83.13513513513513\n",
      "Accuracy for k = 31 is 83.13513513513513\n",
      "Accuracy for k = 33 is 83.13513513513513\n",
      "Accuracy for k = 35 is 83.13513513513513\n",
      "Accuracy for k = 37 is 83.13513513513513\n",
      "Accuracy for k = 39 is 83.13513513513513\n",
      "Accuracy for k = 41 is 83.13513513513513\n",
      "Accuracy for k = 43 is 83.13513513513513\n",
      "Accuracy for k = 45 is 83.13513513513513\n",
      "Accuracy for k = 47 is 83.13513513513513\n",
      "Accuracy for k = 49 is 83.13513513513513\n",
      "Accuracy for k = 51 is 83.13513513513513\n",
      "Accuracy for k = 53 is 83.13513513513513\n",
      "Accuracy for k = 55 is 83.13513513513513\n",
      "Accuracy for k = 57 is 83.13513513513513\n",
      "Accuracy for k = 59 is 83.13513513513513\n",
      "Accuracy for k = 61 is 83.13513513513513\n",
      "Accuracy for k = 63 is 83.13513513513513\n",
      "Accuracy for k = 65 is 83.13513513513513\n",
      "Accuracy for k = 67 is 83.13513513513513\n",
      "Accuracy for k = 69 is 83.13513513513513\n",
      "Accuracy for k = 71 is 83.13513513513513\n",
      "Accuracy for k = 73 is 83.13513513513513\n",
      "Accuracy for k = 75 is 83.13513513513513\n",
      "Accuracy for k = 77 is 83.13513513513513\n",
      "Accuracy for k = 79 is 83.13513513513513\n",
      "Accuracy for k = 81 is 83.13513513513513\n",
      "Accuracy for k = 83 is 83.13513513513513\n",
      "Accuracy for k = 85 is 83.13513513513513\n",
      "Accuracy for k = 87 is 83.13513513513513\n",
      "Accuracy for k = 89 is 83.13513513513513\n",
      "Accuracy for k = 91 is 83.13513513513513\n",
      "Accuracy for k = 93 is 83.13513513513513\n",
      "Accuracy for k = 95 is 83.13513513513513\n",
      "Accuracy for k = 97 is 83.13513513513513\n",
      "Accuracy for k = 99 is 83.13513513513513\n"
     ]
    }
   ],
   "source": [
    "accuracies_for_diff_k = []\n",
    "for i in range(1, 100, 2):\n",
    "    accuracy = knn_trainer_and_cross_validator(i, X_train, y_train, X_cv, y_cv)\n",
    "    accuracies_for_diff_k.append(accuracy)\n",
    "    print('Accuracy for k = ' + str(i) + ' is ' + str(accuracy))"
   ]
  },
  {
   "cell_type": "code",
   "execution_count": 250,
   "metadata": {},
   "outputs": [],
   "source": [
    "max_accuracy = max(accuracies_for_diff_k)"
   ]
  },
  {
   "cell_type": "code",
   "execution_count": 251,
   "metadata": {},
   "outputs": [
    {
     "name": "stdout",
     "output_type": "stream",
     "text": [
      "83.56756756756756 5\n"
     ]
    }
   ],
   "source": [
    "print(max_accuracy, accuracies_for_diff_k.index(max_accuracy))"
   ]
  },
  {
   "cell_type": "code",
   "execution_count": 252,
   "metadata": {},
   "outputs": [],
   "source": [
    "### max_accuracy is indexed at 5 which corresponds to k = 11; hypertuned on CV set. Training knn for k = 5\n",
    "\n",
    "knn = KNeighborsClassifier(n_neighbors = 5)"
   ]
  },
  {
   "cell_type": "code",
   "execution_count": 253,
   "metadata": {},
   "outputs": [],
   "source": [
    "knn = knn.fit(X_train, y_train)"
   ]
  },
  {
   "cell_type": "markdown",
   "metadata": {},
   "source": [
    "### 1.3.3. Testing on test set"
   ]
  },
  {
   "cell_type": "code",
   "execution_count": 254,
   "metadata": {},
   "outputs": [],
   "source": [
    "y_pred = knn.predict(X_test)"
   ]
  },
  {
   "cell_type": "code",
   "execution_count": 255,
   "metadata": {},
   "outputs": [
    {
     "data": {
      "text/plain": [
       "80.61638280616383"
      ]
     },
     "execution_count": 255,
     "metadata": {},
     "output_type": "execute_result"
    }
   ],
   "source": [
    "accuracy_score(y_test, y_pred) * 100"
   ]
  },
  {
   "cell_type": "markdown",
   "metadata": {},
   "source": [
    "### 1.4. TfIdf weighted Word2Vec"
   ]
  },
  {
   "cell_type": "code",
   "execution_count": 258,
   "metadata": {},
   "outputs": [
    {
     "data": {
      "text/plain": [
       "dict"
      ]
     },
     "execution_count": 258,
     "metadata": {},
     "output_type": "execute_result"
    }
   ],
   "source": [
    "type(tfidf_vectorizer.vocabulary_)"
   ]
  },
  {
   "cell_type": "code",
   "execution_count": 266,
   "metadata": {},
   "outputs": [],
   "source": [
    "tfidf_weighted_w2v = []\n",
    "for sentence in stemmed_filtered_corpus_sorted_list_of_tokenized_sentences:\n",
    "    tfidf_weighted_sum_of_vectors_for_each_word = 0\n",
    "    for word in sentence:\n",
    "        if word not in tfidf_vectorizer.vocabulary_ or word not in w2v.wv:\n",
    "            continue\n",
    "        tfidf_weighted_sum_of_vectors_for_each_word += tfidf_vectorizer.vocabulary_[word] * w2v.wv[word]\n",
    "    tfidf_weighted_w2v.append(tfidf_weighted_sum_of_vectors_for_each_word)"
   ]
  },
  {
   "cell_type": "code",
   "execution_count": 267,
   "metadata": {},
   "outputs": [],
   "source": [
    "X = np.array(tfidf_weighted_w2v)"
   ]
  },
  {
   "cell_type": "code",
   "execution_count": 268,
   "metadata": {},
   "outputs": [
    {
     "data": {
      "text/plain": [
       "(4938, 50)"
      ]
     },
     "execution_count": 268,
     "metadata": {},
     "output_type": "execute_result"
    }
   ],
   "source": [
    "X.shape"
   ]
  },
  {
   "cell_type": "code",
   "execution_count": 282,
   "metadata": {},
   "outputs": [],
   "source": [
    "X_train_first, X_test, y_train_first, y_test = train_test_splitter(X, y, test_size = 0.25)"
   ]
  },
  {
   "cell_type": "code",
   "execution_count": 283,
   "metadata": {},
   "outputs": [],
   "source": [
    "X_train, X_cv, y_train, y_cv = train_test_splitter(X_train_first, y_train_first, test_size = 0.25)"
   ]
  },
  {
   "cell_type": "markdown",
   "metadata": {},
   "source": [
    "### 1.4.1. Training, tuning hyperparameter k, and testing"
   ]
  },
  {
   "cell_type": "code",
   "execution_count": 284,
   "metadata": {},
   "outputs": [
    {
     "name": "stdout",
     "output_type": "stream",
     "text": [
      "Accuracy for k = 1 is 73.83783783783784\n",
      "Accuracy for k = 3 is 77.51351351351352\n",
      "Accuracy for k = 5 is 80.64864864864865\n",
      "Accuracy for k = 7 is 82.05405405405405\n",
      "Accuracy for k = 9 is 82.37837837837839\n",
      "Accuracy for k = 11 is 82.8108108108108\n",
      "Accuracy for k = 13 is 82.70270270270271\n",
      "Accuracy for k = 15 is 83.02702702702702\n",
      "Accuracy for k = 17 is 83.02702702702702\n",
      "Accuracy for k = 19 is 83.02702702702702\n",
      "Accuracy for k = 21 is 83.13513513513513\n",
      "Accuracy for k = 23 is 83.13513513513513\n",
      "Accuracy for k = 25 is 83.13513513513513\n",
      "Accuracy for k = 27 is 83.13513513513513\n",
      "Accuracy for k = 29 is 83.13513513513513\n",
      "Accuracy for k = 31 is 83.13513513513513\n",
      "Accuracy for k = 33 is 83.13513513513513\n",
      "Accuracy for k = 35 is 83.13513513513513\n",
      "Accuracy for k = 37 is 83.13513513513513\n",
      "Accuracy for k = 39 is 83.13513513513513\n",
      "Accuracy for k = 41 is 83.13513513513513\n",
      "Accuracy for k = 43 is 83.13513513513513\n",
      "Accuracy for k = 45 is 83.13513513513513\n",
      "Accuracy for k = 47 is 83.13513513513513\n",
      "Accuracy for k = 49 is 83.13513513513513\n",
      "Accuracy for k = 51 is 83.13513513513513\n",
      "Accuracy for k = 53 is 83.13513513513513\n",
      "Accuracy for k = 55 is 83.13513513513513\n",
      "Accuracy for k = 57 is 83.13513513513513\n",
      "Accuracy for k = 59 is 83.13513513513513\n",
      "Accuracy for k = 61 is 83.13513513513513\n",
      "Accuracy for k = 63 is 83.13513513513513\n",
      "Accuracy for k = 65 is 83.13513513513513\n",
      "Accuracy for k = 67 is 83.13513513513513\n",
      "Accuracy for k = 69 is 83.13513513513513\n",
      "Accuracy for k = 71 is 83.13513513513513\n",
      "Accuracy for k = 73 is 83.13513513513513\n",
      "Accuracy for k = 75 is 83.13513513513513\n",
      "Accuracy for k = 77 is 83.13513513513513\n",
      "Accuracy for k = 79 is 83.13513513513513\n",
      "Accuracy for k = 81 is 83.13513513513513\n",
      "Accuracy for k = 83 is 83.13513513513513\n",
      "Accuracy for k = 85 is 83.13513513513513\n",
      "Accuracy for k = 87 is 83.13513513513513\n",
      "Accuracy for k = 89 is 83.13513513513513\n",
      "Accuracy for k = 91 is 83.13513513513513\n",
      "Accuracy for k = 93 is 83.13513513513513\n",
      "Accuracy for k = 95 is 83.13513513513513\n",
      "Accuracy for k = 97 is 83.13513513513513\n",
      "Accuracy for k = 99 is 83.13513513513513\n"
     ]
    }
   ],
   "source": [
    "accuracies_for_diff_k = []\n",
    "\n",
    "for i in range(1, 100, 2):\n",
    "    accuracy = knn_trainer_and_cross_validator(i, X_train, y_train, X_cv, y_cv)\n",
    "    accuracies_for_diff_k.append(accuracy)\n",
    "    print('Accuracy for k = ' + str(i) + ' is ' + str(accuracy))"
   ]
  },
  {
   "cell_type": "code",
   "execution_count": 285,
   "metadata": {},
   "outputs": [],
   "source": [
    "max_accuracy = max(accuracies_for_diff_k)"
   ]
  },
  {
   "cell_type": "code",
   "execution_count": 286,
   "metadata": {},
   "outputs": [
    {
     "name": "stdout",
     "output_type": "stream",
     "text": [
      "83.13513513513513 10\n"
     ]
    }
   ],
   "source": [
    "print(max_accuracy, accuracies_for_diff_k.index(max_accuracy))"
   ]
  },
  {
   "cell_type": "code",
   "execution_count": 287,
   "metadata": {},
   "outputs": [],
   "source": [
    "### index = 10 corresponds to k = 21, ie, hyperparamter k is tuned to 21\n",
    "\n",
    "knn = KNeighborsClassifier(n_neighbors = 21)"
   ]
  },
  {
   "cell_type": "code",
   "execution_count": 288,
   "metadata": {},
   "outputs": [],
   "source": [
    "knn = knn.fit(X_train, y_train)"
   ]
  },
  {
   "cell_type": "code",
   "execution_count": 289,
   "metadata": {},
   "outputs": [],
   "source": [
    "y_pred = knn.predict(X_test)"
   ]
  },
  {
   "cell_type": "code",
   "execution_count": 290,
   "metadata": {},
   "outputs": [
    {
     "data": {
      "text/plain": [
       "83.29278183292782"
      ]
     },
     "execution_count": 290,
     "metadata": {},
     "output_type": "execute_result"
    }
   ],
   "source": [
    "accuracy_score(y_test, y_pred) * 100"
   ]
  }
 ],
 "metadata": {
  "kernelspec": {
   "display_name": "Python 3",
   "language": "python",
   "name": "python3"
  },
  "language_info": {
   "codemirror_mode": {
    "name": "ipython",
    "version": 3
   },
   "file_extension": ".py",
   "mimetype": "text/x-python",
   "name": "python",
   "nbconvert_exporter": "python",
   "pygments_lexer": "ipython3",
   "version": "3.6.5"
  }
 },
 "nbformat": 4,
 "nbformat_minor": 2
}
