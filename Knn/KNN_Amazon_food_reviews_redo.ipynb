{
 "cells": [
  {
   "cell_type": "markdown",
   "metadata": {},
   "source": [
    "#### *** Note: while plotting the f1 score vs k value plot (in tune_k() method), by mistake I put 'k = i' where i is the last value of k less than 30 for which the model was fitted and f1-score was calculated. However, the confusion matrix uses the y_pred (predicted y-values) for the best_k value of k only! Just by mistake I gave k = i in the title instead of k = best_k for the plot in tune_k() function.\n",
    "#### I cannot change this value now because this would require me to re-run the entire code again. Although I have saved the models in pickle files, but I did not store the f1scores without which the graph of f1-score vs k cannot be plotted. Next time, I shall make sure I save everything. But this entire code took around 7 hours to finish running. Hope this can be excused.\n",
    "\n",
    "Thank you!!"
   ]
  },
  {
   "cell_type": "code",
   "execution_count": 1,
   "metadata": {},
   "outputs": [],
   "source": [
    "import warnings\n",
    "warnings.filterwarnings('ignore')"
   ]
  },
  {
   "cell_type": "code",
   "execution_count": 2,
   "metadata": {},
   "outputs": [],
   "source": [
    "import pickle\n",
    "import os\n",
    "import numpy as np\n",
    "import pandas as pd"
   ]
  },
  {
   "cell_type": "code",
   "execution_count": 3,
   "metadata": {},
   "outputs": [],
   "source": [
    "from sklearn.neighbors import KNeighborsClassifier"
   ]
  },
  {
   "cell_type": "code",
   "execution_count": 4,
   "metadata": {},
   "outputs": [],
   "source": [
    "from sklearn.metrics import f1_score\n",
    "from sklearn.metrics import confusion_matrix"
   ]
  },
  {
   "cell_type": "code",
   "execution_count": 5,
   "metadata": {},
   "outputs": [],
   "source": [
    "import matplotlib.pyplot as plt\n",
    "import seaborn as sns"
   ]
  },
  {
   "cell_type": "markdown",
   "metadata": {},
   "source": [
    "### Directory to save pickle files"
   ]
  },
  {
   "cell_type": "code",
   "execution_count": 6,
   "metadata": {},
   "outputs": [],
   "source": [
    "if not os.path.exists('pickle_files'):\n",
    "    os.mkdir('pickle_files')"
   ]
  },
  {
   "cell_type": "markdown",
   "metadata": {},
   "source": [
    "### Function to return np array form of the data passed"
   ]
  },
  {
   "cell_type": "code",
   "execution_count": 7,
   "metadata": {},
   "outputs": [],
   "source": [
    "def convert_to_np_array(data):\n",
    "    return np.array(data)"
   ]
  },
  {
   "cell_type": "markdown",
   "metadata": {},
   "source": [
    "### Function to split data into training and test sets"
   ]
  },
  {
   "cell_type": "code",
   "execution_count": 8,
   "metadata": {},
   "outputs": [],
   "source": [
    "### X and y, before being passed to this function must be converted to numpy array or must be sparse matrices\\\n",
    "### for consistency throughout the program.\n",
    "\n",
    "### y will be a numpy vector because y-values originally are stored in a column of the original dataframe (ie, it\\\n",
    "### will be of type pd.Series. When converted into np-array, it will become a numpy 1D array, i.e a column vector)\n",
    "\n",
    "def train_test_splitter(X, y, test_size = 0.2):\n",
    "    train_size = 1 - test_size\n",
    "    \n",
    "    train_row_upper_index = round(train_size*X.shape[0])\n",
    "    test_row_lower_index = train_row_upper_index + 1\n",
    "    \n",
    "    if(X.ndim == 1):\n",
    "        X = X.reshape((X.shape[0], 1))\n",
    "    y = y.reshape((y.shape[0], 1)) # y is \n",
    "    \n",
    "    X_train = X[:train_row_upper_index + 1, :]\n",
    "    X_test = X[test_row_lower_index:, :]\n",
    "    \n",
    "    y_train = y[:train_row_upper_index + 1]\n",
    "    y_test = y[test_row_lower_index:]\n",
    "    \n",
    "    return X_train, y_train, X_test, y_test"
   ]
  },
  {
   "cell_type": "markdown",
   "metadata": {},
   "source": [
    "### Hyperparameter tuning function"
   ]
  },
  {
   "cell_type": "markdown",
   "metadata": {},
   "source": [
    "#### 1. tuning k"
   ]
  },
  {
   "cell_type": "code",
   "execution_count": 72,
   "metadata": {},
   "outputs": [],
   "source": [
    "### upper_limit - the max value of k upto which checks have to be made.\n",
    "### returns the best 'k'.\n",
    "\n",
    "def tune_k(upper_limit, X_train, y_train, X_cv, y_cv, algorithm, save_name):\n",
    "    best_k = None\n",
    "    f1score_max = 0\n",
    "    f1score = None\n",
    "    \n",
    "    x_points = []\n",
    "    y_points = []\n",
    "    y_pred_by_best_k = None\n",
    "#     print(y_train.shape)\n",
    "\n",
    "    for i in range(1, upper_limit, 2):\n",
    "#         print(i)\n",
    "        knn = KNeighborsClassifier(n_neighbors = i, algorithm = algorithm)\n",
    "        knn = knn.fit(X_train, y_train.ravel())\n",
    "        \n",
    "        y_pred = knn.predict(X_cv)\n",
    "        \n",
    "        f1score = f1_score(y_cv, y_pred)\n",
    "#         print('f1' + str(f1score))\n",
    "        \n",
    "        x_points.append(i)\n",
    "        y_points.append(f1score)\n",
    "        \n",
    "        if f1score > f1score_max:\n",
    "            f1score_max = f1score\n",
    "#             print('dd' + str(i))\n",
    "            best_k = i\n",
    "            y_pred_by_best_k = y_pred\n",
    "        \n",
    "            with open('pickle_files/' + save_name, 'wb') as knn_pickle:\n",
    "                pickle.dump(knn, knn_pickle) ## if file already exists, overwrite it with the knn with best k\n",
    "                \n",
    "#     print(x_points, y_points, sep = '\\n')\n",
    "    conf_matrix = confusion_matrix(y_cv, y_pred_by_best_k, labels = [1, 0])\n",
    "#         print(conf_matrix)\n",
    "        \n",
    "    conf_matrix_df = pd.DataFrame(conf_matrix, index = ['Positive', 'Negative'], columns = ['Positive', 'Negative'])\n",
    "        \n",
    "    plt.title('k = ' + str(i))\n",
    "    sns.heatmap(conf_matrix_df, annot = True)\n",
    "    plt.show()\n",
    "    \n",
    "    plt.title('f1-score vs k-value')\n",
    "    plt.xlabel('k')\n",
    "    plt.ylabel('f1-score')\n",
    "    plt.scatter(x_points, y_points, color = 'red')\n",
    "    plt.plot(x_points, y_points)\n",
    "    plt.show()\n",
    "    return best_k"
   ]
  },
  {
   "cell_type": "markdown",
   "metadata": {},
   "source": [
    "#### 2. tune n_components for dimensionality reduction using truncated svd"
   ]
  },
  {
   "cell_type": "code",
   "execution_count": 10,
   "metadata": {},
   "outputs": [],
   "source": [
    "from sklearn.decomposition import TruncatedSVD"
   ]
  },
  {
   "cell_type": "code",
   "execution_count": 11,
   "metadata": {},
   "outputs": [],
   "source": [
    "# from sklearn.preprocessing import StandardScaler"
   ]
  },
  {
   "cell_type": "code",
   "execution_count": 12,
   "metadata": {},
   "outputs": [],
   "source": [
    "def tune_n(X, save_name, explain_var):\n",
    "#     std_scaler = StandardScaler()\n",
    "#     feature_stdardized_X = std_scaler.fit_transform(X)\n",
    "    \n",
    "    explained_var_ratio = []\n",
    "    n_component_numbers = []\n",
    "    max_var_ratio = 0\n",
    "    best_n = 0\n",
    "    best_dim_reduced_X = None\n",
    "    \n",
    "    for  n in range(1, X.shape[1]): # as many times as the number of features in X\n",
    "#         print(n, end = ' ')\n",
    "        ### n_iter not needed for arpack\n",
    "        truncated_svd = TruncatedSVD(n_components = n, algorithm = 'randomized', random_state = 0) \n",
    "        \n",
    "        dim_reduced_X = truncated_svd.fit_transform(X)\n",
    "        \n",
    "        explained_var_ratio.append(sum(truncated_svd.explained_variance_ratio_))\n",
    "        n_component_numbers.append(n)\n",
    "        \n",
    "        ### this if statement is not actually needed. with increasing n, variance always increases\n",
    "        if(sum(truncated_svd.explained_variance_ratio_) > max_var_ratio):\n",
    "            max_var_ratio = sum(truncated_svd.explained_variance_ratio_)\n",
    "            best_n = n\n",
    "            best_dim_reduced_X = dim_reduced_X\n",
    "            \n",
    "            ### store the truncated_svd with the best variance explanation, so that later it can be retrieved\n",
    "            if not os.path.exists('truncated_svds/'):\n",
    "                os.mkdir('truncated_svds/') \n",
    "            with open('truncated_svds/truncated_svd' + save_name + '.pickle', 'wb') as tsvd_pickle:\n",
    "                pickle.dump(truncated_svd, tsvd_pickle)\n",
    "                \n",
    "#         print(max_var_ratio)\n",
    "\n",
    "        if(max_var_ratio > explain_var): \n",
    "            break\n",
    "#     print(len(n_component_numbers), len(explained_var_ratio))\n",
    "    plt.title('Explained variance ratio vs n_components')\n",
    "    plt.xlabel('n_components')\n",
    "    plt.ylabel('explained variance ratio')\n",
    "    plt.scatter(n_component_numbers, explained_var_ratio, c = 'red')\n",
    "    plt.scatter(best_n, explained_var_ratio[n_component_numbers.index(best_n)], c = 'yellow', s = 20, edgecolors = 'r', facecolors = 'none')\n",
    "    plt.plot(n_component_numbers, explained_var_ratio)\n",
    "    \n",
    "    plt.show()\n",
    "    \n",
    "    return best_dim_reduced_X ,best_n, max_var_ratio"
   ]
  },
  {
   "cell_type": "markdown",
   "metadata": {},
   "source": [
    "### Import dataset"
   ]
  },
  {
   "cell_type": "code",
   "execution_count": 13,
   "metadata": {},
   "outputs": [],
   "source": [
    "import sqlite3"
   ]
  },
  {
   "cell_type": "code",
   "execution_count": 14,
   "metadata": {},
   "outputs": [],
   "source": [
    "db_connection = sqlite3.connect('database.sqlite')"
   ]
  },
  {
   "cell_type": "code",
   "execution_count": 15,
   "metadata": {},
   "outputs": [],
   "source": [
    "### read only those rows which have rating score != 3, because for this problem we assume those will be neutral \\\n",
    "### reviews\n",
    "df = pd.read_sql_query('select * from reviews where Score != 3', db_connection)"
   ]
  },
  {
   "cell_type": "code",
   "execution_count": 16,
   "metadata": {},
   "outputs": [
    {
     "data": {
      "text/plain": [
       "Index(['Id', 'ProductId', 'UserId', 'ProfileName', 'HelpfulnessNumerator',\n",
       "       'HelpfulnessDenominator', 'Score', 'Time', 'Summary', 'Text'],\n",
       "      dtype='object')"
      ]
     },
     "execution_count": 16,
     "metadata": {},
     "output_type": "execute_result"
    }
   ],
   "source": [
    "df.columns"
   ]
  },
  {
   "cell_type": "code",
   "execution_count": 17,
   "metadata": {},
   "outputs": [],
   "source": [
    "df = df.sort_values(by = 'Time')"
   ]
  },
  {
   "cell_type": "code",
   "execution_count": 18,
   "metadata": {},
   "outputs": [],
   "source": [
    "### taking only first 10k rows from the sorted df because processing large number of rows on my laptop is not \\\n",
    "### possible\n",
    "df = df.iloc[:60000, :]"
   ]
  },
  {
   "cell_type": "markdown",
   "metadata": {},
   "source": [
    "### Replacing the ratings with 0 (for negative reviews) and 1 (for positive reviews).\n",
    "#### Score of  >3 has been considered as positive and a score of <3 has been taken as negative"
   ]
  },
  {
   "cell_type": "code",
   "execution_count": 19,
   "metadata": {},
   "outputs": [
    {
     "data": {
      "text/plain": [
       "pandas.core.series.Series"
      ]
     },
     "execution_count": 19,
     "metadata": {},
     "output_type": "execute_result"
    }
   ],
   "source": [
    "type(df['Score'])"
   ]
  },
  {
   "cell_type": "code",
   "execution_count": 20,
   "metadata": {},
   "outputs": [],
   "source": [
    "scores = df['Score']"
   ]
  },
  {
   "cell_type": "code",
   "execution_count": 21,
   "metadata": {},
   "outputs": [
    {
     "data": {
      "text/plain": [
       "417838    5\n",
       "417927    5\n",
       "212533    5\n",
       "346116    5\n",
       "417847    1\n",
       "346041    1\n",
       "Name: Score, dtype: int64"
      ]
     },
     "execution_count": 21,
     "metadata": {},
     "output_type": "execute_result"
    }
   ],
   "source": [
    "scores[6:12]"
   ]
  },
  {
   "cell_type": "code",
   "execution_count": 22,
   "metadata": {},
   "outputs": [],
   "source": [
    "scores = list(map(lambda x: 0 if x<3 else 1, scores))"
   ]
  },
  {
   "cell_type": "code",
   "execution_count": 23,
   "metadata": {},
   "outputs": [
    {
     "data": {
      "text/plain": [
       "[1, 1, 1, 1, 0, 0]"
      ]
     },
     "execution_count": 23,
     "metadata": {},
     "output_type": "execute_result"
    }
   ],
   "source": [
    "scores[6:12]"
   ]
  },
  {
   "cell_type": "code",
   "execution_count": 24,
   "metadata": {},
   "outputs": [],
   "source": [
    "df['Score'] = scores"
   ]
  },
  {
   "cell_type": "code",
   "execution_count": 25,
   "metadata": {},
   "outputs": [
    {
     "data": {
      "text/plain": [
       "pandas.core.series.Series"
      ]
     },
     "execution_count": 25,
     "metadata": {},
     "output_type": "execute_result"
    }
   ],
   "source": [
    "type(df['Score'].head(2))"
   ]
  },
  {
   "cell_type": "markdown",
   "metadata": {},
   "source": [
    "### Data preprocessing"
   ]
  },
  {
   "cell_type": "markdown",
   "metadata": {},
   "source": [
    "##### 1. Deduplication\n",
    "If a user id has multiple entries for the same timestamp, then it should be removed because it is likely that multiple entries at the same timestamp were for the same product of different variety which has a different product id than other variants\n"
   ]
  },
  {
   "cell_type": "code",
   "execution_count": 26,
   "metadata": {},
   "outputs": [
    {
     "data": {
      "text/plain": [
       "22078"
      ]
     },
     "execution_count": 26,
     "metadata": {},
     "output_type": "execute_result"
    }
   ],
   "source": [
    "df.duplicated(subset = ['UserId', 'Time']).sum()"
   ]
  },
  {
   "cell_type": "code",
   "execution_count": 27,
   "metadata": {},
   "outputs": [],
   "source": [
    "deduplicated_df = df.drop_duplicates(subset = ['UserId', 'Time'], inplace = False, keep = 'first')"
   ]
  },
  {
   "cell_type": "markdown",
   "metadata": {},
   "source": [
    "#### 2. Extracting the data needed (corpus)\n",
    "#### And removing html and punctuations"
   ]
  },
  {
   "cell_type": "code",
   "execution_count": 28,
   "metadata": {},
   "outputs": [],
   "source": [
    "corpus = deduplicated_df['Text']"
   ]
  },
  {
   "cell_type": "code",
   "execution_count": 29,
   "metadata": {},
   "outputs": [],
   "source": [
    "# dataset cleaners\n",
    "\n",
    "import re\n",
    "\n",
    "def remove_html(sentence):\n",
    "    html_tag_re_obj = re.compile('<.*>?')\n",
    "    return re.sub(html_tag_re_obj, ' ', sentence)\n",
    "\n",
    "def remove_punctuations(sentence):\n",
    "    cleaned_sentence = re.sub(r'[^a-zA-Z]', r' ', sentence)\n",
    "    return cleaned_sentence"
   ]
  },
  {
   "cell_type": "code",
   "execution_count": 30,
   "metadata": {},
   "outputs": [],
   "source": [
    "cleaned_corpus = []\n",
    "for doc in corpus:\n",
    "    cleaned_doc_1 = remove_html(doc)\n",
    "    cleaned_doc_2 = remove_punctuations(doc)\n",
    "    cleaned_corpus.append(cleaned_doc_2)"
   ]
  },
  {
   "cell_type": "markdown",
   "metadata": {},
   "source": [
    "#### 3. Removing stop words"
   ]
  },
  {
   "cell_type": "code",
   "execution_count": 31,
   "metadata": {},
   "outputs": [
    {
     "name": "stdout",
     "output_type": "stream",
     "text": [
      "13058\n",
      "0\n",
      "0\n"
     ]
    }
   ],
   "source": [
    "## Since the negative food reviews are likely to contain words like \"don't\", \"didn't\", etc that impart important\n",
    "## meaning to the review, we check if such words exist in the corpus that we have. If these words are in the corpus,\n",
    "## then they should not be in the list of stop words that we use for removing the stopwords from our corpus\n",
    "\n",
    "count = 0\n",
    "for doc in cleaned_corpus:\n",
    "    if \"not\" in doc:\n",
    "        count += 1\n",
    "\n",
    "print(count)\n",
    "\n",
    "count = 0\n",
    "for doc in cleaned_corpus:\n",
    "    if \"don't\" in doc:\n",
    "        count += 1\n",
    "\n",
    "print(count)\n",
    "\n",
    "count = 0\n",
    "for doc in cleaned_corpus:\n",
    "    if \"didn't\" in doc:\n",
    "        count += 1\n",
    "\n",
    "print(count)"
   ]
  },
  {
   "cell_type": "code",
   "execution_count": 32,
   "metadata": {},
   "outputs": [],
   "source": [
    "from nltk.corpus import stopwords"
   ]
  },
  {
   "cell_type": "code",
   "execution_count": 33,
   "metadata": {},
   "outputs": [],
   "source": [
    "stopwords = stopwords.words('english')"
   ]
  },
  {
   "cell_type": "code",
   "execution_count": 34,
   "metadata": {},
   "outputs": [],
   "source": [
    "stopwords = set(stopwords)"
   ]
  },
  {
   "cell_type": "code",
   "execution_count": 35,
   "metadata": {},
   "outputs": [],
   "source": [
    "stopwords.remove('not')"
   ]
  },
  {
   "cell_type": "code",
   "execution_count": 36,
   "metadata": {},
   "outputs": [
    {
     "data": {
      "text/plain": [
       "False"
      ]
     },
     "execution_count": 36,
     "metadata": {},
     "output_type": "execute_result"
    }
   ],
   "source": [
    "'not' in stopwords"
   ]
  },
  {
   "cell_type": "code",
   "execution_count": 37,
   "metadata": {},
   "outputs": [],
   "source": [
    "a = [1,2,3,0,1,0,5]"
   ]
  },
  {
   "cell_type": "code",
   "execution_count": 38,
   "metadata": {},
   "outputs": [],
   "source": [
    "# filtered_corpus = corpus with docs having no stop words\n",
    "# doing with the sexy lambda expression\n",
    "\n",
    "filtered_corpus = list(map(lambda doc: ' '.join(list(filter(lambda word: True if word not in stopwords else False\\\n",
    "                                                            , doc.split()))), corpus))"
   ]
  },
  {
   "cell_type": "code",
   "execution_count": 39,
   "metadata": {},
   "outputs": [
    {
     "data": {
      "text/plain": [
       "37922"
      ]
     },
     "execution_count": 39,
     "metadata": {},
     "output_type": "execute_result"
    }
   ],
   "source": [
    "len(filtered_corpus)"
   ]
  },
  {
   "cell_type": "code",
   "execution_count": 40,
   "metadata": {},
   "outputs": [
    {
     "data": {
      "text/plain": [
       "[\"witty little book makes son laugh loud. recite car we're driving along always sing refrain. he's learned whales, India, drooping roses: love new words book introduces silliness all. classic book willing bet son STILL able recite memory college\",\n",
       " \"I remember seeing show aired television years ago, I child. My sister later bought LP (which I day, I'm thirty something).I used series books &amp; songs I student teaching preschoolers &amp; turned whole school it. I purchasing CD, along books children 5 &amp; 2. The tradition lives on!\"]"
      ]
     },
     "execution_count": 40,
     "metadata": {},
     "output_type": "execute_result"
    }
   ],
   "source": [
    "filtered_corpus[:2]"
   ]
  },
  {
   "cell_type": "code",
   "execution_count": 41,
   "metadata": {},
   "outputs": [],
   "source": [
    "### classical way of removing the lambda expressions\n",
    "### verified the output of lambda expression output with the output of following implementation, outputs are same\n",
    "# docs_without_stop_words = []\n",
    "# for i, doc in enumerate(corpus):\n",
    "#     non_stop_words_in_doc = []\n",
    "#     for word in doc.split():\n",
    "#         if word not in stopwords:\n",
    "#             non_stop_words_in_doc.append(word)\n",
    "            \n",
    "    \n",
    "#     docs_without_stop_words.append(' '.join(non_stop_words_in_doc))"
   ]
  },
  {
   "cell_type": "markdown",
   "metadata": {},
   "source": [
    "#### 4. Stemming the words (SnowballStemmer)"
   ]
  },
  {
   "cell_type": "code",
   "execution_count": 42,
   "metadata": {},
   "outputs": [],
   "source": [
    "from nltk.stem import SnowballStemmer"
   ]
  },
  {
   "cell_type": "code",
   "execution_count": 43,
   "metadata": {},
   "outputs": [],
   "source": [
    "stemmer = SnowballStemmer('english')"
   ]
  },
  {
   "cell_type": "code",
   "execution_count": 44,
   "metadata": {},
   "outputs": [],
   "source": [
    "stemmed_filtered_corpus = list(map(lambda doc: ' '.join(list(map(stemmer.stem, doc.split()))), corpus))"
   ]
  },
  {
   "cell_type": "code",
   "execution_count": 45,
   "metadata": {},
   "outputs": [
    {
     "data": {
      "text/plain": [
       "[\"this witti littl book make my son laugh at loud. i recit it in the car as we'r drive along and he alway can sing the refrain. he learn about whales, india, droop roses: i love all the new word this book introduc and the silli of it all. this is a classic book i am will to bet my son will still be abl to recit from memori when he is in colleg\",\n",
       " \"i can rememb see the show when it air on televis year ago, when i was a child. my sister later bought me the lp (which i have to this day, i'm thirti something).i use this seri of book &amp; song when i did my student teach for preschool &amp; turn the whole school on to it. i am now purchas it on cd, along with the book for my children 5 &amp; 2. the tradit live on!\",\n",
       " 'beetlejuic is a well written movi ..... everyth about it is excellent! from the act to the special effect you will be delight you chose to view this movie.']"
      ]
     },
     "execution_count": 45,
     "metadata": {},
     "output_type": "execute_result"
    }
   ],
   "source": [
    "stemmed_filtered_corpus[:3]"
   ]
  },
  {
   "cell_type": "markdown",
   "metadata": {},
   "source": [
    "## Sorting the dataset according to Time"
   ]
  },
  {
   "cell_type": "code",
   "execution_count": 46,
   "metadata": {},
   "outputs": [],
   "source": [
    "deduplicated_df['Text'] = stemmed_filtered_corpus"
   ]
  },
  {
   "cell_type": "code",
   "execution_count": 47,
   "metadata": {},
   "outputs": [],
   "source": [
    "working_df = deduplicated_df"
   ]
  },
  {
   "cell_type": "code",
   "execution_count": 48,
   "metadata": {},
   "outputs": [],
   "source": [
    "working_df_sorted = working_df.sort_values(by = 'Time')"
   ]
  },
  {
   "cell_type": "code",
   "execution_count": 49,
   "metadata": {},
   "outputs": [],
   "source": [
    "stemmed_filtered_corpus_sorted = working_df_sorted['Text']"
   ]
  },
  {
   "cell_type": "code",
   "execution_count": 50,
   "metadata": {},
   "outputs": [],
   "source": [
    "scores = deduplicated_df['Score']"
   ]
  },
  {
   "cell_type": "code",
   "execution_count": 51,
   "metadata": {},
   "outputs": [
    {
     "name": "stdout",
     "output_type": "stream",
     "text": [
      "(37922,)\n",
      "(37922,)\n"
     ]
    }
   ],
   "source": [
    "print(stemmed_filtered_corpus_sorted.shape, scores.shape, sep = '\\n')"
   ]
  },
  {
   "cell_type": "markdown",
   "metadata": {},
   "source": [
    "## Text review vectorization and training & testing"
   ]
  },
  {
   "cell_type": "code",
   "execution_count": 52,
   "metadata": {},
   "outputs": [],
   "source": [
    "### making a numpy array for the stemmed_filtered_corpus_sorted and saving it in variable corpus so that writing\\\n",
    "### codes will be easier. converting scores to numpy array as well and saving it in a variable of same name.\n",
    "\n",
    "corpus = convert_to_np_array(stemmed_filtered_corpus_sorted)\n",
    "scores = convert_to_np_array(scores)"
   ]
  },
  {
   "cell_type": "markdown",
   "metadata": {},
   "source": [
    "### Splitting corpus into train, cv, and test sets"
   ]
  },
  {
   "cell_type": "code",
   "execution_count": 53,
   "metadata": {},
   "outputs": [],
   "source": [
    "X_train_nought, y_train_nought, X_test, y_test = train_test_splitter(corpus, scores, test_size = 0.2)"
   ]
  },
  {
   "cell_type": "code",
   "execution_count": 54,
   "metadata": {},
   "outputs": [],
   "source": [
    "X_train, y_train, X_cv, y_cv = train_test_splitter(X_train_nought, y_train_nought, test_size = 0.2)"
   ]
  },
  {
   "cell_type": "code",
   "execution_count": 55,
   "metadata": {},
   "outputs": [
    {
     "name": "stdout",
     "output_type": "stream",
     "text": [
      "X_train: <class 'numpy.ndarray'> y_train: <class 'numpy.ndarray'> X_cv: <class 'numpy.ndarray'> y_cv: <class 'numpy.ndarray'>\n"
     ]
    }
   ],
   "source": [
    "print('X_train: ' + str(type(X_train)), 'y_train: ' + str(type(y_train)), 'X_cv: '+str(type(X_cv)), \\\n",
    "      'y_cv: ' + str(type(y_cv)))"
   ]
  },
  {
   "cell_type": "code",
   "execution_count": 56,
   "metadata": {
    "scrolled": true
   },
   "outputs": [
    {
     "data": {
      "text/plain": [
       "(24272, 1)"
      ]
     },
     "execution_count": 56,
     "metadata": {},
     "output_type": "execute_result"
    }
   ],
   "source": [
    "X_train.shape"
   ]
  },
  {
   "cell_type": "markdown",
   "metadata": {},
   "source": [
    "### 1. Bag of Words (CountVectorizer)\n",
    "##### Note: Vectorization must be done on training set only, not on test set or the cross validation set!"
   ]
  },
  {
   "cell_type": "code",
   "execution_count": 57,
   "metadata": {},
   "outputs": [],
   "source": [
    "from sklearn.feature_extraction.text import CountVectorizer"
   ]
  },
  {
   "cell_type": "code",
   "execution_count": 58,
   "metadata": {},
   "outputs": [],
   "source": [
    "if not os.path.exists('pickle_files/bow_pickles'):\n",
    "    os.mkdir('pickle_files/bow_pickles')\n",
    "    \n",
    "if os.path.exists('pickle_files/bow_pickles/document_term_matrix.pkl'):\n",
    "    with open('pickle_files/bow_pickles/document_term_matrix.pkl', 'rb') as dtm_pickle:\n",
    "        X_train_bow = pickle.load(dtm_pickle)\n",
    "    with open('pickle_files/bow_pickles/count_vectorizer.pkl', 'rb') as vectorizer:\n",
    "        count_vectorizer = pickle.load(vectorizer)\n",
    "        \n",
    "else:\n",
    "    count_vectorizer = CountVectorizer()\n",
    "    \n",
    "#     fit() method takes 1D array (m,). train_test_splitter() returns (m,n) array. ravel() converts it into (m,)\n",
    "    count_vectorizer = count_vectorizer.fit(X_train.ravel())\n",
    "    X_train_bow = count_vectorizer.transform(X_train.ravel()) # document_term_matrix is saved as X_train_bow\n",
    "    with open('pickle_files/bow_pickles/document_term_matrix.pkl', 'wb') as dtm_pickle:\n",
    "        pickle.dump(X_train_bow, dtm_pickle)\n",
    "    with open('pickle_files/bow_pickles/count_vectorizer.pkl', 'wb') as vectorizer:\n",
    "        pickle.dump(count_vectorizer, vectorizer)"
   ]
  },
  {
   "cell_type": "code",
   "execution_count": 59,
   "metadata": {},
   "outputs": [
    {
     "data": {
      "text/plain": [
       "scipy.sparse.csr.csr_matrix"
      ]
     },
     "execution_count": 59,
     "metadata": {},
     "output_type": "execute_result"
    }
   ],
   "source": [
    "type(X_train_bow)"
   ]
  },
  {
   "cell_type": "code",
   "execution_count": 60,
   "metadata": {},
   "outputs": [
    {
     "data": {
      "text/plain": [
       "(24272, 28887)"
      ]
     },
     "execution_count": 60,
     "metadata": {},
     "output_type": "execute_result"
    }
   ],
   "source": [
    "X_train_bow.shape"
   ]
  },
  {
   "cell_type": "markdown",
   "metadata": {},
   "source": [
    "### 2. TfIdf (TfIdfVectorizer)"
   ]
  },
  {
   "cell_type": "code",
   "execution_count": 61,
   "metadata": {},
   "outputs": [],
   "source": [
    "from sklearn.feature_extraction.text import TfidfVectorizer"
   ]
  },
  {
   "cell_type": "code",
   "execution_count": 62,
   "metadata": {},
   "outputs": [],
   "source": [
    "if not os.path.exists('pickle_files/tfidf_pickles'):\n",
    "    os.mkdir('pickle_files/tfidf_pickles')\n",
    "    \n",
    "if os.path.exists('pickle_files/tfidf_pickles/document_term_matrix.pkl'):\n",
    "    with open('pickle_files/tfidf_pickles/document_term_matrix.pkl', 'rb') as dtm_pickle:\n",
    "        X_train_tfidf = pickle.load(dtm_pickle)\n",
    "    with open('pickle_files/tfidf_pickles/tfidf_vectorizer.pkl', 'rb') as vectorizer:\n",
    "        tfidf_vectorizer = pickle.load(vectorizer)\n",
    "        \n",
    "else:\n",
    "    tfidf_vectorizer = TfidfVectorizer()\n",
    "    tfidf_vectorizer = tfidf_vectorizer.fit(X_train.ravel())\n",
    "    X_train_tfidf = tfidf_vectorizer.transform(X_train.ravel())\n",
    "    with open('pickle_files/tfidf_pickles/document_term_matrix.pkl', 'wb') as dtm_pickle:\n",
    "        pickle.dump(X_train_tfidf, dtm_pickle)\n",
    "    with open('pickle_files/tfidf_pickles/tfidf_vectorizer.pkl', 'wb') as vectorizer:\n",
    "        pickle.dump(tfidf_vectorizer, vectorizer)"
   ]
  },
  {
   "cell_type": "code",
   "execution_count": 63,
   "metadata": {},
   "outputs": [
    {
     "data": {
      "text/plain": [
       "scipy.sparse.csr.csr_matrix"
      ]
     },
     "execution_count": 63,
     "metadata": {},
     "output_type": "execute_result"
    }
   ],
   "source": [
    "type(X_train_tfidf)"
   ]
  },
  {
   "cell_type": "code",
   "execution_count": 64,
   "metadata": {},
   "outputs": [
    {
     "data": {
      "text/plain": [
       "(24272, 28887)"
      ]
     },
     "execution_count": 64,
     "metadata": {},
     "output_type": "execute_result"
    }
   ],
   "source": [
    "X_train_tfidf.shape"
   ]
  },
  {
   "cell_type": "markdown",
   "metadata": {},
   "source": [
    "### 3. Word2Vec"
   ]
  },
  {
   "cell_type": "code",
   "execution_count": 65,
   "metadata": {},
   "outputs": [],
   "source": [
    "from gensim.models import Word2Vec"
   ]
  },
  {
   "cell_type": "code",
   "execution_count": 66,
   "metadata": {},
   "outputs": [],
   "source": [
    "if not os.path.exists('pickle_files/word2vec_pickles/'):\n",
    "    os.mkdir('pickle_files/word2vec_pickles/')\n",
    "\n",
    "if os.path.exists('pickle_files/word2vec_pickles/w2v_model.pkl'):\n",
    "    with open('pickle_files/word2vec_pickles/w2v_model.pkl', 'rb') as w2v_pickle:\n",
    "        w2v = pickle.load(w2v_pickle)\n",
    "else:\n",
    "    X_train_for_Word2Vec = []\n",
    "    for sentence in X_train.ravel():\n",
    "        X_train_for_Word2Vec.append(sentence.split())\n",
    "    \n",
    "    w2v = Word2Vec(X_train_for_Word2Vec, min_count = 1, size = 50, workers = 4)\n",
    "    with open('pickle_files/word2vec_pickles/w2v_model.pkl', 'wb') as w2v_pickle:\n",
    "        pickle.dump(w2v, w2v_pickle)"
   ]
  },
  {
   "cell_type": "markdown",
   "metadata": {},
   "source": [
    "#### 3.1. Avg Word2Vec"
   ]
  },
  {
   "cell_type": "code",
   "execution_count": 67,
   "metadata": {},
   "outputs": [],
   "source": [
    "if os.path.exists('pickle_files/word2vec_pickles/avgw2v.pkl'):\n",
    "    with open('pickle_files/word2vec_pickles/avgw2v.pkl', 'rb') as avgw2v_pickle:\n",
    "        X_train_avgw2v = pickle.load(avgw2v_pickle)\n",
    "\n",
    "else:\n",
    "    X_train_avgw2v = []\n",
    "    for sentence in X_train_for_Word2Vec:\n",
    "        sum_of_words = 0\n",
    "        for word in sentence:\n",
    "            sum_of_words += w2v.wv[word]\n",
    "        X_train_avgw2v.append(sum_of_words/len(sentence))\n",
    "        \n",
    "    with open('pickle_files/word2vec_pickles/avgw2v.pkl', 'wb') as avgw2v_pickle:\n",
    "        pickle.dump(X_train_avgw2v, avgw2v_pickle)"
   ]
  },
  {
   "cell_type": "markdown",
   "metadata": {},
   "source": [
    "#### 3.2. TfIdf Word2Vec"
   ]
  },
  {
   "cell_type": "code",
   "execution_count": 68,
   "metadata": {},
   "outputs": [],
   "source": [
    "if os.path.exists('pickle_files/word2vec_pickles/tfidfw2v.pkl'):\n",
    "    with open('pickle_files/word2vec_pickles/tfidfw2v.pkl', 'rb') as tfidfw2v_pickle:\n",
    "        X_train_tfidfw2v = pickle.load(tfidfw2v_pickle)\n",
    "\n",
    "else:\n",
    "    X_train_tfidfw2v = []\n",
    "    for sentence in X_train_for_Word2Vec:\n",
    "        tfidf_weighted_sum = 0\n",
    "        for word in sentence:\n",
    "            if word not in tfidf_vectorizer.vocabulary_ or word not in w2v.wv:\n",
    "                continue\n",
    "            tfidf_weighted_sum += tfidf_vectorizer.vocabulary_[word] * w2v.wv[word]\n",
    "        X_train_tfidfw2v.append(tfidf_weighted_sum)\n",
    "        with open('pickle_files/word2vec_pickles/tfidfw2v.pkl', 'wb') as tfidfw2v_pickle:\n",
    "            pickle.dump(X_train_tfidfw2v, tfidfw2v_pickle)"
   ]
  },
  {
   "cell_type": "markdown",
   "metadata": {},
   "source": [
    "#### Note: At this point, X_train using all the vectorization techniques have been computed. Next is simply training the K-NN model."
   ]
  },
  {
   "cell_type": "markdown",
   "metadata": {},
   "source": [
    "### K-NN for BoW (CountVectorizer) representation"
   ]
  },
  {
   "cell_type": "code",
   "execution_count": 69,
   "metadata": {},
   "outputs": [],
   "source": [
    "### transform X_cv using the CountVectorizer fitted on training data\n",
    "X_cv_bow = count_vectorizer.transform(X_cv.ravel())"
   ]
  },
  {
   "cell_type": "code",
   "execution_count": 70,
   "metadata": {},
   "outputs": [],
   "source": [
    "### transform X_test using the CountVectorizer fitted on training data\n",
    "X_test_bow = count_vectorizer.transform(X_test.ravel())"
   ]
  },
  {
   "cell_type": "markdown",
   "metadata": {},
   "source": [
    "* #### K-NN using brute force algorithm"
   ]
  },
  {
   "cell_type": "code",
   "execution_count": 73,
   "metadata": {},
   "outputs": [
    {
     "data": {
      "image/png": "[encoded data removed]",
      "text/plain": [
       "<Figure size 432x288 with 2 Axes>"
      ]
     },
     "metadata": {},
     "output_type": "display_data"
    },
    {
     "data": {
      "image/png": "[encoded data removed]",
      "text/plain": [
       "<Figure size 432x288 with 1 Axes>"
      ]
     },
     "metadata": {},
     "output_type": "display_data"
    }
   ],
   "source": [
    "### get best k (hyperparameter) using brute force algorithm; tune_k also saves the knn object with best k\n",
    "k = tune_k(upper_limit = 30, X_train = X_train_bow, y_train = y_train, X_cv = X_cv_bow, y_cv = y_cv, \\\n",
    "           algorithm = 'brute', save_name = 'bow_pickles/brute_knn.pkl')"
   ]
  },
  {
   "cell_type": "code",
   "execution_count": 74,
   "metadata": {},
   "outputs": [
    {
     "data": {
      "text/plain": [
       "13"
      ]
     },
     "execution_count": 74,
     "metadata": {},
     "output_type": "execute_result"
    }
   ],
   "source": [
    "k"
   ]
  },
  {
   "cell_type": "code",
   "execution_count": 75,
   "metadata": {},
   "outputs": [],
   "source": [
    "### load the k-nn with best k (for brute force algorithm)\n",
    "with open('pickle_files/bow_pickles/brute_knn.pkl', 'rb') as knn_pickle:\n",
    "    knn = pickle.load(knn_pickle)"
   ]
  },
  {
   "cell_type": "code",
   "execution_count": 76,
   "metadata": {},
   "outputs": [
    {
     "data": {
      "text/plain": [
       "13"
      ]
     },
     "execution_count": 76,
     "metadata": {},
     "output_type": "execute_result"
    }
   ],
   "source": [
    "knn.n_neighbors"
   ]
  },
  {
   "cell_type": "code",
   "execution_count": 77,
   "metadata": {},
   "outputs": [],
   "source": [
    "y_pred = knn.predict(X_test_bow)"
   ]
  },
  {
   "cell_type": "code",
   "execution_count": 78,
   "metadata": {},
   "outputs": [
    {
     "data": {
      "text/plain": [
       "93.85498320268756"
      ]
     },
     "execution_count": 78,
     "metadata": {},
     "output_type": "execute_result"
    }
   ],
   "source": [
    "f1_score(y_test, y_pred) * 100"
   ]
  },
  {
   "cell_type": "markdown",
   "metadata": {},
   "source": [
    "* #### K-NN using kd-tree algorithm\n",
    "In order to implement kd_tree algorithm, sklearn needs data matrix as a dense matrix. If it is passed as a sparse matrix, then automatically sklearn will select brute force algorithm irrespective of what you pass to the algorithm parameter. So, before using kd_tree convert your covariance matrix into dense matrix.\n",
    "\n",
    "For this exercise, we shall have to apply dimensional reduction, because the number of features is too high for kd_tree to work, ie, once we convert the sparse matrix to dense matrix representation, we will have large number of features to work with. PCA needs dense matrix, but what we have is a sparse matrix (sparse matrix is what CountVectorizer and TFidfVectorizer return). So, we use TruncatedSVD which is very similar to PCA, but it can work on sparse matrices as well."
   ]
  },
  {
   "cell_type": "markdown",
   "metadata": {},
   "source": [
    " * *Truncated SVD on BoW*"
   ]
  },
  {
   "cell_type": "code",
   "execution_count": 79,
   "metadata": {},
   "outputs": [
    {
     "data": {
      "image/png": "[encoded data removed]",
      "text/plain": [
       "<Figure size 432x288 with 1 Axes>"
      ]
     },
     "metadata": {},
     "output_type": "display_data"
    },
    {
     "name": "stdout",
     "output_type": "stream",
     "text": [
      "440 0.850018446081702\n"
     ]
    }
   ],
   "source": [
    "### get the best dimension_reduced_X_train_bow and n_components value, the best truncated_svd will be saved in \\\n",
    "### local file system\n",
    "### explain_var = 0.85 because it was taking too long for greater values..each increment was in 3rd decimal place\n",
    "X_train_bow, n_comp, var = tune_n(X_train_bow, save_name = 'bow', explain_var = 0.85)\n",
    "print(n_comp, var)"
   ]
  },
  {
   "cell_type": "code",
   "execution_count": 80,
   "metadata": {},
   "outputs": [],
   "source": [
    "### loading the best truncated_svd saved by tune_n()\n",
    "\n",
    "with open('truncated_svds/truncated_svdbow.pickle', 'rb') as tsvd_pickle:\n",
    "    truncated_svd = pickle.load(tsvd_pickle)"
   ]
  },
  {
   "cell_type": "code",
   "execution_count": 81,
   "metadata": {},
   "outputs": [],
   "source": [
    "X_cv_bow = truncated_svd.transform(X_cv_bow)\n",
    "X_test_bow = truncated_svd.transform(X_test_bow)"
   ]
  },
  {
   "cell_type": "markdown",
   "metadata": {},
   "source": [
    "* *finally, knn using kd_tree*"
   ]
  },
  {
   "cell_type": "code",
   "execution_count": 82,
   "metadata": {},
   "outputs": [
    {
     "data": {
      "image/png": "[encoded data removed]",
      "text/plain": [
       "<Figure size 432x288 with 2 Axes>"
      ]
     },
     "metadata": {},
     "output_type": "display_data"
    },
    {
     "data": {
      "image/png": "[encoded data removed]",
      "text/plain": [
       "<Figure size 432x288 with 1 Axes>"
      ]
     },
     "metadata": {},
     "output_type": "display_data"
    }
   ],
   "source": [
    "### get the best k (hyperparameter) using kd-tree algorithm; tune_k also saves the knn object with best k\n",
    "k = tune_k(upper_limit = 30, X_train = X_train_bow, y_train = y_train, X_cv = X_cv_bow, y_cv = y_cv, \\\n",
    "          algorithm = 'kd_tree', save_name = 'bow_pickles/kd_tree_knn.pkl')"
   ]
  },
  {
   "cell_type": "code",
   "execution_count": 83,
   "metadata": {},
   "outputs": [
    {
     "data": {
      "text/plain": [
       "15"
      ]
     },
     "execution_count": 83,
     "metadata": {},
     "output_type": "execute_result"
    }
   ],
   "source": [
    "k"
   ]
  },
  {
   "cell_type": "code",
   "execution_count": 84,
   "metadata": {},
   "outputs": [],
   "source": [
    "### load the k-nn with best k (for kd_tree algorithm)\n",
    "with open('pickle_files/bow_pickles/kd_tree_knn.pkl', 'rb') as knn_pickle:\n",
    "    knn = pickle.load(knn_pickle)"
   ]
  },
  {
   "cell_type": "code",
   "execution_count": 85,
   "metadata": {},
   "outputs": [
    {
     "data": {
      "text/plain": [
       "15"
      ]
     },
     "execution_count": 85,
     "metadata": {},
     "output_type": "execute_result"
    }
   ],
   "source": [
    "knn.n_neighbors"
   ]
  },
  {
   "cell_type": "code",
   "execution_count": 86,
   "metadata": {},
   "outputs": [],
   "source": [
    "y_pred = knn.predict(X_test_bow)"
   ]
  },
  {
   "cell_type": "code",
   "execution_count": 87,
   "metadata": {},
   "outputs": [
    {
     "data": {
      "text/plain": [
       "93.86241164532157"
      ]
     },
     "execution_count": 87,
     "metadata": {},
     "output_type": "execute_result"
    }
   ],
   "source": [
    "f1_score(y_test, y_pred) * 100"
   ]
  },
  {
   "cell_type": "markdown",
   "metadata": {},
   "source": [
    "### K-NN for TfIdf (TfidfVectorizer)"
   ]
  },
  {
   "cell_type": "code",
   "execution_count": 88,
   "metadata": {},
   "outputs": [],
   "source": [
    "### transform X_cv using the TfidfVectorizer trained on training data\n",
    "X_cv_tfidf = tfidf_vectorizer.transform(X_cv.ravel())"
   ]
  },
  {
   "cell_type": "code",
   "execution_count": 89,
   "metadata": {},
   "outputs": [],
   "source": [
    "### transform X_test using the TfidfVectorizer trained on training data\n",
    "X_test_tfidf = tfidf_vectorizer.transform(X_test.ravel())"
   ]
  },
  {
   "cell_type": "markdown",
   "metadata": {},
   "source": [
    "* #### K-NN using brute force algorithm"
   ]
  },
  {
   "cell_type": "code",
   "execution_count": 90,
   "metadata": {},
   "outputs": [
    {
     "data": {
      "image/png": "[encoded data removed]",
      "text/plain": [
       "<Figure size 432x288 with 2 Axes>"
      ]
     },
     "metadata": {},
     "output_type": "display_data"
    },
    {
     "data": {
      "image/png": "[encoded data removed]",
      "text/plain": [
       "<Figure size 432x288 with 1 Axes>"
      ]
     },
     "metadata": {},
     "output_type": "display_data"
    }
   ],
   "source": [
    "k = tune_k(upper_limit = 30, X_train = X_train_tfidf, y_train = y_train, X_cv = X_cv_tfidf, y_cv = y_cv, \\\n",
    "          algorithm = 'brute', save_name = 'tfidf_pickles/knn_brute.pkl')"
   ]
  },
  {
   "cell_type": "code",
   "execution_count": 91,
   "metadata": {},
   "outputs": [
    {
     "data": {
      "text/plain": [
       "17"
      ]
     },
     "execution_count": 91,
     "metadata": {},
     "output_type": "execute_result"
    }
   ],
   "source": [
    "k"
   ]
  },
  {
   "cell_type": "code",
   "execution_count": 92,
   "metadata": {},
   "outputs": [],
   "source": [
    "### load the k-nn with best k (brute force algorithm)\n",
    "with open('pickle_files/tfidf_pickles/knn_brute.pkl', 'rb') as knn_pickle:\n",
    "    knn = pickle.load(knn_pickle)"
   ]
  },
  {
   "cell_type": "code",
   "execution_count": 93,
   "metadata": {},
   "outputs": [
    {
     "data": {
      "text/plain": [
       "17"
      ]
     },
     "execution_count": 93,
     "metadata": {},
     "output_type": "execute_result"
    }
   ],
   "source": [
    "knn.n_neighbors"
   ]
  },
  {
   "cell_type": "code",
   "execution_count": 94,
   "metadata": {},
   "outputs": [],
   "source": [
    "y_pred = knn.predict(X_test_tfidf)"
   ]
  },
  {
   "cell_type": "code",
   "execution_count": 95,
   "metadata": {},
   "outputs": [
    {
     "data": {
      "text/plain": [
       "93.86241164532157"
      ]
     },
     "execution_count": 95,
     "metadata": {},
     "output_type": "execute_result"
    }
   ],
   "source": [
    "f1_score(y_test, y_pred) * 100"
   ]
  },
  {
   "cell_type": "markdown",
   "metadata": {},
   "source": [
    "* #### K-NN using kd_tree algorithm"
   ]
  },
  {
   "cell_type": "markdown",
   "metadata": {},
   "source": [
    "* Truncated SVD on Tfidf"
   ]
  },
  {
   "cell_type": "code",
   "execution_count": 96,
   "metadata": {},
   "outputs": [
    {
     "data": {
      "image/png": "[encoded data removed]",
      "text/plain": [
       "<Figure size 432x288 with 1 Axes>"
      ]
     },
     "metadata": {},
     "output_type": "display_data"
    },
    {
     "name": "stdout",
     "output_type": "stream",
     "text": [
      "891 0.6000400617122903\n"
     ]
    }
   ],
   "source": [
    "### get the best dimension_reduced_X_train_bow and n_components value, the best truncated_svd will be saved in \\\n",
    "### local file system\n",
    "### explain_var = 0.6, greater values were taking too long..so settled for 0.6 for this assignment\n",
    "X_train_tfidf, n_comp, var = tune_n(X_train_tfidf, save_name = 'tfidf', explain_var = 0.6)\n",
    "print(n_comp, var)"
   ]
  },
  {
   "cell_type": "code",
   "execution_count": 97,
   "metadata": {},
   "outputs": [],
   "source": [
    "### loading the best truncated_svd saved by tune_n()\n",
    "\n",
    "with open('truncated_svds/truncated_svdtfidf.pickle', 'rb') as tsvd_pickle:\n",
    "    truncated_svd = pickle.load(tsvd_pickle)"
   ]
  },
  {
   "cell_type": "code",
   "execution_count": 98,
   "metadata": {},
   "outputs": [],
   "source": [
    "X_cv_tfidf = truncated_svd.transform(X_cv_tfidf)\n",
    "X_test_tfidf = truncated_svd.transform(X_test_tfidf)"
   ]
  },
  {
   "cell_type": "markdown",
   "metadata": {},
   "source": [
    "* finally, kd_tree algorithm implementation"
   ]
  },
  {
   "cell_type": "code",
   "execution_count": 99,
   "metadata": {},
   "outputs": [
    {
     "data": {
      "image/png": "[encoded data removed]",
      "text/plain": [
       "<Figure size 432x288 with 2 Axes>"
      ]
     },
     "metadata": {},
     "output_type": "display_data"
    },
    {
     "data": {
      "image/png": "[encoded data removed]",
      "text/plain": [
       "<Figure size 432x288 with 1 Axes>"
      ]
     },
     "metadata": {},
     "output_type": "display_data"
    }
   ],
   "source": [
    "k = tune_k(upper_limit = 30, X_train = X_train_tfidf, y_train = y_train, X_cv = X_cv_tfidf, y_cv = y_cv, \\\n",
    "          algorithm = 'kd_tree', save_name = 'tfidf_pickles/knn_kd_tree.pkl')"
   ]
  },
  {
   "cell_type": "code",
   "execution_count": 100,
   "metadata": {},
   "outputs": [
    {
     "data": {
      "text/plain": [
       "9"
      ]
     },
     "execution_count": 100,
     "metadata": {},
     "output_type": "execute_result"
    }
   ],
   "source": [
    "k"
   ]
  },
  {
   "cell_type": "code",
   "execution_count": 101,
   "metadata": {},
   "outputs": [],
   "source": [
    "### load the k-nn with best k (kd_tree algorithm)\n",
    "with open('pickle_files/tfidf_pickles/knn_kd_tree.pkl', 'rb') as knn_pickle:\n",
    "    knn = pickle.load(knn_pickle)"
   ]
  },
  {
   "cell_type": "code",
   "execution_count": 102,
   "metadata": {},
   "outputs": [],
   "source": [
    "y_pred = knn.predict(X_test_tfidf)"
   ]
  },
  {
   "cell_type": "code",
   "execution_count": 103,
   "metadata": {},
   "outputs": [
    {
     "data": {
      "text/plain": [
       "9"
      ]
     },
     "execution_count": 103,
     "metadata": {},
     "output_type": "execute_result"
    }
   ],
   "source": [
    "knn.n_neighbors"
   ]
  },
  {
   "cell_type": "code",
   "execution_count": 104,
   "metadata": {},
   "outputs": [
    {
     "data": {
      "text/plain": [
       "93.84755372016518"
      ]
     },
     "execution_count": 104,
     "metadata": {},
     "output_type": "execute_result"
    }
   ],
   "source": [
    "f1_score(y_test,y_pred) * 100"
   ]
  },
  {
   "cell_type": "markdown",
   "metadata": {},
   "source": [
    "### K-NN using Word2Vec"
   ]
  },
  {
   "cell_type": "markdown",
   "metadata": {},
   "source": [
    "1. #### K-NN using Average W2V representation"
   ]
  },
  {
   "cell_type": "code",
   "execution_count": 105,
   "metadata": {},
   "outputs": [],
   "source": [
    "### compute average w2v represenation for X_cv\n",
    "\n",
    "X_cv_avgw2v = []\n",
    "for sentence in X_cv.ravel():\n",
    "    sum_of_words = 0\n",
    "    for word in sentence.split():\n",
    "        if word not in w2v.wv:\n",
    "            continue\n",
    "        sum_of_words += w2v.wv[word]\n",
    "    X_cv_avgw2v.append(sum_of_words/len(sentence))"
   ]
  },
  {
   "cell_type": "code",
   "execution_count": 106,
   "metadata": {},
   "outputs": [],
   "source": [
    "### compute average w2v representation for X_test\n",
    "\n",
    "X_test_avgw2v = []\n",
    "for sentence in X_test.ravel():\n",
    "    sum_of_words = 0\n",
    "    for word in sentence.split():\n",
    "        if word not in w2v.wv:\n",
    "            continue\n",
    "        sum_of_words += w2v.wv[word]\n",
    "    X_test_avgw2v.append(sum_of_words/len(sentence))"
   ]
  },
  {
   "cell_type": "markdown",
   "metadata": {},
   "source": [
    "* #### K-NN using brute force algorithm"
   ]
  },
  {
   "cell_type": "code",
   "execution_count": 107,
   "metadata": {},
   "outputs": [
    {
     "data": {
      "image/png": "[encoded data removed]",
      "text/plain": [
       "<Figure size 432x288 with 2 Axes>"
      ]
     },
     "metadata": {},
     "output_type": "display_data"
    },
    {
     "data": {
      "image/png": "[encoded data removed]",
      "text/plain": [
       "<Figure size 432x288 with 1 Axes>"
      ]
     },
     "metadata": {},
     "output_type": "display_data"
    }
   ],
   "source": [
    "k = tune_k(upper_limit = 30, X_train = X_train_avgw2v, y_train = y_train, X_cv = X_cv_avgw2v, y_cv = y_cv, \\\n",
    "          algorithm = 'brute', save_name = 'word2vec_pickles/brute_knn.pkl')"
   ]
  },
  {
   "cell_type": "code",
   "execution_count": 108,
   "metadata": {},
   "outputs": [
    {
     "name": "stdout",
     "output_type": "stream",
     "text": [
      "1\n"
     ]
    }
   ],
   "source": [
    "print(k)"
   ]
  },
  {
   "cell_type": "code",
   "execution_count": 109,
   "metadata": {},
   "outputs": [],
   "source": [
    "### load the knn with best k (brute algo)\n",
    "\n",
    "with open('pickle_files/word2vec_pickles/brute_knn.pkl', 'rb') as knn_pickle:\n",
    "    knn = pickle.load(knn_pickle)"
   ]
  },
  {
   "cell_type": "code",
   "execution_count": 110,
   "metadata": {},
   "outputs": [
    {
     "data": {
      "text/plain": [
       "1"
      ]
     },
     "execution_count": 110,
     "metadata": {},
     "output_type": "execute_result"
    }
   ],
   "source": [
    "knn.n_neighbors"
   ]
  },
  {
   "cell_type": "code",
   "execution_count": 111,
   "metadata": {},
   "outputs": [],
   "source": [
    "y_pred = knn.predict(X_test_avgw2v)"
   ]
  },
  {
   "cell_type": "code",
   "execution_count": 112,
   "metadata": {},
   "outputs": [
    {
     "data": {
      "text/plain": [
       "93.86241164532157"
      ]
     },
     "execution_count": 112,
     "metadata": {},
     "output_type": "execute_result"
    }
   ],
   "source": [
    "f1_score(y_test, y_pred) * 100"
   ]
  },
  {
   "cell_type": "markdown",
   "metadata": {},
   "source": [
    "* #### K-NN using kd_tree algorithm"
   ]
  },
  {
   "cell_type": "code",
   "execution_count": 113,
   "metadata": {},
   "outputs": [
    {
     "data": {
      "image/png": "[encoded data removed]",
      "text/plain": [
       "<Figure size 432x288 with 2 Axes>"
      ]
     },
     "metadata": {},
     "output_type": "display_data"
    },
    {
     "data": {
      "image/png": "[encoded data removed]",
      "text/plain": [
       "<Figure size 432x288 with 1 Axes>"
      ]
     },
     "metadata": {},
     "output_type": "display_data"
    }
   ],
   "source": [
    "k = tune_k(upper_limit = 30, X_train = X_train_avgw2v, y_train = y_train, X_cv = X_cv_avgw2v, y_cv = y_cv, \\\n",
    "          algorithm = 'kd_tree', save_name = 'word2vec_pickles/kd_tree_knn.pkl')"
   ]
  },
  {
   "cell_type": "code",
   "execution_count": 114,
   "metadata": {},
   "outputs": [
    {
     "data": {
      "text/plain": [
       "1"
      ]
     },
     "execution_count": 114,
     "metadata": {},
     "output_type": "execute_result"
    }
   ],
   "source": [
    "k"
   ]
  },
  {
   "cell_type": "code",
   "execution_count": 115,
   "metadata": {},
   "outputs": [],
   "source": [
    "### load the knn with best k (kd_tree algo)\n",
    "\n",
    "with open('pickle_files/word2vec_pickles/kd_tree_knn.pkl', 'rb') as knn_pickle:\n",
    "    knn = pickle.load(knn_pickle)"
   ]
  },
  {
   "cell_type": "code",
   "execution_count": 116,
   "metadata": {},
   "outputs": [
    {
     "data": {
      "text/plain": [
       "1"
      ]
     },
     "execution_count": 116,
     "metadata": {},
     "output_type": "execute_result"
    }
   ],
   "source": [
    "knn.n_neighbors"
   ]
  },
  {
   "cell_type": "code",
   "execution_count": 117,
   "metadata": {},
   "outputs": [],
   "source": [
    "y_pred = knn.predict(X_test_avgw2v)"
   ]
  },
  {
   "cell_type": "code",
   "execution_count": 118,
   "metadata": {},
   "outputs": [
    {
     "data": {
      "text/plain": [
       "0.9386241164532158"
      ]
     },
     "execution_count": 118,
     "metadata": {},
     "output_type": "execute_result"
    }
   ],
   "source": [
    "f1_score(y_test, y_pred)"
   ]
  },
  {
   "cell_type": "markdown",
   "metadata": {},
   "source": [
    "2. ### K-NN for TfIdf-weighted Word2Vec"
   ]
  },
  {
   "cell_type": "code",
   "execution_count": 119,
   "metadata": {},
   "outputs": [],
   "source": [
    "### Compute tfidf-weighted w2v representation of X_cv\n",
    "\n",
    "X_cv_tfidfw2v = []\n",
    "for sentence in X_cv.ravel():\n",
    "    tfidf_weighted_sum = 0\n",
    "    for word in sentence.split():\n",
    "        if word not in w2v.wv or word not in tfidf_vectorizer.vocabulary_:\n",
    "            continue\n",
    "        tfidf_weighted_sum += tfidf_vectorizer.vocabulary_[word] * w2v.wv[word]\n",
    "    X_cv_tfidfw2v.append(tfidf_weighted_sum)"
   ]
  },
  {
   "cell_type": "code",
   "execution_count": 120,
   "metadata": {},
   "outputs": [],
   "source": [
    "### Compute tfidf-weighted w2v representation of X_test\n",
    "\n",
    "X_test_tfidfw2v = []\n",
    "for sentence in X_test.ravel():\n",
    "    tfidf_weighted_sum = 0\n",
    "    for word in sentence.split():\n",
    "        if word not in w2v.wv or word not in tfidf_vectorizer.vocabulary_:\n",
    "            continue\n",
    "        tfidf_weighted_sum += tfidf_vectorizer.vocabulary_[word] * w2v.wv[word]\n",
    "    X_test_tfidfw2v.append(tfidf_weighted_sum)"
   ]
  },
  {
   "cell_type": "markdown",
   "metadata": {},
   "source": [
    "* #### K-NN using brute force algorithm"
   ]
  },
  {
   "cell_type": "code",
   "execution_count": 121,
   "metadata": {},
   "outputs": [
    {
     "data": {
      "image/png": "[encoded data removed]",
      "text/plain": [
       "<Figure size 432x288 with 2 Axes>"
      ]
     },
     "metadata": {},
     "output_type": "display_data"
    },
    {
     "data": {
      "image/png": "[encoded data removed]",
      "text/plain": [
       "<Figure size 432x288 with 1 Axes>"
      ]
     },
     "metadata": {},
     "output_type": "display_data"
    }
   ],
   "source": [
    "k = tune_k(upper_limit = 30, X_train = X_train_tfidfw2v, y_train = y_train, X_cv = X_cv_tfidfw2v, y_cv = y_cv, \\\n",
    "          algorithm = 'brute', save_name = 'word2vec_pickles/brute_tfidfw2v_knn.pkl')"
   ]
  },
  {
   "cell_type": "code",
   "execution_count": 122,
   "metadata": {},
   "outputs": [
    {
     "data": {
      "text/plain": [
       "17"
      ]
     },
     "execution_count": 122,
     "metadata": {},
     "output_type": "execute_result"
    }
   ],
   "source": [
    "k"
   ]
  },
  {
   "cell_type": "code",
   "execution_count": 123,
   "metadata": {},
   "outputs": [],
   "source": [
    "### load knn with best k value (brute algo)\n",
    "\n",
    "with open('pickle_files/word2vec_pickles/brute_tfidfw2v_knn.pkl', 'rb') as knn_pickle:\n",
    "    knn = pickle.load(knn_pickle)"
   ]
  },
  {
   "cell_type": "code",
   "execution_count": 124,
   "metadata": {},
   "outputs": [
    {
     "data": {
      "text/plain": [
       "17"
      ]
     },
     "execution_count": 124,
     "metadata": {},
     "output_type": "execute_result"
    }
   ],
   "source": [
    "knn.n_neighbors"
   ]
  },
  {
   "cell_type": "code",
   "execution_count": 125,
   "metadata": {},
   "outputs": [],
   "source": [
    "y_pred = knn.predict(X_test_tfidfw2v)"
   ]
  },
  {
   "cell_type": "code",
   "execution_count": 126,
   "metadata": {},
   "outputs": [
    {
     "data": {
      "text/plain": [
       "0.9386241164532158"
      ]
     },
     "execution_count": 126,
     "metadata": {},
     "output_type": "execute_result"
    }
   ],
   "source": [
    "f1_score(y_test, y_pred)"
   ]
  },
  {
   "cell_type": "markdown",
   "metadata": {},
   "source": [
    "* #### K-NN using kd_tree algorithm"
   ]
  },
  {
   "cell_type": "code",
   "execution_count": 127,
   "metadata": {},
   "outputs": [
    {
     "name": "stdout",
     "output_type": "stream",
     "text": [
      "<class 'list'> <class 'list'>\n"
     ]
    }
   ],
   "source": [
    "print(type(X_train_tfidfw2v), type(X_cv_tfidfw2v))"
   ]
  },
  {
   "cell_type": "code",
   "execution_count": 128,
   "metadata": {},
   "outputs": [
    {
     "data": {
      "image/png": "[encoded data removed]",
      "text/plain": [
       "<Figure size 432x288 with 2 Axes>"
      ]
     },
     "metadata": {},
     "output_type": "display_data"
    },
    {
     "data": {
      "image/png": "[encoded data removed]",
      "text/plain": [
       "<Figure size 432x288 with 1 Axes>"
      ]
     },
     "metadata": {},
     "output_type": "display_data"
    }
   ],
   "source": [
    "k = tune_k(upper_limit = 30, X_train = X_train_tfidfw2v, y_train = y_train, X_cv = X_cv_tfidfw2v, y_cv = y_cv, \\\n",
    "          algorithm = 'kd_tree', save_name = 'word2vec_pickles/brute_kd_tree_knn.pkl')"
   ]
  },
  {
   "cell_type": "code",
   "execution_count": 139,
   "metadata": {},
   "outputs": [],
   "source": [
    "y_pred = knn.predict(X_cv_tfidfw2v)"
   ]
  },
  {
   "cell_type": "code",
   "execution_count": 140,
   "metadata": {},
   "outputs": [
    {
     "data": {
      "text/plain": [
       "array([[   0,  644],\n",
       "       [   0, 5423]])"
      ]
     },
     "execution_count": 140,
     "metadata": {},
     "output_type": "execute_result"
    }
   ],
   "source": [
    "confusion_matrix(y_cv, y_pred)"
   ]
  },
  {
   "cell_type": "code",
   "execution_count": 141,
   "metadata": {},
   "outputs": [
    {
     "data": {
      "text/plain": [
       "array([[0],\n",
       "       [1],\n",
       "       [1],\n",
       "       ...,\n",
       "       [1],\n",
       "       [1],\n",
       "       [0]])"
      ]
     },
     "execution_count": 141,
     "metadata": {},
     "output_type": "execute_result"
    }
   ],
   "source": [
    "y_cv"
   ]
  },
  {
   "cell_type": "code",
   "execution_count": 129,
   "metadata": {},
   "outputs": [
    {
     "data": {
      "text/plain": [
       "17"
      ]
     },
     "execution_count": 129,
     "metadata": {},
     "output_type": "execute_result"
    }
   ],
   "source": [
    "k"
   ]
  },
  {
   "cell_type": "code",
   "execution_count": 130,
   "metadata": {},
   "outputs": [],
   "source": [
    "### load knn with best k value (brute algo)\n",
    "\n",
    "with open('pickle_files/word2vec_pickles/brute_kd_tree_knn.pkl', 'rb') as knn_pickle:\n",
    "    knn = pickle.load(knn_pickle)"
   ]
  },
  {
   "cell_type": "code",
   "execution_count": 131,
   "metadata": {},
   "outputs": [
    {
     "data": {
      "text/plain": [
       "17"
      ]
     },
     "execution_count": 131,
     "metadata": {},
     "output_type": "execute_result"
    }
   ],
   "source": [
    "knn.n_neighbors"
   ]
  },
  {
   "cell_type": "code",
   "execution_count": 132,
   "metadata": {},
   "outputs": [],
   "source": [
    "y_pred = knn.predict(X_test_tfidfw2v)"
   ]
  },
  {
   "cell_type": "code",
   "execution_count": 133,
   "metadata": {},
   "outputs": [
    {
     "data": {
      "text/plain": [
       "0.9386241164532158"
      ]
     },
     "execution_count": 133,
     "metadata": {},
     "output_type": "execute_result"
    }
   ],
   "source": [
    "f1_score(y_test, y_pred)"
   ]
  },
  {
   "cell_type": "markdown",
   "metadata": {},
   "source": [
    "# Summary"
   ]
  },
  {
   "cell_type": "code",
   "execution_count": 134,
   "metadata": {},
   "outputs": [],
   "source": [
    "from prettytable import PrettyTable"
   ]
  },
  {
   "cell_type": "code",
   "execution_count": 145,
   "metadata": {},
   "outputs": [],
   "source": [
    "pretty_table = PrettyTable()"
   ]
  },
  {
   "cell_type": "code",
   "execution_count": 146,
   "metadata": {},
   "outputs": [],
   "source": [
    "pretty_table.field_names = ['Vectorizer', 'Model', 'Hyperparameter (k) value', 'F1-score']"
   ]
  },
  {
   "cell_type": "code",
   "execution_count": 147,
   "metadata": {},
   "outputs": [],
   "source": [
    "pretty_table.add_row(['BoW', 'Brute k-NN', '13', '93.855'])\n",
    "pretty_table.add_row(['BoW', 'kd_tree k-NN', '15', '93.862'])\n",
    "pretty_table.add_row(['Tf-Idf', 'Brute k-NN', '17', '93.862'])\n",
    "pretty_table.add_row(['Tf-Idf', 'kd_tree k-NN', '9', '93.848'])\n",
    "pretty_table.add_row(['Avg_W2V', 'Brute k-NN', '1', '93.862'])\n",
    "pretty_table.add_row(['Avg_W2V', 'kd_tree k-NN', '1', '93.862'])\n",
    "pretty_table.add_row(['Tf-Idf_W2V', 'Brute k-NN', '17', '93.862'])\n",
    "pretty_table.add_row(['Tf-Idf_W2V', 'kd_tree k-NN', '17', '93.862'])"
   ]
  },
  {
   "cell_type": "code",
   "execution_count": 148,
   "metadata": {},
   "outputs": [
    {
     "name": "stdout",
     "output_type": "stream",
     "text": [
      "+------------+--------------+--------------------------+----------+\n",
      "| Vectorizer |    Model     | Hyperparameter (k) value | F1-score |\n",
      "+------------+--------------+--------------------------+----------+\n",
      "|    BoW     |  Brute k-NN  |            13            |  93.855  |\n",
      "|    BoW     | kd_tree k-NN |            15            |  93.862  |\n",
      "|   Tf-Idf   |  Brute k-NN  |            17            |  93.862  |\n",
      "|   Tf-Idf   | kd_tree k-NN |            9             |  93.848  |\n",
      "|  Avg_W2V   |  Brute k-NN  |            1             |  93.862  |\n",
      "|  Avg_W2V   | kd_tree k-NN |            1             |  93.862  |\n",
      "| Tf-Idf_W2V |  Brute k-NN  |            17            |  93.862  |\n",
      "| Tf-Idf_W2V | kd_tree k-NN |            17            |  93.862  |\n",
      "+------------+--------------+--------------------------+----------+\n"
     ]
    }
   ],
   "source": [
    "print(pretty_table)"
   ]
  }
 ],
 "metadata": {
  "kernelspec": {
   "display_name": "Python 3",
   "language": "python",
   "name": "python3"
  },
  "language_info": {
   "codemirror_mode": {
    "name": "ipython",
    "version": 3
   },
   "file_extension": ".py",
   "mimetype": "text/x-python",
   "name": "python",
   "nbconvert_exporter": "python",
   "pygments_lexer": "ipython3",
   "version": "3.6.5"
  }
 },
 "nbformat": 4,
 "nbformat_minor": 2
}
